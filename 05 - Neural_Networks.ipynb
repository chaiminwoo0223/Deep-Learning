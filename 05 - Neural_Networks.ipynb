{
  "nbformat": 4,
  "nbformat_minor": 0,
  "metadata": {
    "colab": {
      "provenance": [],
      "authorship_tag": "ABX9TyPwuNr11NuScNHD0vzuRn5Q",
      "include_colab_link": true
    },
    "kernelspec": {
      "name": "python3",
      "display_name": "Python 3"
    },
    "language_info": {
      "name": "python"
    },
    "accelerator": "GPU",
    "gpuClass": "standard"
  },
  "cells": [
    {
      "cell_type": "markdown",
      "metadata": {
        "id": "view-in-github",
        "colab_type": "text"
      },
      "source": [
        "<a href=\"https://colab.research.google.com/github/chaiminwoo0223/Deep-Learning/blob/main/05%20-%20Neural_Networks.ipynb\" target=\"_parent\"><img src=\"https://colab.research.google.com/assets/colab-badge.svg\" alt=\"Open In Colab\"/></a>"
      ]
    },
    {
      "cell_type": "markdown",
      "source": [
        "## 1.인공신경망\n",
        "- y = x^2 + 3\n"
      ],
      "metadata": {
        "id": "t7NQDQrmSar9"
      }
    },
    {
      "cell_type": "code",
      "execution_count": 1,
      "metadata": {
        "id": "lpOGPuSVSQMt"
      },
      "outputs": [],
      "source": [
        "import torch\n",
        "import torch.nn as nn\n",
        "import torch.optim as optim\n",
        "import torch.nn.init as init"
      ]
    },
    {
      "cell_type": "code",
      "source": [
        "num_data = 1000\n",
        "num_epoch = 10000"
      ],
      "metadata": {
        "id": "Nu1SMbEVTE6K"
      },
      "execution_count": 2,
      "outputs": []
    },
    {
      "cell_type": "code",
      "source": [
        "# 1000*1 노이즈 벡터 생성\n",
        "noise = init.normal_(torch.FloatTensor(num_data,1),std=1)\n",
        "# 1000*1 x 벡터 생성\n",
        "x = init.uniform_(torch.Tensor(num_data,1),-15,15)\n",
        "# 1000*1 y 벡터 생성\n",
        "y = (x**2) + 3\n",
        "# 1000*1 노이즈 섞인 y 벡터 생성\n",
        "y_noise = y + noise"
      ],
      "metadata": {
        "id": "vHERXdNxTbMK"
      },
      "execution_count": 3,
      "outputs": []
    },
    {
      "cell_type": "code",
      "source": [
        "print(y[:5])\n",
        "print(y_noise[:5])"
      ],
      "metadata": {
        "colab": {
          "base_uri": "https://localhost:8080/"
        },
        "id": "ZyLTm8J9Uppt",
        "outputId": "a6feed38-7e41-423c-8132-2f601b3e8d42"
      },
      "execution_count": 4,
      "outputs": [
        {
          "output_type": "stream",
          "name": "stdout",
          "text": [
            "tensor([[  4.6696],\n",
            "        [119.9925],\n",
            "        [ 18.8368],\n",
            "        [  8.4880],\n",
            "        [ 91.6080]])\n",
            "tensor([[  3.7672],\n",
            "        [120.7723],\n",
            "        [ 19.4911],\n",
            "        [  8.7031],\n",
            "        [ 90.7439]])\n"
          ]
        }
      ]
    },
    {
      "cell_type": "markdown",
      "source": [
        "## 2.모델, 손실함수, 최적화 함수"
      ],
      "metadata": {
        "id": "5lpKyIlPUzSX"
      }
    },
    {
      "cell_type": "code",
      "source": [
        "# 모델 생성\n",
        "model = nn.Sequential(nn.Linear(1,6),\n",
        "                      nn.ReLU(),\n",
        "                      nn.Linear(6,10),\n",
        "                      nn.ReLU(),\n",
        "                      nn.Linear(10,6),\n",
        "                      nn.ReLU(),\n",
        "                      nn.Linear(6,1))\n",
        "# 손실함수 생성\n",
        "loss_func = nn.L1Loss()\n",
        "# 최적화 함수 생성\n",
        "optimizer = optim.SGD(model.parameters(),lr=0.0002)"
      ],
      "metadata": {
        "id": "IrrTZ6UGUFkF"
      },
      "execution_count": 5,
      "outputs": []
    },
    {
      "cell_type": "markdown",
      "source": [
        "## 3.모델의 학습"
      ],
      "metadata": {
        "id": "u47IzvofV81q"
      }
    },
    {
      "cell_type": "code",
      "source": [
        "loss_array = []\n",
        "for i in range(num_epoch):\n",
        "    optimizer.zero_grad()\n",
        "    output = model(x)\n",
        "    loss = loss_func(output, y_noise)\n",
        "    loss.backward()\n",
        "    optimizer.step()\n",
        "\n",
        "    loss_array.append(loss.detach().numpy())"
      ],
      "metadata": {
        "id": "S0SxozYHVC3D"
      },
      "execution_count": 6,
      "outputs": []
    },
    {
      "cell_type": "markdown",
      "source": [
        "## 4.손실 그래프"
      ],
      "metadata": {
        "id": "xXURuFMsXHAT"
      }
    },
    {
      "cell_type": "code",
      "source": [
        "import matplotlib.pyplot as plt\n",
        "\n",
        "plt.plot(loss_array)\n",
        "plt.show()"
      ],
      "metadata": {
        "colab": {
          "base_uri": "https://localhost:8080/",
          "height": 265
        },
        "id": "rTIEU9o1Wu8p",
        "outputId": "41dcd54a-a3a4-433c-f658-9196f68fd2cc"
      },
      "execution_count": 7,
      "outputs": [
        {
          "output_type": "display_data",
          "data": {
            "text/plain": [
              "<Figure size 432x288 with 1 Axes>"
            ],
            "image/png": "[encoded data removed]"
          },
          "metadata": {
            "needs_background": "light"
          }
        }
      ]
    },
    {
      "cell_type": "markdown",
      "source": [
        "## 5.학습된 모델의 결과값과 실제 목표값의 비교"
      ],
      "metadata": {
        "id": "oEDVLehZXQdA"
      }
    },
    {
      "cell_type": "code",
      "source": [
        "plt.figure(figsize=(10,10))\n",
        "plt.scatter(x.detach().numpy(),y_noise,label=\"Original Data\")\n",
        "plt.scatter(x.detach().numpy(),output.detach().numpy(),label=\"Model Output\")\n",
        "plt.legend()\n",
        "plt.show()"
      ],
      "metadata": {
        "colab": {
          "base_uri": "https://localhost:8080/",
          "height": 592
        },
        "id": "pwoL9aaVW6bV",
        "outputId": "febefdbd-8b32-4977-f208-66f561a86db2"
      },
      "execution_count": 8,
      "outputs": [
        {
          "output_type": "display_data",
          "data": {
            "text/plain": [
              "<Figure size 720x720 with 1 Axes>"
            ],
            "image/png": "[encoded data removed]"
          },
          "metadata": {
            "needs_background": "light"
          }
        }
      ]
    },
    {
      "cell_type": "code",
      "source": [],
      "metadata": {
        "id": "Iix2yGijXDi0"
      },
      "execution_count": 8,
      "outputs": []
    }
  ]
}