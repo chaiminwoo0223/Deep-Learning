{
  "nbformat": 4,
  "nbformat_minor": 0,
  "metadata": {
    "colab": {
      "provenance": [],
      "authorship_tag": "ABX9TyM/23bJIlA3tISczmr3og54",
      "include_colab_link": true
    },
    "kernelspec": {
      "name": "python3",
      "display_name": "Python 3"
    },
    "language_info": {
      "name": "python"
    },
    "accelerator": "GPU",
    "gpuClass": "standard"
  },
  "cells": [
    {
      "cell_type": "markdown",
      "metadata": {
        "id": "view-in-github",
        "colab_type": "text"
      },
      "source": [
        "<a href=\"https://colab.research.google.com/github/chaiminwoo0223/Deep-Learning/blob/main/02%20-%20PyTorch_Tensor.ipynb\" target=\"_parent\"><img src=\"https://colab.research.google.com/assets/colab-badge.svg\" alt=\"Open In Colab\"/></a>"
      ]
    },
    {
      "cell_type": "markdown",
      "source": [
        "## 1.Tensor"
      ],
      "metadata": {
        "id": "4gq80lrmx-qX"
      }
    },
    {
      "cell_type": "code",
      "execution_count": 1,
      "metadata": {
        "colab": {
          "base_uri": "https://localhost:8080/"
        },
        "id": "G-ewQUh2xyI1",
        "outputId": "f9388e98-03ae-4d68-8f6d-780e03949578"
      },
      "outputs": [
        {
          "output_type": "stream",
          "name": "stdout",
          "text": [
            "Looking in indexes: https://pypi.org/simple, https://us-python.pkg.dev/colab-wheels/public/simple/\n",
            "Requirement already satisfied: torch in /usr/local/lib/python3.9/dist-packages (1.13.1+cu116)\n",
            "Requirement already satisfied: torchvision in /usr/local/lib/python3.9/dist-packages (0.14.1+cu116)\n",
            "Requirement already satisfied: typing-extensions in /usr/local/lib/python3.9/dist-packages (from torch) (4.5.0)\n",
            "Requirement already satisfied: pillow!=8.3.*,>=5.3.0 in /usr/local/lib/python3.9/dist-packages (from torchvision) (8.4.0)\n",
            "Requirement already satisfied: numpy in /usr/local/lib/python3.9/dist-packages (from torchvision) (1.22.4)\n",
            "Requirement already satisfied: requests in /usr/local/lib/python3.9/dist-packages (from torchvision) (2.25.1)\n",
            "Requirement already satisfied: idna<3,>=2.5 in /usr/local/lib/python3.9/dist-packages (from requests->torchvision) (2.10)\n",
            "Requirement already satisfied: certifi>=2017.4.17 in /usr/local/lib/python3.9/dist-packages (from requests->torchvision) (2022.12.7)\n",
            "Requirement already satisfied: urllib3<1.27,>=1.21.1 in /usr/local/lib/python3.9/dist-packages (from requests->torchvision) (1.26.15)\n",
            "Requirement already satisfied: chardet<5,>=3.0.2 in /usr/local/lib/python3.9/dist-packages (from requests->torchvision) (4.0.0)\n"
          ]
        }
      ],
      "source": [
        "!pip3 install torch torchvision\n",
        "import torch"
      ]
    },
    {
      "cell_type": "code",
      "source": [
        "# torch.rand() : [0,1)\n",
        "x = torch.rand(2,3)\n",
        "print(x)"
      ],
      "metadata": {
        "colab": {
          "base_uri": "https://localhost:8080/"
        },
        "id": "i-iV5wNcyNNL",
        "outputId": "d14fa381-b1d6-4bb5-8296-567d6d6dc3ad"
      },
      "execution_count": 2,
      "outputs": [
        {
          "output_type": "stream",
          "name": "stdout",
          "text": [
            "tensor([[0.8016, 0.0365, 0.9593],\n",
            "        [0.8642, 0.2495, 0.3342]])\n"
          ]
        }
      ]
    },
    {
      "cell_type": "code",
      "source": [
        "# torch.randn() : 가우시안 정규분포에서 샘플링한 값\n",
        "# Random Normal\n",
        "x = torch.randn(2,3)\n",
        "print(x)"
      ],
      "metadata": {
        "colab": {
          "base_uri": "https://localhost:8080/"
        },
        "id": "V0-Hksbyyh_2",
        "outputId": "83e05b11-a8b1-41dc-d59d-17a161d48bef"
      },
      "execution_count": 3,
      "outputs": [
        {
          "output_type": "stream",
          "name": "stdout",
          "text": [
            "tensor([[-0.0285,  1.1863,  0.8162],\n",
            "        [ 0.1314,  0.8036,  1.4859]])\n"
          ]
        }
      ]
    },
    {
      "cell_type": "code",
      "source": [
        "# torch.randint() : 시작과 끝 사이의 랜덤한 자연수\n",
        "# Random Integer\n",
        "x = torch.randint(2,5,size=(2,3))\n",
        "print(x)"
      ],
      "metadata": {
        "colab": {
          "base_uri": "https://localhost:8080/"
        },
        "id": "LJlssAtDzTpp",
        "outputId": "02e4ea4b-c4d8-44d9-ee09-6cc6452cc268"
      },
      "execution_count": 4,
      "outputs": [
        {
          "output_type": "stream",
          "name": "stdout",
          "text": [
            "tensor([[4, 2, 2],\n",
            "        [4, 3, 4]])\n"
          ]
        }
      ]
    },
    {
      "cell_type": "markdown",
      "source": [
        "## 2.Zeros & Ones"
      ],
      "metadata": {
        "id": "eWcQdUYq0g19"
      }
    },
    {
      "cell_type": "code",
      "source": [
        "# torch.zeros() : 0으로 채워진 텐서\n",
        "x = torch.zeros(2,3)\n",
        "print(x)"
      ],
      "metadata": {
        "colab": {
          "base_uri": "https://localhost:8080/"
        },
        "id": "6xrNsO07z8Un",
        "outputId": "53e7a7e9-56b9-4c20-92f7-ff3391cfc474"
      },
      "execution_count": 5,
      "outputs": [
        {
          "output_type": "stream",
          "name": "stdout",
          "text": [
            "tensor([[0., 0., 0.],\n",
            "        [0., 0., 0.]])\n"
          ]
        }
      ]
    },
    {
      "cell_type": "code",
      "source": [
        "# 인자로 들어오는 텐서와 형태가 같은 0으로 채워진 텐서\n",
        "ref = torch.rand(4,5)\n",
        "x = torch.zeros_like(ref)\n",
        "print(ref)\n",
        "print(x)"
      ],
      "metadata": {
        "colab": {
          "base_uri": "https://localhost:8080/"
        },
        "id": "WVmi7qE91B3x",
        "outputId": "4baac43a-d32e-45f9-ce90-74816db64179"
      },
      "execution_count": 6,
      "outputs": [
        {
          "output_type": "stream",
          "name": "stdout",
          "text": [
            "tensor([[0.5305, 0.9230, 0.9606, 0.1778, 0.0463],\n",
            "        [0.8384, 0.9504, 0.0268, 0.8404, 0.6230],\n",
            "        [0.6982, 0.1825, 0.3707, 0.7494, 0.1058],\n",
            "        [0.0213, 0.0645, 0.4140, 0.8509, 0.9808]])\n",
            "tensor([[0., 0., 0., 0., 0.],\n",
            "        [0., 0., 0., 0., 0.],\n",
            "        [0., 0., 0., 0., 0.],\n",
            "        [0., 0., 0., 0., 0.]])\n"
          ]
        }
      ]
    },
    {
      "cell_type": "code",
      "source": [
        "# torch.ones() : 1로 채워진 텐서\n",
        "x = torch.ones(2,3)\n",
        "print(x)"
      ],
      "metadata": {
        "colab": {
          "base_uri": "https://localhost:8080/"
        },
        "id": "CArX63av1RLU",
        "outputId": "ed5d1663-23ef-41f1-efbe-4afb3a064416"
      },
      "execution_count": 7,
      "outputs": [
        {
          "output_type": "stream",
          "name": "stdout",
          "text": [
            "tensor([[1., 1., 1.],\n",
            "        [1., 1., 1.]])\n"
          ]
        }
      ]
    },
    {
      "cell_type": "code",
      "source": [
        "# 인자로 들어오는 텐서와 형태가 같은 1로 채워진 텐서\n",
        "ref = torch.rand(4,5)\n",
        "x = torch.ones_like(ref)\n",
        "print(ref)\n",
        "print(x)"
      ],
      "metadata": {
        "colab": {
          "base_uri": "https://localhost:8080/"
        },
        "id": "FldgvzSm1ycZ",
        "outputId": "e4a5ac0b-5727-49bd-e68e-f70f8a3cac80"
      },
      "execution_count": 8,
      "outputs": [
        {
          "output_type": "stream",
          "name": "stdout",
          "text": [
            "tensor([[0.3407, 0.2449, 0.7952, 0.3273, 0.3098],\n",
            "        [0.9217, 0.9615, 0.4275, 0.8330, 0.2593],\n",
            "        [0.1140, 0.9368, 0.6196, 0.1799, 0.2937],\n",
            "        [0.5748, 0.3481, 0.1948, 0.0541, 0.1119]])\n",
            "tensor([[1., 1., 1., 1., 1.],\n",
            "        [1., 1., 1., 1., 1.],\n",
            "        [1., 1., 1., 1., 1.],\n",
            "        [1., 1., 1., 1., 1.]])\n"
          ]
        }
      ]
    },
    {
      "cell_type": "markdown",
      "source": [
        "## 3.Tensor Data Type"
      ],
      "metadata": {
        "id": "4OnIspAh1_R4"
      }
    },
    {
      "cell_type": "code",
      "source": [
        "# tensor.type() : 텐서의 데이터 타입을 리턴\n",
        "x = torch.rand(2,3)\n",
        "print(x.type())    # 파이토치에 정의된 메소드\n",
        "print(type(x))     # 파이썬에 정의된 함수"
      ],
      "metadata": {
        "colab": {
          "base_uri": "https://localhost:8080/"
        },
        "id": "5PVrqS-710sk",
        "outputId": "24172ed2-7fb0-4f47-abc7-2bd81a932e21"
      },
      "execution_count": 9,
      "outputs": [
        {
          "output_type": "stream",
          "name": "stdout",
          "text": [
            "torch.FloatTensor\n",
            "<class 'torch.Tensor'>\n"
          ]
        }
      ]
    },
    {
      "cell_type": "code",
      "source": [
        "# tensor.type()을 dtype과 함께 사용하면, 텐서의 데이터 타입을 dtype에 넣어준 데이터 타입으로 변환\n",
        "double_x = x.type(dtype=torch.DoubleTensor)\n",
        "print(double_x.type())"
      ],
      "metadata": {
        "colab": {
          "base_uri": "https://localhost:8080/"
        },
        "id": "il2vKF3o2qK9",
        "outputId": "266a9129-508b-4dce-d7a1-aeca962d5435"
      },
      "execution_count": 10,
      "outputs": [
        {
          "output_type": "stream",
          "name": "stdout",
          "text": [
            "torch.DoubleTensor\n"
          ]
        }
      ]
    },
    {
      "cell_type": "code",
      "source": [
        "# tensor.type_as() : 텐서의 데이터 타입을 변환\n",
        "int_x = x.type_as(torch.IntTensor())\n",
        "print(int_x.type())"
      ],
      "metadata": {
        "colab": {
          "base_uri": "https://localhost:8080/"
        },
        "id": "-n6YIQ1R3xMk",
        "outputId": "3466afc4-e3c4-4012-a42a-1c1dd90e69aa"
      },
      "execution_count": 11,
      "outputs": [
        {
          "output_type": "stream",
          "name": "stdout",
          "text": [
            "torch.IntTensor\n"
          ]
        }
      ]
    },
    {
      "cell_type": "markdown",
      "source": [
        "## 4.Numpy to Tensor & Tensor to Numpy"
      ],
      "metadata": {
        "id": "YzVRJX0c5MDx"
      }
    },
    {
      "cell_type": "code",
      "source": [
        "import numpy as np"
      ],
      "metadata": {
        "id": "_e9ZFSpM4tJU"
      },
      "execution_count": 12,
      "outputs": []
    },
    {
      "cell_type": "code",
      "source": [
        "# torch.from_numpy(ndarray) : 넘파이 배열을 토치 텐서로 변환\n",
        "x1 = np.ndarray(shape=(2,3), dtype=int,buffer=np.array([1,2,3,4,5,6]))\n",
        "x2 = torch.from_numpy(x1)\n",
        "print(x1)\n",
        "print(x2, x2.type())"
      ],
      "metadata": {
        "colab": {
          "base_uri": "https://localhost:8080/"
        },
        "id": "xiEkBloC5YKc",
        "outputId": "cdd53dc8-e2be-42e6-80a0-2f1a63afab90"
      },
      "execution_count": 13,
      "outputs": [
        {
          "output_type": "stream",
          "name": "stdout",
          "text": [
            "[[1 2 3]\n",
            " [4 5 6]]\n",
            "tensor([[1, 2, 3],\n",
            "        [4, 5, 6]]) torch.LongTensor\n"
          ]
        }
      ]
    },
    {
      "cell_type": "code",
      "source": [
        "# tensor.numpy() : 토치 텐서를 넘파이 배열로 변환\n",
        "x3 = x2.numpy()\n",
        "print(x2)\n",
        "print(x3)"
      ],
      "metadata": {
        "colab": {
          "base_uri": "https://localhost:8080/"
        },
        "id": "-fwjq0Hb6dZv",
        "outputId": "2a55d093-e086-4043-bbd7-7149ef33481e"
      },
      "execution_count": 14,
      "outputs": [
        {
          "output_type": "stream",
          "name": "stdout",
          "text": [
            "tensor([[1, 2, 3],\n",
            "        [4, 5, 6]])\n",
            "[[1 2 3]\n",
            " [4 5 6]]\n"
          ]
        }
      ]
    },
    {
      "cell_type": "markdown",
      "source": [
        "## 5.Tensor on CPU & GPU"
      ],
      "metadata": {
        "id": "s-PJ_kBg7urX"
      }
    },
    {
      "cell_type": "code",
      "source": [
        "# 배열을 인자로 넣어 토치 텐서를 생성\n",
        "x = torch.FloatTensor([[1,2,3],[4,5,6]])\n",
        "print(x)"
      ],
      "metadata": {
        "colab": {
          "base_uri": "https://localhost:8080/"
        },
        "id": "ndJ9xW0_7BQT",
        "outputId": "8619793b-dc39-48ad-b086-4119194519a7"
      },
      "execution_count": 15,
      "outputs": [
        {
          "output_type": "stream",
          "name": "stdout",
          "text": [
            "tensor([[1., 2., 3.],\n",
            "        [4., 5., 6.]])\n"
          ]
        }
      ]
    },
    {
      "cell_type": "code",
      "source": [
        "# device 함수수를 사용해, 텐서를 원하는 장치로 이동\n",
        "cpu = torch.device('cpu')\n",
        "gpu = torch.device('cuda')"
      ],
      "metadata": {
        "id": "jK_eq8cM8PUE"
      },
      "execution_count": 16,
      "outputs": []
    },
    {
      "cell_type": "code",
      "source": [
        "# gpu가 사용 가능한지 체크\n",
        "# .to 함수를 이용해, 지정한 장치로 이동\n",
        "if torch.cuda.is_available():\n",
        "  x_gpu = x.to(gpu)\n",
        "  print(x_gpu)\n",
        "  \n",
        "x_cpu = x_gpu.to(cpu)\n",
        "print(x_cpu)"
      ],
      "metadata": {
        "colab": {
          "base_uri": "https://localhost:8080/"
        },
        "id": "ZYmRetBw8oQh",
        "outputId": "864d9c97-6c1b-494d-c240-aa688b4f6519"
      },
      "execution_count": 17,
      "outputs": [
        {
          "output_type": "stream",
          "name": "stdout",
          "text": [
            "tensor([[1., 2., 3.],\n",
            "        [4., 5., 6.]], device='cuda:0')\n",
            "tensor([[1., 2., 3.],\n",
            "        [4., 5., 6.]])\n"
          ]
        }
      ]
    },
    {
      "cell_type": "code",
      "source": [
        "# tensor.size() : 텐서의 형태를 확인\n",
        "\n",
        "# 대괄호 없음 = 사이즈를 지정\n",
        "x = torch.FloatTensor(10,12,3,3)\n",
        "print(x.size(), x.size()[1:2], sep=\"\\n\")\n",
        "# 대괄호 있음 = 값을 지정\n",
        "x = torch.FloatTensor([10,12,3,3])\n",
        "print(x.size(), x.size()[0], sep=\"\\n\")"
      ],
      "metadata": {
        "id": "xw1edLuC9Sxw",
        "colab": {
          "base_uri": "https://localhost:8080/"
        },
        "outputId": "b518a3c1-c036-4d96-e826-695955d275d8"
      },
      "execution_count": 18,
      "outputs": [
        {
          "output_type": "stream",
          "name": "stdout",
          "text": [
            "torch.Size([10, 12, 3, 3])\n",
            "torch.Size([12])\n",
            "torch.Size([4])\n",
            "4\n"
          ]
        }
      ]
    },
    {
      "cell_type": "markdown",
      "source": [
        "## 6.Indexing, Joining, Slicing & Squeezing"
      ],
      "metadata": {
        "id": "YcCGqW0kqtr7"
      }
    },
    {
      "cell_type": "code",
      "source": [
        "# Indexing\n",
        "x = torch.randn(4,3)\n",
        "print(x)\n",
        "print(x[1:3])"
      ],
      "metadata": {
        "id": "wVlJrSC593cA",
        "colab": {
          "base_uri": "https://localhost:8080/"
        },
        "outputId": "24e74363-ea71-4aa0-cb7d-6dd025471977"
      },
      "execution_count": 19,
      "outputs": [
        {
          "output_type": "stream",
          "name": "stdout",
          "text": [
            "tensor([[-0.5262,  0.2443,  1.7302],\n",
            "        [ 0.3356, -0.0902,  1.2987],\n",
            "        [-1.2724, -0.3181, -0.7836],\n",
            "        [ 1.6574, -0.1558,  0.5152]])\n",
            "tensor([[ 0.3356, -0.0902,  1.2987],\n",
            "        [-1.2724, -0.3181, -0.7836]])\n"
          ]
        }
      ]
    },
    {
      "cell_type": "code",
      "source": [
        "# torch.index_select() : 지정한 차원 기준으로 원하는 값들을 선택할 수 있음\n",
        "selected = torch.index_select(x,dim=1,index=torch.LongTensor([0,2]))\n",
        "print(x)\n",
        "print(selected)"
      ],
      "metadata": {
        "colab": {
          "base_uri": "https://localhost:8080/"
        },
        "id": "u5OodLfRrN8C",
        "outputId": "2ac3a83d-7ef4-44e3-a0a1-6400a91edb64"
      },
      "execution_count": 20,
      "outputs": [
        {
          "output_type": "stream",
          "name": "stdout",
          "text": [
            "tensor([[-0.5262,  0.2443,  1.7302],\n",
            "        [ 0.3356, -0.0902,  1.2987],\n",
            "        [-1.2724, -0.3181, -0.7836],\n",
            "        [ 1.6574, -0.1558,  0.5152]])\n",
            "tensor([[-0.5262,  1.7302],\n",
            "        [ 0.3356,  1.2987],\n",
            "        [-1.2724, -0.7836],\n",
            "        [ 1.6574,  0.5152]])\n"
          ]
        }
      ]
    },
    {
      "cell_type": "code",
      "source": [
        "# torch.masked_select(input, mask) : 뽑고자 하는 값들을 마스킹해서 선택할 수 있음\n",
        "x = torch.randn(2,3)\n",
        "mask = torch.ByteTensor([[0,0,1],[0,1,0]])\n",
        "out = torch.masked_select(x,mask)\n",
        "print(x, mask, out, sep=\"\\n\\n\")"
      ],
      "metadata": {
        "colab": {
          "base_uri": "https://localhost:8080/"
        },
        "id": "ruduxZvzsR-r",
        "outputId": "cc8d5e89-790e-4c29-da26-849be507335d"
      },
      "execution_count": 21,
      "outputs": [
        {
          "output_type": "stream",
          "name": "stdout",
          "text": [
            "tensor([[ 1.0843,  0.5223,  0.6931],\n",
            "        [-1.1080,  0.6266,  1.2111]])\n",
            "\n",
            "tensor([[0, 0, 1],\n",
            "        [0, 1, 0]], dtype=torch.uint8)\n",
            "\n",
            "tensor([0.6931, 0.6266])\n"
          ]
        },
        {
          "output_type": "stream",
          "name": "stderr",
          "text": [
            "<ipython-input-21-1b7d35e77d78>:4: UserWarning: masked_select received a mask with dtype torch.uint8, this behavior is now deprecated,please use a mask with dtype torch.bool instead. (Triggered internally at ../aten/src/ATen/native/TensorAdvancedIndexing.cpp:1729.)\n",
            "  out = torch.masked_select(x,mask)\n"
          ]
        }
      ]
    },
    {
      "cell_type": "code",
      "source": [
        "# torch.cat(seq, dim=0) : 텐서를 원하는대로 붙일 수 있음\n",
        "x = torch.FloatTensor([[1,2,3],[4,5,6]])       # 2*3\n",
        "y = torch.FloatTensor([[-1,-2,-3],[-4,-5,-6]]) # 2*3\n",
        "z1 = torch.cat([x,y],dim=0)                    # 4*3\n",
        "z2 = torch.cat([x,y],dim=1)                    # 2*6\n",
        "print(x,y,z1,z2,sep=\"\\n\\n\")"
      ],
      "metadata": {
        "colab": {
          "base_uri": "https://localhost:8080/"
        },
        "id": "To0NaiSotcia",
        "outputId": "102381bb-11bc-4c81-ac67-b4c93d5fd0f3"
      },
      "execution_count": 22,
      "outputs": [
        {
          "output_type": "stream",
          "name": "stdout",
          "text": [
            "tensor([[1., 2., 3.],\n",
            "        [4., 5., 6.]])\n",
            "\n",
            "tensor([[-1., -2., -3.],\n",
            "        [-4., -5., -6.]])\n",
            "\n",
            "tensor([[ 1.,  2.,  3.],\n",
            "        [ 4.,  5.,  6.],\n",
            "        [-1., -2., -3.],\n",
            "        [-4., -5., -6.]])\n",
            "\n",
            "tensor([[ 1.,  2.,  3., -1., -2., -3.],\n",
            "        [ 4.,  5.,  6., -4., -5., -6.]])\n"
          ]
        }
      ]
    },
    {
      "cell_type": "code",
      "source": [
        "# torch.stack(seq, dim=0) : 텐서를 원하는대로 붙일 수 있음(차원 확장)\n",
        "x = torch.FloatTensor([[1,2,3],[4,5,6]]) # 2*3\n",
        "x_stack = torch.stack([x,x,x,x],dim=0)   # 4*2*3\n",
        "print(x_stack,x_stack.size(),sep=\"\\n\\n\")"
      ],
      "metadata": {
        "colab": {
          "base_uri": "https://localhost:8080/"
        },
        "id": "tQbhKwLWu6zS",
        "outputId": "687a146d-7906-4cd5-aa81-456a5e398e48"
      },
      "execution_count": 23,
      "outputs": [
        {
          "output_type": "stream",
          "name": "stdout",
          "text": [
            "tensor([[[1., 2., 3.],\n",
            "         [4., 5., 6.]],\n",
            "\n",
            "        [[1., 2., 3.],\n",
            "         [4., 5., 6.]],\n",
            "\n",
            "        [[1., 2., 3.],\n",
            "         [4., 5., 6.]],\n",
            "\n",
            "        [[1., 2., 3.],\n",
            "         [4., 5., 6.]]])\n",
            "\n",
            "torch.Size([4, 2, 3])\n"
          ]
        }
      ]
    },
    {
      "cell_type": "code",
      "source": [
        "# torch.chunk(tensor, chunks, dim=0) : 텐서를 원하는 chunk 개수만큼 분리할 수 있음\n",
        "x_1, x_2 = torch.chunk(z1,2,dim=0)\n",
        "y_1, y_2, y_3 = torch.chunk(z1,3,dim=1)\n",
        "print(z1,x_1,x_2,z1,y_1,y_2,y_3,sep=\"\\n\\n\")"
      ],
      "metadata": {
        "colab": {
          "base_uri": "https://localhost:8080/"
        },
        "id": "efuLSK7lv9Pv",
        "outputId": "97ac5aa8-6bcd-45b0-bb6c-f9d5cc25589f"
      },
      "execution_count": 24,
      "outputs": [
        {
          "output_type": "stream",
          "name": "stdout",
          "text": [
            "tensor([[ 1.,  2.,  3.],\n",
            "        [ 4.,  5.,  6.],\n",
            "        [-1., -2., -3.],\n",
            "        [-4., -5., -6.]])\n",
            "\n",
            "tensor([[1., 2., 3.],\n",
            "        [4., 5., 6.]])\n",
            "\n",
            "tensor([[-1., -2., -3.],\n",
            "        [-4., -5., -6.]])\n",
            "\n",
            "tensor([[ 1.,  2.,  3.],\n",
            "        [ 4.,  5.,  6.],\n",
            "        [-1., -2., -3.],\n",
            "        [-4., -5., -6.]])\n",
            "\n",
            "tensor([[ 1.],\n",
            "        [ 4.],\n",
            "        [-1.],\n",
            "        [-4.]])\n",
            "\n",
            "tensor([[ 2.],\n",
            "        [ 5.],\n",
            "        [-2.],\n",
            "        [-5.]])\n",
            "\n",
            "tensor([[ 3.],\n",
            "        [ 6.],\n",
            "        [-3.],\n",
            "        [-6.]])\n"
          ]
        }
      ]
    },
    {
      "cell_type": "code",
      "source": [
        "# torch.split(tensor, split_size, dim=0) : 원하는 사이즈로 텐서를 자를 수 있음\n",
        "x1,x2 = torch.split(z1,2,dim=0)\n",
        "y1 = torch.split(z1,2,dim=1) \n",
        "print(z1,x1,x2,sep=\"\\n\\n\")\n",
        "print(\"This is y1:\")\n",
        "for i in y1:\n",
        "  print(i)"
      ],
      "metadata": {
        "colab": {
          "base_uri": "https://localhost:8080/"
        },
        "id": "uFcNhgCmyC6I",
        "outputId": "d12d6ffd-d6ad-405c-dee7-3b92ee1a1e93"
      },
      "execution_count": 25,
      "outputs": [
        {
          "output_type": "stream",
          "name": "stdout",
          "text": [
            "tensor([[ 1.,  2.,  3.],\n",
            "        [ 4.,  5.,  6.],\n",
            "        [-1., -2., -3.],\n",
            "        [-4., -5., -6.]])\n",
            "\n",
            "tensor([[1., 2., 3.],\n",
            "        [4., 5., 6.]])\n",
            "\n",
            "tensor([[-1., -2., -3.],\n",
            "        [-4., -5., -6.]])\n",
            "This is y1:\n",
            "tensor([[ 1.,  2.],\n",
            "        [ 4.,  5.],\n",
            "        [-1., -2.],\n",
            "        [-4., -5.]])\n",
            "tensor([[ 3.],\n",
            "        [ 6.],\n",
            "        [-3.],\n",
            "        [-6.]])\n"
          ]
        }
      ]
    },
    {
      "cell_type": "code",
      "source": [
        "# torch.squeeze(input, dim=None) : 길이가 1인 차원들을 압축시킬 수 있음\n",
        "x1 = torch.FloatTensor(10,1,3,1,4)\n",
        "x2 = torch.squeeze(x1)\n",
        "print(x1.size(),x2.size(),sep=\"\\n\")"
      ],
      "metadata": {
        "colab": {
          "base_uri": "https://localhost:8080/"
        },
        "id": "XhR9jurT0Fr6",
        "outputId": "8a2b9929-3a22-4bb6-ffaf-904cea2d27f3"
      },
      "execution_count": 26,
      "outputs": [
        {
          "output_type": "stream",
          "name": "stdout",
          "text": [
            "torch.Size([10, 1, 3, 1, 4])\n",
            "torch.Size([10, 3, 4])\n"
          ]
        }
      ]
    },
    {
      "cell_type": "code",
      "source": [
        "# torch.unsqueeze(input, dim=None) 차원을 늘릴수 있음\n",
        "x1 = torch.FloatTensor(10,3,4)\n",
        "x2 = torch.unsqueeze(x1,dim=0)\n",
        "print(x1.size(),x2.size(),sep=\"\\n\")"
      ],
      "metadata": {
        "colab": {
          "base_uri": "https://localhost:8080/"
        },
        "id": "p7XUveM00b4v",
        "outputId": "4bf6b8e2-c0dc-4ec9-c92b-702d2ffeccf2"
      },
      "execution_count": 27,
      "outputs": [
        {
          "output_type": "stream",
          "name": "stdout",
          "text": [
            "torch.Size([10, 3, 4])\n",
            "torch.Size([1, 10, 3, 4])\n"
          ]
        }
      ]
    },
    {
      "cell_type": "markdown",
      "source": [
        "## 7.Initialization"
      ],
      "metadata": {
        "id": "BtDuIZFL1yam"
      }
    },
    {
      "cell_type": "code",
      "source": [
        "import torch.nn.init as init"
      ],
      "metadata": {
        "id": "R8qNTPyM0zmc"
      },
      "execution_count": 28,
      "outputs": []
    },
    {
      "cell_type": "code",
      "source": [
        "# uniform 분포를 따라 텐서를 초기화 할 수 있음\n",
        "x1 = init.uniform_(torch.FloatTensor(3,4),a=0,b=9)\n",
        "# 정규 분포를 따라 텐서를 초기화 할 수 있음\n",
        "x2 = init.normal_(torch.FloatTensor(3,4),std=0.2)\n",
        "# 지정한 값으로 텐서를 초기화 할 수 있음\n",
        "x3 = init.constant_(torch.FloatTensor(3,4),3.1415)\n",
        "print(x1,x2,x3,sep=\"\\n\")"
      ],
      "metadata": {
        "colab": {
          "base_uri": "https://localhost:8080/"
        },
        "id": "Ff0l8OHQ18wp",
        "outputId": "e44437b1-4d98-4c3d-d6e8-92195c76bece"
      },
      "execution_count": 29,
      "outputs": [
        {
          "output_type": "stream",
          "name": "stdout",
          "text": [
            "tensor([[8.6250, 6.4364, 2.9307, 6.6168],\n",
            "        [7.3690, 2.9862, 1.2646, 0.5895],\n",
            "        [7.1859, 4.4170, 5.2028, 5.2246]])\n",
            "tensor([[ 0.1731, -0.0556, -0.4226, -0.0914],\n",
            "        [-0.0598, -0.3945,  0.0012, -0.2390],\n",
            "        [ 0.2651,  0.1580, -0.2158,  0.0284]])\n",
            "tensor([[3.1415, 3.1415, 3.1415, 3.1415],\n",
            "        [3.1415, 3.1415, 3.1415, 3.1415],\n",
            "        [3.1415, 3.1415, 3.1415, 3.1415]])\n"
          ]
        }
      ]
    },
    {
      "cell_type": "markdown",
      "source": [
        "## 8.Math Operations"
      ],
      "metadata": {
        "id": "_Jc2mXq93DDW"
      }
    },
    {
      "cell_type": "code",
      "source": [
        "# torch.add(): 더하기 연산\n",
        "x1 = torch.FloatTensor([[1,2,3],[4,5,6]])\n",
        "x2 = torch.FloatTensor([[1,2,3],[4,5,6]])\n",
        "add = torch.add(x1,x2)\n",
        "print(x1,x2,add,x1+x2,sep=\"\\n\")"
      ],
      "metadata": {
        "colab": {
          "base_uri": "https://localhost:8080/"
        },
        "id": "tHmlQsJ62Qiw",
        "outputId": "28a105b9-1649-4ac9-9ac7-866953e73a00"
      },
      "execution_count": 30,
      "outputs": [
        {
          "output_type": "stream",
          "name": "stdout",
          "text": [
            "tensor([[1., 2., 3.],\n",
            "        [4., 5., 6.]])\n",
            "tensor([[1., 2., 3.],\n",
            "        [4., 5., 6.]])\n",
            "tensor([[ 2.,  4.,  6.],\n",
            "        [ 8., 10., 12.]])\n",
            "tensor([[ 2.,  4.,  6.],\n",
            "        [ 8., 10., 12.]])\n"
          ]
        }
      ]
    },
    {
      "cell_type": "code",
      "source": [
        "# torch.add() -> broadcasting\n",
        "x1 = torch.FloatTensor([[1,2,3],[4,5,6]])\n",
        "x2 = torch.add(x1,10)\n",
        "print(x1,x2,x1+10,sep=\"\\n\")"
      ],
      "metadata": {
        "colab": {
          "base_uri": "https://localhost:8080/"
        },
        "id": "-hJym5fd3aux",
        "outputId": "4193e75d-3375-4935-a04b-dccfd4d4c026"
      },
      "execution_count": 31,
      "outputs": [
        {
          "output_type": "stream",
          "name": "stdout",
          "text": [
            "tensor([[1., 2., 3.],\n",
            "        [4., 5., 6.]])\n",
            "tensor([[11., 12., 13.],\n",
            "        [14., 15., 16.]])\n",
            "tensor([[11., 12., 13.],\n",
            "        [14., 15., 16.]])\n"
          ]
        }
      ]
    },
    {
      "cell_type": "code",
      "source": [
        "# torch.sub(): 빼기 연산\n",
        "x1 = torch.FloatTensor([[1,2,3],[4,5,6]])\n",
        "x2 = torch.FloatTensor([[1,2,3],[4,5,6]])\n",
        "sub = torch.sub(x1,x2)\n",
        "print(x1,x2,sub,x1-x2,sep=\"\\n\")"
      ],
      "metadata": {
        "colab": {
          "base_uri": "https://localhost:8080/"
        },
        "id": "un6pSu_k6SSu",
        "outputId": "eac97af0-81c4-4728-b3d2-d36376b51aee"
      },
      "execution_count": 32,
      "outputs": [
        {
          "output_type": "stream",
          "name": "stdout",
          "text": [
            "tensor([[1., 2., 3.],\n",
            "        [4., 5., 6.]])\n",
            "tensor([[1., 2., 3.],\n",
            "        [4., 5., 6.]])\n",
            "tensor([[0., 0., 0.],\n",
            "        [0., 0., 0.]])\n",
            "tensor([[0., 0., 0.],\n",
            "        [0., 0., 0.]])\n"
          ]
        }
      ]
    },
    {
      "cell_type": "code",
      "source": [
        "# torch.sub() -> broadcasting\n",
        "x1 = torch.FloatTensor([[1,2,3],[4,5,6]])\n",
        "x2 = torch.sub(x1,10)\n",
        "print(x1,x2,x1-10,sep=\"\\n\")"
      ],
      "metadata": {
        "colab": {
          "base_uri": "https://localhost:8080/"
        },
        "id": "w4N3xoWv64pR",
        "outputId": "579a3a64-c02b-4295-bd80-5313354cb046"
      },
      "execution_count": 33,
      "outputs": [
        {
          "output_type": "stream",
          "name": "stdout",
          "text": [
            "tensor([[1., 2., 3.],\n",
            "        [4., 5., 6.]])\n",
            "tensor([[-9., -8., -7.],\n",
            "        [-6., -5., -4.]])\n",
            "tensor([[-9., -8., -7.],\n",
            "        [-6., -5., -4.]])\n"
          ]
        }
      ]
    },
    {
      "cell_type": "code",
      "source": [
        "# torch.mul() : 곱하기 연산(사이즈 일치)\n",
        "x1 = torch.FloatTensor([[1,2,3],[4,5,6]])\n",
        "x2 = torch.FloatTensor([[1,2,3],[4,5,6]])\n",
        "x3 = torch.mul(x1,x2)\n",
        "print(x3)"
      ],
      "metadata": {
        "colab": {
          "base_uri": "https://localhost:8080/"
        },
        "id": "wBYXDXqV3zbs",
        "outputId": "2dc26dee-f800-470e-8605-4ef1776dc986"
      },
      "execution_count": 34,
      "outputs": [
        {
          "output_type": "stream",
          "name": "stdout",
          "text": [
            "tensor([[ 1.,  4.,  9.],\n",
            "        [16., 25., 36.]])\n"
          ]
        }
      ]
    },
    {
      "cell_type": "code",
      "source": [
        "# torch.mul() -> broadcasting\n",
        "x1 = torch.FloatTensor([[1,2,3],[4,5,6]])\n",
        "x2 = torch.mul(x1,10)\n",
        "print(x1,x2,x1*10,sep=\"\\n\")"
      ],
      "metadata": {
        "colab": {
          "base_uri": "https://localhost:8080/"
        },
        "id": "1raFjmUf4l1-",
        "outputId": "43a9b2b9-9fff-46ff-abfb-7738a4cf52fe"
      },
      "execution_count": 35,
      "outputs": [
        {
          "output_type": "stream",
          "name": "stdout",
          "text": [
            "tensor([[1., 2., 3.],\n",
            "        [4., 5., 6.]])\n",
            "tensor([[10., 20., 30.],\n",
            "        [40., 50., 60.]])\n",
            "tensor([[10., 20., 30.],\n",
            "        [40., 50., 60.]])\n"
          ]
        }
      ]
    },
    {
      "cell_type": "code",
      "source": [
        "# torch.div() : 나누기 연산(사이즈 일치)\n",
        "x1 = torch.FloatTensor([[1,2,3],[4,5,6]])\n",
        "x2 = torch.FloatTensor([[1,2,3],[4,5,6]])\n",
        "x3 = torch.div(x1,x2)\n",
        "print(x3)"
      ],
      "metadata": {
        "colab": {
          "base_uri": "https://localhost:8080/"
        },
        "id": "-VExKoiR5h7i",
        "outputId": "74f669fa-feba-4702-a4de-0cb4bab408c3"
      },
      "execution_count": 36,
      "outputs": [
        {
          "output_type": "stream",
          "name": "stdout",
          "text": [
            "tensor([[1., 1., 1.],\n",
            "        [1., 1., 1.]])\n"
          ]
        }
      ]
    },
    {
      "cell_type": "code",
      "source": [
        "# torch.div() -> broadcasting\n",
        "x1 = torch.FloatTensor([[1,2,3],[4,5,6]])\n",
        "x2 = torch.div(x1,10)\n",
        "print(x1,x2,x1/10,sep=\"\\n\")"
      ],
      "metadata": {
        "colab": {
          "base_uri": "https://localhost:8080/"
        },
        "id": "n26CXN7K6DJU",
        "outputId": "381e14d9-db11-4f0b-8e27-290fcbf48f90"
      },
      "execution_count": 37,
      "outputs": [
        {
          "output_type": "stream",
          "name": "stdout",
          "text": [
            "tensor([[1., 2., 3.],\n",
            "        [4., 5., 6.]])\n",
            "tensor([[0.1000, 0.2000, 0.3000],\n",
            "        [0.4000, 0.5000, 0.6000]])\n",
            "tensor([[0.1000, 0.2000, 0.3000],\n",
            "        [0.4000, 0.5000, 0.6000]])\n"
          ]
        }
      ]
    },
    {
      "cell_type": "code",
      "source": [
        "x1 = torch.FloatTensor([[1,2,3],[4,5,6]])\n",
        "# torch.pow(input,exponent) : 파워 연산(x의 n승)\n",
        "x2 = torch.pow(x1,2)\n",
        "# torch.exp(tensor,out=None) : exponential 연산\n",
        "x3 = torch.exp(x1)\n",
        "# torch.log(input,out=None) : 로그 연산\n",
        "x4 = torch.log(x1)\n",
        "print(x1,x2,x3,x4,sep=\"\\n\")"
      ],
      "metadata": {
        "colab": {
          "base_uri": "https://localhost:8080/"
        },
        "id": "1u0emBEK6Jvi",
        "outputId": "d41bdcae-7e13-46c3-c579-b79600db0190"
      },
      "execution_count": 38,
      "outputs": [
        {
          "output_type": "stream",
          "name": "stdout",
          "text": [
            "tensor([[1., 2., 3.],\n",
            "        [4., 5., 6.]])\n",
            "tensor([[ 1.,  4.,  9.],\n",
            "        [16., 25., 36.]])\n",
            "tensor([[  2.7183,   7.3891,  20.0855],\n",
            "        [ 54.5981, 148.4132, 403.4288]])\n",
            "tensor([[0.0000, 0.6931, 1.0986],\n",
            "        [1.3863, 1.6094, 1.7918]])\n"
          ]
        }
      ]
    },
    {
      "cell_type": "markdown",
      "source": [
        "## 9.Matrix Operations"
      ],
      "metadata": {
        "id": "zGKQkGJFBupU"
      }
    },
    {
      "cell_type": "code",
      "source": [
        "# torch.mm(mat1,mat2) : 행렬곱 연산\n",
        "x1 = torch.FloatTensor(3,4)\n",
        "x2 = torch.FloatTensor(4,5)\n",
        "torch.mm(x1,x2).size()"
      ],
      "metadata": {
        "colab": {
          "base_uri": "https://localhost:8080/"
        },
        "id": "OXD-Je04A_iO",
        "outputId": "3b583f04-06bd-408d-d2c8-f50e0b19fc3e"
      },
      "execution_count": 39,
      "outputs": [
        {
          "output_type": "execute_result",
          "data": {
            "text/plain": [
              "torch.Size([3, 5])"
            ]
          },
          "metadata": {},
          "execution_count": 39
        }
      ]
    },
    {
      "cell_type": "code",
      "source": [
        "# torch.bmm(batch1,batch2) : 배치 행렬곱 연산\n",
        "x1 = torch.FloatTensor(10,3,4)\n",
        "x2 = torch.FloatTensor(10,4,5)\n",
        "torch.bmm(x1,x2).size()"
      ],
      "metadata": {
        "colab": {
          "base_uri": "https://localhost:8080/"
        },
        "id": "J7zLphwcB4Kd",
        "outputId": "3ea7fa73-e3ea-46cc-ff86-5c7eceb30a8d"
      },
      "execution_count": 40,
      "outputs": [
        {
          "output_type": "execute_result",
          "data": {
            "text/plain": [
              "torch.Size([10, 3, 5])"
            ]
          },
          "metadata": {},
          "execution_count": 40
        }
      ]
    },
    {
      "cell_type": "code",
      "source": [
        "# torch.dot(tensor1,tensor2) : 내적 연산\n",
        "x1 = torch.tensor([2, 3])\n",
        "x2 = torch.tensor([2, 1])\n",
        "torch.dot(x1,x2)"
      ],
      "metadata": {
        "colab": {
          "base_uri": "https://localhost:8080/"
        },
        "id": "3gL5FkMpB57_",
        "outputId": "2220664d-1269-410f-8fac-9a40ea11938e"
      },
      "execution_count": 41,
      "outputs": [
        {
          "output_type": "execute_result",
          "data": {
            "text/plain": [
              "tensor(7)"
            ]
          },
          "metadata": {},
          "execution_count": 41
        }
      ]
    },
    {
      "cell_type": "code",
      "source": [
        "# torch.t(matrix) : 행렬의 전치\n",
        "x1 = torch.tensor([[1,2],[3,4]])\n",
        "print(x1,x1.t(),sep=\"\\n\")"
      ],
      "metadata": {
        "colab": {
          "base_uri": "https://localhost:8080/"
        },
        "id": "Dvr_OelsB7du",
        "outputId": "b90dcb5c-c1aa-4a6e-f614-eddaddeff934"
      },
      "execution_count": 42,
      "outputs": [
        {
          "output_type": "stream",
          "name": "stdout",
          "text": [
            "tensor([[1, 2],\n",
            "        [3, 4]])\n",
            "tensor([[1, 3],\n",
            "        [2, 4]])\n"
          ]
        }
      ]
    },
    {
      "cell_type": "code",
      "source": [
        "# torch.transpose(input,dim0,dim1) : 차원을 지정할 수 있는 행렬의 전치 연산\n",
        "x1 = torch.FloatTensor(10,3,4)\n",
        "print(\"1번 차원과 2번 차원을 전치\")\n",
        "print(x1.size(), torch.transpose(x1,1,2).size(), x1.transpose(1,2).size(),sep=\"\\n\")\n",
        "print(\"\\n0번 차원과 2번 차원을 전치\")\n",
        "print(x1.size(), torch.transpose(x1,0,2).size(), x1.transpose(0,2).size(),sep=\"\\n\")"
      ],
      "metadata": {
        "colab": {
          "base_uri": "https://localhost:8080/"
        },
        "id": "uOGWFXkXB9VW",
        "outputId": "6a002f54-1028-4ce9-e7de-9c667a3e803d"
      },
      "execution_count": 43,
      "outputs": [
        {
          "output_type": "stream",
          "name": "stdout",
          "text": [
            "1번 차원과 2번 차원을 전치\n",
            "torch.Size([10, 3, 4])\n",
            "torch.Size([10, 4, 3])\n",
            "torch.Size([10, 4, 3])\n",
            "\n",
            "0번 차원과 2번 차원을 전치\n",
            "torch.Size([10, 3, 4])\n",
            "torch.Size([4, 3, 10])\n",
            "torch.Size([4, 3, 10])\n"
          ]
        }
      ]
    },
    {
      "cell_type": "code",
      "source": [],
      "metadata": {
        "id": "WtRhXGXzB_fV"
      },
      "execution_count": 43,
      "outputs": []
    }
  ]
}