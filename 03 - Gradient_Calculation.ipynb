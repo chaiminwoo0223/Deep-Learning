{
  "nbformat": 4,
  "nbformat_minor": 0,
  "metadata": {
    "colab": {
      "provenance": [],
      "authorship_tag": "ABX9TyOmOsbNFJLqAeVcG2sll2T/",
      "include_colab_link": true
    },
    "kernelspec": {
      "name": "python3",
      "display_name": "Python 3"
    },
    "language_info": {
      "name": "python"
    },
    "accelerator": "GPU",
    "gpuClass": "standard"
  },
  "cells": [
    {
      "cell_type": "markdown",
      "metadata": {
        "id": "view-in-github",
        "colab_type": "text"
      },
      "source": [
        "<a href=\"https://colab.research.google.com/github/chaiminwoo0223/Deep-Learning/blob/main/03%20-%20Gradient_Calculation.ipynb\" target=\"_parent\"><img src=\"https://colab.research.google.com/assets/colab-badge.svg\" alt=\"Open In Colab\"/></a>"
      ]
    },
    {
      "cell_type": "code",
      "source": [
        "!pip3 install torch torchvision"
      ],
      "metadata": {
        "colab": {
          "base_uri": "https://localhost:8080/"
        },
        "id": "QMKs5_Oh_SmT",
        "outputId": "ecd90539-0642-47a6-fe57-4e38dfdc02fe"
      },
      "execution_count": 1,
      "outputs": [
        {
          "output_type": "stream",
          "name": "stdout",
          "text": [
            "Looking in indexes: https://pypi.org/simple, https://us-python.pkg.dev/colab-wheels/public/simple/\n",
            "Requirement already satisfied: torch in /usr/local/lib/python3.9/dist-packages (1.13.1+cu116)\n",
            "Requirement already satisfied: torchvision in /usr/local/lib/python3.9/dist-packages (0.14.1+cu116)\n",
            "Requirement already satisfied: typing-extensions in /usr/local/lib/python3.9/dist-packages (from torch) (4.5.0)\n",
            "Requirement already satisfied: pillow!=8.3.*,>=5.3.0 in /usr/local/lib/python3.9/dist-packages (from torchvision) (8.4.0)\n",
            "Requirement already satisfied: requests in /usr/local/lib/python3.9/dist-packages (from torchvision) (2.25.1)\n",
            "Requirement already satisfied: numpy in /usr/local/lib/python3.9/dist-packages (from torchvision) (1.22.4)\n",
            "Requirement already satisfied: certifi>=2017.4.17 in /usr/local/lib/python3.9/dist-packages (from requests->torchvision) (2022.12.7)\n",
            "Requirement already satisfied: idna<3,>=2.5 in /usr/local/lib/python3.9/dist-packages (from requests->torchvision) (2.10)\n",
            "Requirement already satisfied: urllib3<1.27,>=1.21.1 in /usr/local/lib/python3.9/dist-packages (from requests->torchvision) (1.26.15)\n",
            "Requirement already satisfied: chardet<5,>=3.0.2 in /usr/local/lib/python3.9/dist-packages (from requests->torchvision) (4.0.0)\n"
          ]
        }
      ]
    },
    {
      "cell_type": "code",
      "source": [
        "import numpy as np\n",
        "import torch"
      ],
      "metadata": {
        "id": "xF_WyWGp_zE1"
      },
      "execution_count": 2,
      "outputs": []
    },
    {
      "cell_type": "markdown",
      "source": [
        "## 1.기울기 계산 기능(Gradient Calculation Requirement)"
      ],
      "metadata": {
        "id": "rSZ86rTkDmwS"
      }
    },
    {
      "cell_type": "code",
      "source": [
        "# 텐서의 기울기 게산 : requires_grad=True\n",
        "x = torch.tensor([1.,2.,3.], requires_grad=True)\n",
        "y = torch.tensor([2.,3.,4.], requires_grad=True)\n",
        "# [1.,2.,3.] + [2.,3.,4.] = [3.,5.,7.]\n",
        "z = x + y\n",
        "# 기울기 계산 여부\n",
        "print(x, x.requires_grad)\n",
        "print(y, y.requires_grad)\n",
        "print(z, z.requires_grad)"
      ],
      "metadata": {
        "colab": {
          "base_uri": "https://localhost:8080/"
        },
        "id": "I6pw2Bvm__-g",
        "outputId": "8239417a-e0df-4496-e70d-c99715227211"
      },
      "execution_count": 3,
      "outputs": [
        {
          "output_type": "stream",
          "name": "stdout",
          "text": [
            "tensor([1., 2., 3.], requires_grad=True) True\n",
            "tensor([2., 3., 4.], requires_grad=True) True\n",
            "tensor([3., 5., 7.], grad_fn=<AddBackward0>) True\n"
          ]
        }
      ]
    },
    {
      "cell_type": "code",
      "source": [
        "# backward() : 연산 그래프를 쭉 따라가면서, 잎 노드에 대한 기울기를 계산\n",
        "a = z.sum().backward()\n",
        "print(a)"
      ],
      "metadata": {
        "id": "KWk6xe-nA-DZ",
        "colab": {
          "base_uri": "https://localhost:8080/"
        },
        "outputId": "bed8be07-5fbe-48c4-f1e0-d07a842db45a"
      },
      "execution_count": 4,
      "outputs": [
        {
          "output_type": "stream",
          "name": "stdout",
          "text": [
            "None\n"
          ]
        }
      ]
    },
    {
      "cell_type": "markdown",
      "source": [
        "## 2.인퍼런스 모드(Inference Mode)\n",
        "\n",
        "- 학습이 이루어진 상황에서 모델의 결과값만 보고 싶을때 사용"
      ],
      "metadata": {
        "id": "5-7Qn-NpDXZi"
      }
    },
    {
      "cell_type": "code",
      "source": [
        "# torch.no_grad() : 기울기 계산을 끌 수 있음\n",
        "# 파이썬 문법인 with 를 사용해, 해당 부분만 기울기 계산을 끔(모델을 인퍼런스 모드로 사용)\n",
        "with torch.no_grad():\n",
        "    z = x + y\n",
        "    \n",
        "print(x.requires_grad, y.requires_grad)\n",
        "print(z.requires_grad)"
      ],
      "metadata": {
        "colab": {
          "base_uri": "https://localhost:8080/"
        },
        "id": "wm_kj0xFBna1",
        "outputId": "eec1d2ea-13a2-4c8f-9b9e-711a96b1da3e"
      },
      "execution_count": 5,
      "outputs": [
        {
          "output_type": "stream",
          "name": "stdout",
          "text": [
            "True True\n",
            "False\n"
          ]
        }
      ]
    },
    {
      "cell_type": "markdown",
      "source": [
        "## 3.텐서의 위치 할당 (Device Allocation of Tensor)"
      ],
      "metadata": {
        "id": "tpBDAFfOEkEQ"
      }
    },
    {
      "cell_type": "code",
      "source": [
        "# device 함수를 사용해, 텐서를 원하는 장치로 이동\n",
        "cpu = torch.device('cpu')\n",
        "gpu = torch.device('cuda')\n",
        "# 텐서를 생성할 때, 장치를 지정\n",
        "x = torch.tensor([1.,2.,3.], dtype=torch.float64, device=cpu, requires_grad=True)\n",
        "print(x.device)\n",
        "# .to 함수를 이용해, cpu에 만들어진 텐서를 gpu로 이동\n",
        "if torch.cuda.is_available():\n",
        "    x = x.to(gpu)\n",
        "    print(x.device)"
      ],
      "metadata": {
        "colab": {
          "base_uri": "https://localhost:8080/"
        },
        "id": "rQlxt1JQEa3X",
        "outputId": "5331473f-ae60-4b1d-cb8f-5092086c318b"
      },
      "execution_count": 6,
      "outputs": [
        {
          "output_type": "stream",
          "name": "stdout",
          "text": [
            "cpu\n",
            "cuda:0\n"
          ]
        }
      ]
    },
    {
      "cell_type": "markdown",
      "source": [
        "## 4.기울기 계산(Gradient Calculation)\n",
        "- z = 2x^2+3"
      ],
      "metadata": {
        "id": "TaJn9x72IvT5"
      }
    },
    {
      "cell_type": "code",
      "source": [
        "# z = 2x^2+3\n",
        "x = torch.tensor(data=[2.0,3.0],requires_grad=True)\n",
        "y = x**2\n",
        "z = 2*y +3\n",
        "# 기울기 계산 여부\n",
        "print(x, x.requires_grad)\n",
        "print(y, y.requires_grad)\n",
        "print(z, z.requires_grad)"
      ],
      "metadata": {
        "colab": {
          "base_uri": "https://localhost:8080/"
        },
        "id": "E1ftx9_UIRtD",
        "outputId": "36d8a9c1-86d0-4f0c-93f2-816777bd58a2"
      },
      "execution_count": 7,
      "outputs": [
        {
          "output_type": "stream",
          "name": "stdout",
          "text": [
            "tensor([2., 3.], requires_grad=True) True\n",
            "tensor([4., 9.], grad_fn=<PowBackward0>) True\n",
            "tensor([11., 21.], grad_fn=<AddBackward0>) True\n"
          ]
        }
      ]
    },
    {
      "cell_type": "code",
      "source": [
        "# 목표값을 지정\n",
        "target = torch.tensor([3.0,4.0])\n",
        "# z와 목표값의 절대값 차이를 계산\n",
        "loss = torch.sum(torch.abs(z-target))\n",
        "# 스칼라 값이 된 loss에 대해, backward()를 적용\n",
        "loss.backward()\n",
        "# x,y,z 중 x만이 leaf node이기 때문에, y와 z는 기울기가 None으로 나옴\n",
        "print(x.grad, y.grad, z.grad)"
      ],
      "metadata": {
        "colab": {
          "base_uri": "https://localhost:8080/"
        },
        "id": "KtixaDHBJHih",
        "outputId": "e5f44046-287a-4f27-dc6f-04ad995efc69"
      },
      "execution_count": 8,
      "outputs": [
        {
          "output_type": "stream",
          "name": "stdout",
          "text": [
            "tensor([ 8., 12.]) None None\n"
          ]
        },
        {
          "output_type": "stream",
          "name": "stderr",
          "text": [
            "<ipython-input-8-30062eb013e5>:8: UserWarning: The .grad attribute of a Tensor that is not a leaf Tensor is being accessed. Its .grad attribute won't be populated during autograd.backward(). If you indeed want the .grad field to be populated for a non-leaf Tensor, use .retain_grad() on the non-leaf Tensor. If you access the non-leaf Tensor by mistake, make sure you access the leaf Tensor instead. See github.com/pytorch/pytorch/pull/30531 for more informations. (Triggered internally at aten/src/ATen/core/TensorBody.h:480.)\n",
            "  print(x.grad, y.grad, z.grad)\n"
          ]
        }
      ]
    },
    {
      "cell_type": "code",
      "source": [],
      "metadata": {
        "id": "phSsANfLK-AC"
      },
      "execution_count": 8,
      "outputs": []
    }
  ]
}