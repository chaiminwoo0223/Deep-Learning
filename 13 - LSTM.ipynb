{
  "nbformat": 4,
  "nbformat_minor": 0,
  "metadata": {
    "colab": {
      "provenance": [],
      "authorship_tag": "ABX9TyMnG9xqS3JiaBSVjOmWJwXn",
      "include_colab_link": true
    },
    "kernelspec": {
      "name": "python3",
      "display_name": "Python 3"
    },
    "language_info": {
      "name": "python"
    },
    "accelerator": "GPU",
    "gpuClass": "standard"
  },
  "cells": [
    {
      "cell_type": "markdown",
      "metadata": {
        "id": "view-in-github",
        "colab_type": "text"
      },
      "source": [
        "<a href=\"https://colab.research.google.com/github/chaiminwoo0223/Deep-Learning/blob/main/13%20-%20LSTM.ipynb\" target=\"_parent\"><img src=\"https://colab.research.google.com/assets/colab-badge.svg\" alt=\"Open In Colab\"/></a>"
      ]
    },
    {
      "cell_type": "code",
      "source": [
        "import torch\n",
        "import torch.nn as nn\n",
        "import torch.optim as optim\n",
        "import numpy as np"
      ],
      "metadata": {
        "id": "W1AbnOhOC2hv"
      },
      "execution_count": 1,
      "outputs": []
    },
    {
      "cell_type": "code",
      "source": [
        "string = \"hello pytorch. how long can a rnn cell remember? show me your limit!\"\n",
        "chars = \"abcdefghijklmnopqrstuvwxyz ?!.,:;01\"\n",
        "char_list = [i for i in chars]\n",
        "char_len = len(char_list)"
      ],
      "metadata": {
        "id": "OHWS4WguECW3"
      },
      "execution_count": 2,
      "outputs": []
    },
    {
      "cell_type": "code",
      "source": [
        "print(char_list)\n",
        "print(char_len)"
      ],
      "metadata": {
        "id": "pIfMD8UgEnFG",
        "colab": {
          "base_uri": "https://localhost:8080/"
        },
        "outputId": "74fd55f7-c8f7-4878-802e-484bdf1a1b34"
      },
      "execution_count": 3,
      "outputs": [
        {
          "output_type": "stream",
          "name": "stdout",
          "text": [
            "['a', 'b', 'c', 'd', 'e', 'f', 'g', 'h', 'i', 'j', 'k', 'l', 'm', 'n', 'o', 'p', 'q', 'r', 's', 't', 'u', 'v', 'w', 'x', 'y', 'z', ' ', '?', '!', '.', ',', ':', ';', '0', '1']\n",
            "35\n"
          ]
        }
      ]
    },
    {
      "cell_type": "code",
      "execution_count": 4,
      "metadata": {
        "id": "rEU_wuO3Cv8X"
      },
      "outputs": [],
      "source": [
        "# string \"abc\"\n",
        "# start = [0 0 0 ... 1 0]\n",
        "# a =     [1 0 0 ... 0 0]\n",
        "# b =     [0 1 0 ... 0 0]\n",
        "# c =     [0 0 1 ... 0 0]\n",
        "# end =   [0 0 0 ... 0 1]"
      ]
    },
    {
      "cell_type": "code",
      "source": [
        "def string_to_onehot(string):\n",
        "    start = np.zeros(shape=char_len, dtype=int)\n",
        "    end = np.zeros(shape=char_len, dtype=int)\n",
        "    start[-2] = 1\n",
        "    end[-1] = 1\n",
        "    for i in string:\n",
        "        idx = char_list.index(i)\n",
        "        zero = np.zeros(shape=char_len, dtype=int)\n",
        "        zero[idx] = 1\n",
        "        start = np.vstack([start,zero])\n",
        "    output = np.vstack([start,end])\n",
        "    return output\n",
        "\n",
        "def onehot_to_word(onehot_1):\n",
        "    onehot = torch.Tensor.numpy(onehot_1)\n",
        "    return char_list[onehot.argmax()]"
      ],
      "metadata": {
        "id": "9GRwBewLFBbT"
      },
      "execution_count": 5,
      "outputs": []
    },
    {
      "cell_type": "code",
      "source": [
        "# 문자열을 단어 하나씩 잘라서 사용(batch_size = 1)\n",
        "batch_size = 1\n",
        "seq_len = 1\n",
        "num_layers = 3\n",
        "input_size = char_len\n",
        "hidden_size = 35\n",
        "lr = 0.01\n",
        "num_epochs = 1000\n",
        "\n",
        "one_hot = torch.from_numpy(string_to_onehot(string)).type_as(torch.FloatTensor())\n",
        "print(one_hot.size())"
      ],
      "metadata": {
        "id": "i_umuQhig40Z",
        "colab": {
          "base_uri": "https://localhost:8080/"
        },
        "outputId": "76cd0205-67f7-4d2d-891b-31a710e229e9"
      },
      "execution_count": 6,
      "outputs": [
        {
          "output_type": "stream",
          "name": "stdout",
          "text": [
            "torch.Size([70, 35])\n"
          ]
        }
      ]
    },
    {
      "cell_type": "code",
      "source": [
        "# RNN\n",
        "class RNN(nn.Module):\n",
        "    def __init__(self, input_size, hidden_size, num_layers):\n",
        "        super(RNN, self).__init__()\n",
        "        self.input_size = input_size\n",
        "        self.hidden_size = hidden_size\n",
        "        self.num_layers = num_layers\n",
        "        self.lstm = nn.LSTM(input_size, hidden_size, num_layers) # LSTM(Long Short-Term Memory)\n",
        "\n",
        "    def forward(self, input_, hidden, cell):\n",
        "        output, (hidden, cell) = self.lstm(input_, (hidden, cell))\n",
        "        return output, hidden, cell\n",
        "    \n",
        "    def init_hidden_cell(self):\n",
        "        hidden = torch.zeros(num_layers, batch_size, hidden_size)\n",
        "        cell = torch.zeros(num_layers, batch_size, hidden_size)\n",
        "        return hidden, cell\n",
        "\n",
        "rnn = RNN(input_size, hidden_size, num_layers)"
      ],
      "metadata": {
        "id": "aNzB7zwtifmK"
      },
      "execution_count": 7,
      "outputs": []
    },
    {
      "cell_type": "code",
      "source": [
        "# 손실함수와 최적화\n",
        "loss_func = nn.MSELoss()\n",
        "optimizer = optim.Adam(rnn.parameters(), lr=lr)"
      ],
      "metadata": {
        "id": "-bSPYsbrh3U_"
      },
      "execution_count": 8,
      "outputs": []
    },
    {
      "cell_type": "code",
      "source": [
        "print(one_hot.size())\n",
        "print(one_hot[0].size())\n",
        "print(one_hot[0:1].size())"
      ],
      "metadata": {
        "id": "jdA9BPKkkdB-",
        "colab": {
          "base_uri": "https://localhost:8080/"
        },
        "outputId": "c8d85a5a-d724-454b-d841-970c999d889f"
      },
      "execution_count": 9,
      "outputs": [
        {
          "output_type": "stream",
          "name": "stdout",
          "text": [
            "torch.Size([70, 35])\n",
            "torch.Size([35])\n",
            "torch.Size([1, 35])\n"
          ]
        }
      ]
    },
    {
      "cell_type": "code",
      "source": [
        "j = 0\n",
        "input_data = one_hot[j:j+seq_len].view(seq_len, batch_size, input_size)\n",
        "print(input_data.size())\n",
        "hidden, cell = rnn.init_hidden_cell()\n",
        "print(hidden.size(), cell.size())\n",
        "output, hidden, cell = rnn(input_data, hidden, cell)\n",
        "print(output.size(), hidden.size(), cell.size())"
      ],
      "metadata": {
        "id": "mguiHsnPlc04",
        "colab": {
          "base_uri": "https://localhost:8080/"
        },
        "outputId": "8a6fea4a-d1f1-44e4-aca4-fcdf25f0c655"
      },
      "execution_count": 10,
      "outputs": [
        {
          "output_type": "stream",
          "name": "stdout",
          "text": [
            "torch.Size([1, 1, 35])\n",
            "torch.Size([3, 1, 35]) torch.Size([3, 1, 35])\n",
            "torch.Size([1, 1, 35]) torch.Size([3, 1, 35]) torch.Size([3, 1, 35])\n"
          ]
        }
      ]
    },
    {
      "cell_type": "code",
      "source": [
        "# Train\n",
        "unroll_len = one_hot.size()[0]//seq_len - 1\n",
        "\n",
        "for i in range(num_epochs):\n",
        "    hidden, cell = rnn.init_hidden_cell()\n",
        "    loss = 0\n",
        "    for j in range(unroll_len):\n",
        "        input_data = one_hot[j:j+seq_len].view(seq_len, batch_size, input_size)\n",
        "        label = one_hot[j+1:j+seq_len+1].view(seq_len, batch_size, input_size)\n",
        "        optimizer.zero_grad()\n",
        "        output, hidden, cell = rnn(input_data, hidden, cell)\n",
        "        loss += loss_func(output.view(1,-1), label.view(1,-1))\n",
        "    loss.backward()\n",
        "    optimizer.step()\n",
        "\n",
        "    if i%10 == 0:\n",
        "        print(loss)"
      ],
      "metadata": {
        "id": "LKlUESAbmGvQ",
        "colab": {
          "base_uri": "https://localhost:8080/"
        },
        "outputId": "08fa9f6a-2724-4521-e210-ed65824a93f2"
      },
      "execution_count": 11,
      "outputs": [
        {
          "output_type": "stream",
          "name": "stdout",
          "text": [
            "tensor(2.5905, grad_fn=<AddBackward0>)\n",
            "tensor(1.8229, grad_fn=<AddBackward0>)\n",
            "tensor(1.7662, grad_fn=<AddBackward0>)\n",
            "tensor(1.6201, grad_fn=<AddBackward0>)\n",
            "tensor(1.4666, grad_fn=<AddBackward0>)\n",
            "tensor(1.1939, grad_fn=<AddBackward0>)\n",
            "tensor(0.7996, grad_fn=<AddBackward0>)\n",
            "tensor(0.5321, grad_fn=<AddBackward0>)\n",
            "tensor(0.3031, grad_fn=<AddBackward0>)\n",
            "tensor(0.1972, grad_fn=<AddBackward0>)\n",
            "tensor(0.1460, grad_fn=<AddBackward0>)\n",
            "tensor(0.1219, grad_fn=<AddBackward0>)\n",
            "tensor(0.1076, grad_fn=<AddBackward0>)\n",
            "tensor(0.1008, grad_fn=<AddBackward0>)\n",
            "tensor(0.0908, grad_fn=<AddBackward0>)\n",
            "tensor(0.0820, grad_fn=<AddBackward0>)\n",
            "tensor(0.0772, grad_fn=<AddBackward0>)\n",
            "tensor(0.0741, grad_fn=<AddBackward0>)\n",
            "tensor(0.0717, grad_fn=<AddBackward0>)\n",
            "tensor(0.0697, grad_fn=<AddBackward0>)\n",
            "tensor(0.0680, grad_fn=<AddBackward0>)\n",
            "tensor(0.0665, grad_fn=<AddBackward0>)\n",
            "tensor(0.0655, grad_fn=<AddBackward0>)\n",
            "tensor(0.0648, grad_fn=<AddBackward0>)\n",
            "tensor(0.0641, grad_fn=<AddBackward0>)\n",
            "tensor(0.0634, grad_fn=<AddBackward0>)\n",
            "tensor(0.0627, grad_fn=<AddBackward0>)\n",
            "tensor(0.0623, grad_fn=<AddBackward0>)\n",
            "tensor(0.0620, grad_fn=<AddBackward0>)\n",
            "tensor(0.0618, grad_fn=<AddBackward0>)\n",
            "tensor(0.0625, grad_fn=<AddBackward0>)\n",
            "tensor(0.0616, grad_fn=<AddBackward0>)\n",
            "tensor(0.0614, grad_fn=<AddBackward0>)\n",
            "tensor(0.0611, grad_fn=<AddBackward0>)\n",
            "tensor(0.0610, grad_fn=<AddBackward0>)\n",
            "tensor(0.0609, grad_fn=<AddBackward0>)\n",
            "tensor(0.0608, grad_fn=<AddBackward0>)\n",
            "tensor(0.0607, grad_fn=<AddBackward0>)\n",
            "tensor(0.0606, grad_fn=<AddBackward0>)\n",
            "tensor(0.0605, grad_fn=<AddBackward0>)\n",
            "tensor(0.0604, grad_fn=<AddBackward0>)\n",
            "tensor(0.0604, grad_fn=<AddBackward0>)\n",
            "tensor(0.0603, grad_fn=<AddBackward0>)\n",
            "tensor(0.0613, grad_fn=<AddBackward0>)\n",
            "tensor(0.0604, grad_fn=<AddBackward0>)\n",
            "tensor(0.0602, grad_fn=<AddBackward0>)\n",
            "tensor(0.0601, grad_fn=<AddBackward0>)\n",
            "tensor(0.0601, grad_fn=<AddBackward0>)\n",
            "tensor(0.0600, grad_fn=<AddBackward0>)\n",
            "tensor(0.0600, grad_fn=<AddBackward0>)\n",
            "tensor(0.0599, grad_fn=<AddBackward0>)\n",
            "tensor(0.0599, grad_fn=<AddBackward0>)\n",
            "tensor(0.0599, grad_fn=<AddBackward0>)\n",
            "tensor(0.0598, grad_fn=<AddBackward0>)\n",
            "tensor(0.0598, grad_fn=<AddBackward0>)\n",
            "tensor(0.0598, grad_fn=<AddBackward0>)\n",
            "tensor(0.0597, grad_fn=<AddBackward0>)\n",
            "tensor(0.0597, grad_fn=<AddBackward0>)\n",
            "tensor(0.0597, grad_fn=<AddBackward0>)\n",
            "tensor(0.0599, grad_fn=<AddBackward0>)\n",
            "tensor(0.0597, grad_fn=<AddBackward0>)\n",
            "tensor(0.0597, grad_fn=<AddBackward0>)\n",
            "tensor(0.0596, grad_fn=<AddBackward0>)\n",
            "tensor(0.0596, grad_fn=<AddBackward0>)\n",
            "tensor(0.0596, grad_fn=<AddBackward0>)\n",
            "tensor(0.0595, grad_fn=<AddBackward0>)\n",
            "tensor(0.0595, grad_fn=<AddBackward0>)\n",
            "tensor(0.0595, grad_fn=<AddBackward0>)\n",
            "tensor(0.0595, grad_fn=<AddBackward0>)\n",
            "tensor(0.0595, grad_fn=<AddBackward0>)\n",
            "tensor(0.0595, grad_fn=<AddBackward0>)\n",
            "tensor(0.0594, grad_fn=<AddBackward0>)\n",
            "tensor(0.0594, grad_fn=<AddBackward0>)\n",
            "tensor(0.0594, grad_fn=<AddBackward0>)\n",
            "tensor(0.0594, grad_fn=<AddBackward0>)\n",
            "tensor(0.0594, grad_fn=<AddBackward0>)\n",
            "tensor(0.0594, grad_fn=<AddBackward0>)\n",
            "tensor(0.0594, grad_fn=<AddBackward0>)\n",
            "tensor(0.0597, grad_fn=<AddBackward0>)\n",
            "tensor(0.0594, grad_fn=<AddBackward0>)\n",
            "tensor(0.0594, grad_fn=<AddBackward0>)\n",
            "tensor(0.0593, grad_fn=<AddBackward0>)\n",
            "tensor(0.0593, grad_fn=<AddBackward0>)\n",
            "tensor(0.0593, grad_fn=<AddBackward0>)\n",
            "tensor(0.0593, grad_fn=<AddBackward0>)\n",
            "tensor(0.0593, grad_fn=<AddBackward0>)\n",
            "tensor(0.0593, grad_fn=<AddBackward0>)\n",
            "tensor(0.0593, grad_fn=<AddBackward0>)\n",
            "tensor(0.0593, grad_fn=<AddBackward0>)\n",
            "tensor(0.0593, grad_fn=<AddBackward0>)\n",
            "tensor(0.0593, grad_fn=<AddBackward0>)\n",
            "tensor(0.0593, grad_fn=<AddBackward0>)\n",
            "tensor(0.0593, grad_fn=<AddBackward0>)\n",
            "tensor(0.0593, grad_fn=<AddBackward0>)\n",
            "tensor(0.0597, grad_fn=<AddBackward0>)\n",
            "tensor(0.0595, grad_fn=<AddBackward0>)\n",
            "tensor(0.0594, grad_fn=<AddBackward0>)\n",
            "tensor(0.0593, grad_fn=<AddBackward0>)\n",
            "tensor(0.0592, grad_fn=<AddBackward0>)\n",
            "tensor(0.0592, grad_fn=<AddBackward0>)\n"
          ]
        }
      ]
    },
    {
      "cell_type": "code",
      "source": [
        "# Test\n",
        "hidden, cell = rnn.init_hidden_cell()\n",
        "\n",
        "for j in range(unroll_len-1):\n",
        "    input_data = one_hot[j:j+1].view(1, batch_size, hidden_size)\n",
        "    output, hidden, cell = rnn(input_data, hidden, cell)\n",
        "    print(onehot_to_word(output.data), end=\"\")"
      ],
      "metadata": {
        "colab": {
          "base_uri": "https://localhost:8080/"
        },
        "id": "44-RpfR2Lio8",
        "outputId": "11794ee9-d53a-4ef1-f5e6-4ddbf16c4156"
      },
      "execution_count": 12,
      "outputs": [
        {
          "output_type": "stream",
          "name": "stdout",
          "text": [
            "hello pytorch. how gong can a rnn cell remember? show me your iimit!"
          ]
        }
      ]
    },
    {
      "cell_type": "code",
      "source": [],
      "metadata": {
        "id": "HhaMPU7YUmhh"
      },
      "execution_count": 12,
      "outputs": []
    }
  ]
}