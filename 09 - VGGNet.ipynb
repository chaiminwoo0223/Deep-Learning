{
  "nbformat": 4,
  "nbformat_minor": 0,
  "metadata": {
    "colab": {
      "provenance": [],
      "collapsed_sections": [
        "QkooMEKVsotW",
        "KV2bz6gnyNfy"
      ],
      "authorship_tag": "ABX9TyN8nmrSEYm0n8drQbdkPAzL",
      "include_colab_link": true
    },
    "kernelspec": {
      "name": "python3",
      "display_name": "Python 3"
    },
    "language_info": {
      "name": "python"
    },
    "gpuClass": "standard",
    "accelerator": "GPU"
  },
  "cells": [
    {
      "cell_type": "markdown",
      "metadata": {
        "id": "view-in-github",
        "colab_type": "text"
      },
      "source": [
        "<a href=\"https://colab.research.google.com/github/chaiminwoo0223/Deep-Learning/blob/main/09%20-%20VGGNet.ipynb\" target=\"_parent\"><img src=\"https://colab.research.google.com/assets/colab-badge.svg\" alt=\"Open In Colab\"/></a>"
      ]
    },
    {
      "cell_type": "markdown",
      "source": [
        "# VGGNet\n",
        "\n",
        "- 2014 ILSVRC 2nd place\n",
        "- VGG-16\n",
        "- Convolution layer\n",
        "- Maxpooling layer\n",
        "- Fully connected layer\n",
        "\n",
        "![대체 텍스트](https://qph.fs.quoracdn.net/main-qimg-e657c195fc2696c7d5fc0b1e3682fde6)"
      ],
      "metadata": {
        "id": "6RSNhT6psZ6Q"
      }
    },
    {
      "cell_type": "markdown",
      "source": [
        "# Import"
      ],
      "metadata": {
        "id": "QkooMEKVsotW"
      }
    },
    {
      "cell_type": "code",
      "source": [
        "import numpy as np\n",
        "import torch\n",
        "import torch.nn as nn\n",
        "import torch.optim as optim\n",
        "import torch.nn.init as init\n",
        "import torch.utils.data as data\n",
        "import torchvision.datasets as dset\n",
        "import torchvision.transforms as transforms\n",
        "from torch.utils.data import DataLoader\n",
        "import os"
      ],
      "metadata": {
        "id": "yHpXJxaks-1i"
      },
      "execution_count": 1,
      "outputs": []
    },
    {
      "cell_type": "markdown",
      "source": [
        "# 데이터 다운로드"
      ],
      "metadata": {
        "id": "vRGn4QYquzHP"
      }
    },
    {
      "cell_type": "code",
      "source": [
        "!rm -r images\n",
        "\n",
        "# 이미지 파일을 저장할 폴더를 생성\n",
        "try:\n",
        "    os.mkdir(\"images\")\n",
        "    os.mkdir(\"images/dogs\")\n",
        "    os.mkdir(\"images/cats\")\n",
        "except:\n",
        "    pass\n",
        "\n",
        "# 이미지들을 저장한 위치에 다운로드\n",
        "# images/dogs 밑에 2개\n",
        "!wget https://i.kinja-img.com/gawker-media/image/upload/s--WFkXeene--/c_scale,f_auto,fl_progressive,q_80,w_800/ol9ceoqxidudap8owlwn.jpg -P images/dogs\n",
        "!wget https://www.rspcansw.org.au/wp-content/uploads/2017/08/50_a-feature_dogs-and-puppies_mobile.jpg -P images/dogs\n",
        "# images/cats 밑에 2개\n",
        "!wget https://www.catster.com/wp-content/uploads/2018/05/A-gray-cat-crying-looking-upset.jpg -P images/cats\n",
        "!wget https://www.scarymommy.com/wp-content/uploads/2018/01/c1.jpg?w=700 -P images/cats"
      ],
      "metadata": {
        "colab": {
          "base_uri": "https://localhost:8080/"
        },
        "id": "4diZqsbOt5L6",
        "outputId": "87cb9c09-cb29-4657-8d12-351753bf4d2b"
      },
      "execution_count": 2,
      "outputs": [
        {
          "output_type": "stream",
          "name": "stdout",
          "text": [
            "rm: cannot remove 'images': No such file or directory\n",
            "--2023-04-10 11:55:34--  https://i.kinja-img.com/gawker-media/image/upload/s--WFkXeene--/c_scale,f_auto,fl_progressive,q_80,w_800/ol9ceoqxidudap8owlwn.jpg\n",
            "Resolving i.kinja-img.com (i.kinja-img.com)... 151.101.194.166, 151.101.66.166, 151.101.2.166, ...\n",
            "Connecting to i.kinja-img.com (i.kinja-img.com)|151.101.194.166|:443... connected.\n",
            "HTTP request sent, awaiting response... 200 OK\n",
            "Length: 36509 (36K) [image/jpeg]\n",
            "Saving to: ‘images/dogs/ol9ceoqxidudap8owlwn.jpg’\n",
            "\n",
            "ol9ceoqxidudap8owlw 100%[===================>]  35.65K  --.-KB/s    in 0.001s  \n",
            "\n",
            "2023-04-10 11:55:34 (48.9 MB/s) - ‘images/dogs/ol9ceoqxidudap8owlwn.jpg’ saved [36509/36509]\n",
            "\n",
            "--2023-04-10 11:55:34--  https://www.rspcansw.org.au/wp-content/uploads/2017/08/50_a-feature_dogs-and-puppies_mobile.jpg\n",
            "Resolving www.rspcansw.org.au (www.rspcansw.org.au)... 101.0.86.38\n",
            "Connecting to www.rspcansw.org.au (www.rspcansw.org.au)|101.0.86.38|:443... connected.\n",
            "HTTP request sent, awaiting response... 200 OK\n",
            "Length: 130940 (128K) [image/jpeg]\n",
            "Saving to: ‘images/dogs/50_a-feature_dogs-and-puppies_mobile.jpg’\n",
            "\n",
            "50_a-feature_dogs-a 100%[===================>] 127.87K   457KB/s    in 0.3s    \n",
            "\n",
            "2023-04-10 11:55:35 (457 KB/s) - ‘images/dogs/50_a-feature_dogs-and-puppies_mobile.jpg’ saved [130940/130940]\n",
            "\n",
            "--2023-04-10 11:55:35--  https://www.catster.com/wp-content/uploads/2018/05/A-gray-cat-crying-looking-upset.jpg\n",
            "Resolving www.catster.com (www.catster.com)... 13.227.254.33, 13.227.254.38, 13.227.254.125, ...\n",
            "Connecting to www.catster.com (www.catster.com)|13.227.254.33|:443... connected.\n",
            "HTTP request sent, awaiting response... 200 OK\n",
            "Length: 165145 (161K) [image/jpeg]\n",
            "Saving to: ‘images/cats/A-gray-cat-crying-looking-upset.jpg’\n",
            "\n",
            "A-gray-cat-crying-l 100%[===================>] 161.27K  --.-KB/s    in 0.004s  \n",
            "\n",
            "2023-04-10 11:55:35 (36.9 MB/s) - ‘images/cats/A-gray-cat-crying-looking-upset.jpg’ saved [165145/165145]\n",
            "\n",
            "--2023-04-10 11:55:35--  https://www.scarymommy.com/wp-content/uploads/2018/01/c1.jpg?w=700\n",
            "Resolving www.scarymommy.com (www.scarymommy.com)... 54.192.150.60, 54.192.150.30, 54.192.150.55, ...\n",
            "Connecting to www.scarymommy.com (www.scarymommy.com)|54.192.150.60|:443... connected.\n",
            "HTTP request sent, awaiting response... 404 Not Found\n",
            "2023-04-10 11:55:36 ERROR 404: Not Found.\n",
            "\n"
          ]
        }
      ]
    },
    {
      "cell_type": "markdown",
      "source": [
        "# Hyperparameter"
      ],
      "metadata": {
        "id": "zJ1IxTsvvGMM"
      }
    },
    {
      "cell_type": "code",
      "source": [
        "batch_size = 1\n",
        "learning_rate = 0.0002\n",
        "num_epoch = 100"
      ],
      "metadata": {
        "id": "WEGSQ8lkuuON"
      },
      "execution_count": 3,
      "outputs": []
    },
    {
      "cell_type": "markdown",
      "source": [
        "# DataLoader"
      ],
      "metadata": {
        "id": "D1uZr9Jnvs7Y"
      }
    },
    {
      "cell_type": "code",
      "source": [
        "img_dir = \"./images\"\n",
        "img_data = dset.ImageFolder(img_dir, transforms.Compose([\n",
        "                            transforms.Resize(256),            # 이미지 크기 = 256*256\n",
        "                            transforms.RandomResizedCrop(224), # 256*256 이미지의 랜덤한 위치에서 224*224 크기만큼 샘플링\n",
        "                            transforms.RandomHorizontalFlip(), # 랜덤한 확률로 이미지를 죄우반전\n",
        "                            transforms.ToTensor()\n",
        "]))\n",
        "\n",
        "train_loader = data.DataLoader(img_data, batch_size=batch_size, shuffle=True, num_workers=2)"
      ],
      "metadata": {
        "id": "Kei0w-srv7kw"
      },
      "execution_count": 4,
      "outputs": []
    },
    {
      "cell_type": "markdown",
      "source": [
        "# Model"
      ],
      "metadata": {
        "id": "Kieksxz-yIuv"
      }
    },
    {
      "cell_type": "markdown",
      "source": [
        "## 1.Basic Blocks\n",
        "- 모델에 반복되는 부분이 많기 때문에, 이를 함수로 만들어 단순화"
      ],
      "metadata": {
        "id": "KV2bz6gnyNfy"
      }
    },
    {
      "cell_type": "code",
      "source": [
        "# 컨볼루션 연산이 2번 연속하는 경우\n",
        "# 컴볼루션 - 활성화함수 - 컨볼루션 - 활성화함수 - 풀링\n",
        "def conv_2_block(in_dim,out_dim):\n",
        "    model = nn.Sequential(\n",
        "        nn.Conv2d(in_dim,out_dim,kernel_size=3,padding=1),\n",
        "        nn.ReLU(),\n",
        "        nn.Conv2d(out_dim,out_dim,kernel_size=3,padding=1),\n",
        "        nn.ReLU(),\n",
        "        nn.MaxPool2d(2,2)\n",
        "    )\n",
        "    return model\n",
        "\n",
        "# 컨볼루션 연산이 3번 연속하는 경우\n",
        "# 컴볼루션 - 활성화함수 - 컨볼루션 - 활성화함수 - 컨볼루션 - 활성화함수 - 풀링\n",
        "def conv_3_block(in_dim,out_dim):\n",
        "    model = nn.Sequential(\n",
        "        nn.Conv2d(in_dim,out_dim,kernel_size=3,padding=1),\n",
        "        nn.ReLU(),\n",
        "        nn.Conv2d(out_dim,out_dim,kernel_size=3,padding=1),\n",
        "        nn.ReLU(),\n",
        "        nn.Conv2d(out_dim,out_dim,kernel_size=3,padding=1),\n",
        "        nn.ReLU(),\n",
        "        nn.MaxPool2d(2,2)\n",
        "    )\n",
        "    return model"
      ],
      "metadata": {
        "id": "joUPfAUty5qq"
      },
      "execution_count": 5,
      "outputs": []
    },
    {
      "cell_type": "markdown",
      "source": [
        "## 2.VGG Model"
      ],
      "metadata": {
        "id": "5IxfxgZx0jPN"
      }
    },
    {
      "cell_type": "code",
      "source": [
        "# VGG 네트워크\n",
        "class VGG(nn.Module):\n",
        "    def __init__(self, base_dim, num_classes=2):\n",
        "        super(VGG, self).__init__()\n",
        "        self.feature = nn.Sequential(\n",
        "            conv_2_block(3,base_dim),\n",
        "            conv_2_block(base_dim,2*base_dim),\n",
        "            conv_3_block(2*base_dim,4*base_dim),\n",
        "            conv_3_block(4*base_dim,8*base_dim),\n",
        "            conv_3_block(8*base_dim,8*base_dim)\n",
        "        )\n",
        "        self.fc_layer = nn.Sequential(\n",
        "            nn.Linear(8*base_dim*7*7,100),\n",
        "            nn.ReLU(True),\n",
        "            nn.Linear(100,20),\n",
        "            nn.ReLU(True),\n",
        "            nn.Linear(20,num_classes)\n",
        "        )\n",
        "    def forward(self,x):\n",
        "        x = self.feature(x)\n",
        "        x = x.view(x.size(0),-1)\n",
        "        x = self.fc_layer(x)\n",
        "        return x"
      ],
      "metadata": {
        "id": "Wr49wuuY0izU"
      },
      "execution_count": 6,
      "outputs": []
    },
    {
      "cell_type": "markdown",
      "source": [
        "# Optimizer & Loss"
      ],
      "metadata": {
        "id": "CdQd3gZ-3ubR"
      }
    },
    {
      "cell_type": "code",
      "source": [
        "# GPU가 사용 가능한 경우에는 device를 0번 GPU로 설정하고, 불가능한 경우에는 CPU로 설정\n",
        "device = torch.device(\"cuda:0\" if torch.cuda.is_available() else \"cpu\")\n",
        "print(device)"
      ],
      "metadata": {
        "colab": {
          "base_uri": "https://localhost:8080/"
        },
        "id": "Q6N7_Ky_38IB",
        "outputId": "1b2d29ff-636b-4211-8dba-b28f7ea2c494"
      },
      "execution_count": 7,
      "outputs": [
        {
          "output_type": "stream",
          "name": "stdout",
          "text": [
            "cuda:0\n"
          ]
        }
      ]
    },
    {
      "cell_type": "code",
      "source": [
        "# VGG 클래스를 인스턴스화하고 지정한 장치에 올림\n",
        "model = VGG(base_dim=16).to(device)"
      ],
      "metadata": {
        "id": "cRKOZAB242zi"
      },
      "execution_count": 8,
      "outputs": []
    },
    {
      "cell_type": "code",
      "source": [
        "# 손실함수\n",
        "loss_func = nn.CrossEntropyLoss()\n",
        "# 최적화함수\n",
        "optimizer = torch.optim.Adam(model.parameters(), lr=learning_rate)"
      ],
      "metadata": {
        "id": "D1qU--El6cRm"
      },
      "execution_count": 9,
      "outputs": []
    },
    {
      "cell_type": "code",
      "source": [
        "# 모델 자녀 노드의 이름과 모듈을 출력\n",
        "for i in model.named_children():\n",
        "    print(i)"
      ],
      "metadata": {
        "colab": {
          "base_uri": "https://localhost:8080/"
        },
        "id": "YS6LuNCi7ajW",
        "outputId": "bc81d764-f5d0-40a9-a1e8-ec3b114d2e9f"
      },
      "execution_count": 10,
      "outputs": [
        {
          "output_type": "stream",
          "name": "stdout",
          "text": [
            "('feature', Sequential(\n",
            "  (0): Sequential(\n",
            "    (0): Conv2d(3, 16, kernel_size=(3, 3), stride=(1, 1), padding=(1, 1))\n",
            "    (1): ReLU()\n",
            "    (2): Conv2d(16, 16, kernel_size=(3, 3), stride=(1, 1), padding=(1, 1))\n",
            "    (3): ReLU()\n",
            "    (4): MaxPool2d(kernel_size=2, stride=2, padding=0, dilation=1, ceil_mode=False)\n",
            "  )\n",
            "  (1): Sequential(\n",
            "    (0): Conv2d(16, 32, kernel_size=(3, 3), stride=(1, 1), padding=(1, 1))\n",
            "    (1): ReLU()\n",
            "    (2): Conv2d(32, 32, kernel_size=(3, 3), stride=(1, 1), padding=(1, 1))\n",
            "    (3): ReLU()\n",
            "    (4): MaxPool2d(kernel_size=2, stride=2, padding=0, dilation=1, ceil_mode=False)\n",
            "  )\n",
            "  (2): Sequential(\n",
            "    (0): Conv2d(32, 64, kernel_size=(3, 3), stride=(1, 1), padding=(1, 1))\n",
            "    (1): ReLU()\n",
            "    (2): Conv2d(64, 64, kernel_size=(3, 3), stride=(1, 1), padding=(1, 1))\n",
            "    (3): ReLU()\n",
            "    (4): Conv2d(64, 64, kernel_size=(3, 3), stride=(1, 1), padding=(1, 1))\n",
            "    (5): ReLU()\n",
            "    (6): MaxPool2d(kernel_size=2, stride=2, padding=0, dilation=1, ceil_mode=False)\n",
            "  )\n",
            "  (3): Sequential(\n",
            "    (0): Conv2d(64, 128, kernel_size=(3, 3), stride=(1, 1), padding=(1, 1))\n",
            "    (1): ReLU()\n",
            "    (2): Conv2d(128, 128, kernel_size=(3, 3), stride=(1, 1), padding=(1, 1))\n",
            "    (3): ReLU()\n",
            "    (4): Conv2d(128, 128, kernel_size=(3, 3), stride=(1, 1), padding=(1, 1))\n",
            "    (5): ReLU()\n",
            "    (6): MaxPool2d(kernel_size=2, stride=2, padding=0, dilation=1, ceil_mode=False)\n",
            "  )\n",
            "  (4): Sequential(\n",
            "    (0): Conv2d(128, 128, kernel_size=(3, 3), stride=(1, 1), padding=(1, 1))\n",
            "    (1): ReLU()\n",
            "    (2): Conv2d(128, 128, kernel_size=(3, 3), stride=(1, 1), padding=(1, 1))\n",
            "    (3): ReLU()\n",
            "    (4): Conv2d(128, 128, kernel_size=(3, 3), stride=(1, 1), padding=(1, 1))\n",
            "    (5): ReLU()\n",
            "    (6): MaxPool2d(kernel_size=2, stride=2, padding=0, dilation=1, ceil_mode=False)\n",
            "  )\n",
            "))\n",
            "('fc_layer', Sequential(\n",
            "  (0): Linear(in_features=6272, out_features=100, bias=True)\n",
            "  (1): ReLU(inplace=True)\n",
            "  (2): Linear(in_features=100, out_features=20, bias=True)\n",
            "  (3): ReLU(inplace=True)\n",
            "  (4): Linear(in_features=20, out_features=2, bias=True)\n",
            "))\n"
          ]
        }
      ]
    },
    {
      "cell_type": "markdown",
      "source": [
        "# Train"
      ],
      "metadata": {
        "id": "pxNG5smG8rir"
      }
    },
    {
      "cell_type": "code",
      "source": [
        "for i in range(num_epoch):\n",
        "    for j,[image,label] in enumerate(train_loader):\n",
        "        x = image.to(device)\n",
        "        y_= label.to(device)\n",
        "\n",
        "        optimizer.zero_grad()\n",
        "        output = model.forward(x)\n",
        "        loss = loss_func(output,y_)\n",
        "        loss.backward()\n",
        "        optimizer.step()\n",
        "\n",
        "    if i % 10 ==0:\n",
        "        print(loss)"
      ],
      "metadata": {
        "colab": {
          "base_uri": "https://localhost:8080/"
        },
        "id": "SYdGOhFP8v91",
        "outputId": "a5549051-4c11-49af-a483-1b86bbe76dd8"
      },
      "execution_count": 11,
      "outputs": [
        {
          "output_type": "stream",
          "name": "stdout",
          "text": [
            "tensor(0.7425, device='cuda:0', grad_fn=<NllLossBackward0>)\n",
            "tensor(0.6560, device='cuda:0', grad_fn=<NllLossBackward0>)\n",
            "tensor(1.0913, device='cuda:0', grad_fn=<NllLossBackward0>)\n",
            "tensor(1.0755, device='cuda:0', grad_fn=<NllLossBackward0>)\n",
            "tensor(0.3825, device='cuda:0', grad_fn=<NllLossBackward0>)\n",
            "tensor(0.9256, device='cuda:0', grad_fn=<NllLossBackward0>)\n",
            "tensor(0.0132, device='cuda:0', grad_fn=<NllLossBackward0>)\n",
            "tensor(0.6594, device='cuda:0', grad_fn=<NllLossBackward0>)\n",
            "tensor(1.7406, device='cuda:0', grad_fn=<NllLossBackward0>)\n",
            "tensor(0.7112, device='cuda:0', grad_fn=<NllLossBackward0>)\n"
          ]
        }
      ]
    },
    {
      "cell_type": "code",
      "source": [],
      "metadata": {
        "id": "jsj9Z2Te-QUi"
      },
      "execution_count": 11,
      "outputs": []
    }
  ]
}