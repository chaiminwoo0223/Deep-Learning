{
  "nbformat": 4,
  "nbformat_minor": 0,
  "metadata": {
    "colab": {
      "provenance": [],
      "authorship_tag": "ABX9TyNjOHnL7DPox30ntrd3MIFQ",
      "include_colab_link": true
    },
    "kernelspec": {
      "name": "python3",
      "display_name": "Python 3"
    },
    "language_info": {
      "name": "python"
    },
    "accelerator": "GPU",
    "gpuClass": "standard"
  },
  "cells": [
    {
      "cell_type": "markdown",
      "metadata": {
        "id": "view-in-github",
        "colab_type": "text"
      },
      "source": [
        "<a href=\"https://colab.research.google.com/github/chaiminwoo0223/Deep-Learning/blob/main/02%20-%20PyTorch_Tensor_Basic_Usage.ipynb\" target=\"_parent\"><img src=\"https://colab.research.google.com/assets/colab-badge.svg\" alt=\"Open In Colab\"/></a>"
      ]
    },
    {
      "cell_type": "markdown",
      "source": [
        "## 1.Tensor"
      ],
      "metadata": {
        "id": "4gq80lrmx-qX"
      }
    },
    {
      "cell_type": "code",
      "execution_count": 1,
      "metadata": {
        "colab": {
          "base_uri": "https://localhost:8080/"
        },
        "id": "G-ewQUh2xyI1",
        "outputId": "2922835c-2555-47f0-e6d7-f9fc73faa242"
      },
      "outputs": [
        {
          "output_type": "stream",
          "name": "stdout",
          "text": [
            "Looking in indexes: https://pypi.org/simple, https://us-python.pkg.dev/colab-wheels/public/simple/\n",
            "Requirement already satisfied: torch in /usr/local/lib/python3.9/dist-packages (1.13.1+cu116)\n",
            "Requirement already satisfied: torchvision in /usr/local/lib/python3.9/dist-packages (0.14.1+cu116)\n",
            "Requirement already satisfied: typing-extensions in /usr/local/lib/python3.9/dist-packages (from torch) (4.5.0)\n",
            "Requirement already satisfied: numpy in /usr/local/lib/python3.9/dist-packages (from torchvision) (1.22.4)\n",
            "Requirement already satisfied: pillow!=8.3.*,>=5.3.0 in /usr/local/lib/python3.9/dist-packages (from torchvision) (8.4.0)\n",
            "Requirement already satisfied: requests in /usr/local/lib/python3.9/dist-packages (from torchvision) (2.25.1)\n",
            "Requirement already satisfied: certifi>=2017.4.17 in /usr/local/lib/python3.9/dist-packages (from requests->torchvision) (2022.12.7)\n",
            "Requirement already satisfied: idna<3,>=2.5 in /usr/local/lib/python3.9/dist-packages (from requests->torchvision) (2.10)\n",
            "Requirement already satisfied: chardet<5,>=3.0.2 in /usr/local/lib/python3.9/dist-packages (from requests->torchvision) (4.0.0)\n",
            "Requirement already satisfied: urllib3<1.27,>=1.21.1 in /usr/local/lib/python3.9/dist-packages (from requests->torchvision) (1.26.15)\n"
          ]
        }
      ],
      "source": [
        "!pip3 install torch torchvision\n",
        "import torch"
      ]
    },
    {
      "cell_type": "code",
      "source": [
        "# torch.rand() : [0,1)\n",
        "x = torch.rand(2,3)\n",
        "print(x)"
      ],
      "metadata": {
        "colab": {
          "base_uri": "https://localhost:8080/"
        },
        "id": "i-iV5wNcyNNL",
        "outputId": "b6cf9b93-e4ab-4f15-b08c-3b981609fe33"
      },
      "execution_count": 2,
      "outputs": [
        {
          "output_type": "stream",
          "name": "stdout",
          "text": [
            "tensor([[0.4452, 0.6084, 0.2833],\n",
            "        [0.0587, 0.6351, 0.4233]])\n"
          ]
        }
      ]
    },
    {
      "cell_type": "code",
      "source": [
        "# torch.randn() : 가우시안 정규분포에서 샘플링한 값\n",
        "# Random Normal\n",
        "x = torch.randn(2,3)\n",
        "print(x)"
      ],
      "metadata": {
        "colab": {
          "base_uri": "https://localhost:8080/"
        },
        "id": "V0-Hksbyyh_2",
        "outputId": "f35d3731-335f-4828-c48e-104b41baafd2"
      },
      "execution_count": 3,
      "outputs": [
        {
          "output_type": "stream",
          "name": "stdout",
          "text": [
            "tensor([[ 0.0811, -0.4786, -0.0458],\n",
            "        [-0.5505, -0.5402,  0.1565]])\n"
          ]
        }
      ]
    },
    {
      "cell_type": "code",
      "source": [
        "# torch.randint() : 시작과 끝 사이의 랜덤한 자연수\n",
        "# Random Integer\n",
        "x = torch.randint(2,5,size=(2,3))\n",
        "print(x)"
      ],
      "metadata": {
        "colab": {
          "base_uri": "https://localhost:8080/"
        },
        "id": "LJlssAtDzTpp",
        "outputId": "b7d0ff4d-5686-4eed-d2e5-f3ddf84b39be"
      },
      "execution_count": 4,
      "outputs": [
        {
          "output_type": "stream",
          "name": "stdout",
          "text": [
            "tensor([[3, 4, 3],\n",
            "        [4, 4, 4]])\n"
          ]
        }
      ]
    },
    {
      "cell_type": "markdown",
      "source": [
        "## 2.Zeros & Ones"
      ],
      "metadata": {
        "id": "eWcQdUYq0g19"
      }
    },
    {
      "cell_type": "code",
      "source": [
        "# torch.zeros() : 0으로 채워진 텐서\n",
        "x = torch.zeros(2,3)\n",
        "print(x)"
      ],
      "metadata": {
        "colab": {
          "base_uri": "https://localhost:8080/"
        },
        "id": "6xrNsO07z8Un",
        "outputId": "cfa62a4e-19c6-4b55-87ba-8d9044cf2d6d"
      },
      "execution_count": 5,
      "outputs": [
        {
          "output_type": "stream",
          "name": "stdout",
          "text": [
            "tensor([[0., 0., 0.],\n",
            "        [0., 0., 0.]])\n"
          ]
        }
      ]
    },
    {
      "cell_type": "code",
      "source": [
        "# 인자로 들어오는 텐서와 형태가 같은 0으로 채워진 텐서\n",
        "ref = torch.rand(4,5)\n",
        "x = torch.zeros_like(ref)\n",
        "print(ref)\n",
        "print(x)"
      ],
      "metadata": {
        "colab": {
          "base_uri": "https://localhost:8080/"
        },
        "id": "WVmi7qE91B3x",
        "outputId": "b0f7191b-5db0-488a-edec-43a71bb40ea8"
      },
      "execution_count": 6,
      "outputs": [
        {
          "output_type": "stream",
          "name": "stdout",
          "text": [
            "tensor([[0.2839, 0.4600, 0.5161, 0.4609, 0.0126],\n",
            "        [0.6960, 0.6374, 0.7559, 0.0932, 0.1655],\n",
            "        [0.5200, 0.7629, 0.6234, 0.4849, 0.0601],\n",
            "        [0.9597, 0.4878, 0.2196, 0.0643, 0.8339]])\n",
            "tensor([[0., 0., 0., 0., 0.],\n",
            "        [0., 0., 0., 0., 0.],\n",
            "        [0., 0., 0., 0., 0.],\n",
            "        [0., 0., 0., 0., 0.]])\n"
          ]
        }
      ]
    },
    {
      "cell_type": "code",
      "source": [
        "# torch.ones() : 1로 채워진 텐서\n",
        "x = torch.ones(2,3)\n",
        "print(x)"
      ],
      "metadata": {
        "colab": {
          "base_uri": "https://localhost:8080/"
        },
        "id": "CArX63av1RLU",
        "outputId": "e48a1ff2-8498-401f-c73d-5d4824a41a5b"
      },
      "execution_count": 7,
      "outputs": [
        {
          "output_type": "stream",
          "name": "stdout",
          "text": [
            "tensor([[1., 1., 1.],\n",
            "        [1., 1., 1.]])\n"
          ]
        }
      ]
    },
    {
      "cell_type": "code",
      "source": [
        "# 인자로 들어오는 텐서와 형태가 같은 1로 채워진 텐서\n",
        "ref = torch.rand(4,5)\n",
        "x = torch.ones_like(ref)\n",
        "print(ref)\n",
        "print(x)"
      ],
      "metadata": {
        "colab": {
          "base_uri": "https://localhost:8080/"
        },
        "id": "FldgvzSm1ycZ",
        "outputId": "59027138-24f3-4d1f-d558-c996d77fd435"
      },
      "execution_count": 8,
      "outputs": [
        {
          "output_type": "stream",
          "name": "stdout",
          "text": [
            "tensor([[0.1485, 0.0377, 0.1133, 0.3609, 0.5489],\n",
            "        [0.7805, 0.6165, 0.1116, 0.2014, 0.5779],\n",
            "        [0.1265, 0.3520, 0.8403, 0.2554, 0.3601],\n",
            "        [0.5947, 0.1408, 0.4642, 0.2129, 0.8386]])\n",
            "tensor([[1., 1., 1., 1., 1.],\n",
            "        [1., 1., 1., 1., 1.],\n",
            "        [1., 1., 1., 1., 1.],\n",
            "        [1., 1., 1., 1., 1.]])\n"
          ]
        }
      ]
    },
    {
      "cell_type": "markdown",
      "source": [
        "## 3.Tensor Data Type"
      ],
      "metadata": {
        "id": "4OnIspAh1_R4"
      }
    },
    {
      "cell_type": "code",
      "source": [
        "# tensor.type() : 텐서의 데이터 타입을 리턴\n",
        "x = torch.rand(2,3)\n",
        "print(x.type())    # 파이토치에 정의된 메소드\n",
        "print(type(x))     # 파이썬에 정의된 함수"
      ],
      "metadata": {
        "colab": {
          "base_uri": "https://localhost:8080/"
        },
        "id": "5PVrqS-710sk",
        "outputId": "462c941a-6e46-4806-8ff9-b36086ffcb4a"
      },
      "execution_count": 9,
      "outputs": [
        {
          "output_type": "stream",
          "name": "stdout",
          "text": [
            "torch.FloatTensor\n",
            "<class 'torch.Tensor'>\n"
          ]
        }
      ]
    },
    {
      "cell_type": "code",
      "source": [
        "# tensor.type()을 dtype과 함께 사용하면, 텐서의 데이터 타입을 dtype에 넣어준 데이터 타입으로 변환\n",
        "double_x = x.type(dtype=torch.DoubleTensor)\n",
        "print(double_x.type())"
      ],
      "metadata": {
        "colab": {
          "base_uri": "https://localhost:8080/"
        },
        "id": "il2vKF3o2qK9",
        "outputId": "41bc4d0f-f331-49bf-f06e-ca7cba1766d5"
      },
      "execution_count": 10,
      "outputs": [
        {
          "output_type": "stream",
          "name": "stdout",
          "text": [
            "torch.DoubleTensor\n"
          ]
        }
      ]
    },
    {
      "cell_type": "code",
      "source": [
        "# tensor.type_as() : 텐서의 데이터 타입을 변환\n",
        "int_x = x.type_as(torch.IntTensor())\n",
        "print(int_x.type())"
      ],
      "metadata": {
        "colab": {
          "base_uri": "https://localhost:8080/"
        },
        "id": "-n6YIQ1R3xMk",
        "outputId": "00a9fc92-1cce-4501-ee31-b0b37dbb151c"
      },
      "execution_count": 11,
      "outputs": [
        {
          "output_type": "stream",
          "name": "stdout",
          "text": [
            "torch.IntTensor\n"
          ]
        }
      ]
    },
    {
      "cell_type": "markdown",
      "source": [
        "## 4.Numpy to Tensor & Tensor to Numpy"
      ],
      "metadata": {
        "id": "YzVRJX0c5MDx"
      }
    },
    {
      "cell_type": "code",
      "source": [
        "import numpy as np"
      ],
      "metadata": {
        "id": "_e9ZFSpM4tJU"
      },
      "execution_count": 12,
      "outputs": []
    },
    {
      "cell_type": "code",
      "source": [
        "# torch.from_numpy(ndarray) : 넘파이 배열을 토치 텐서로 변환\n",
        "x1 = np.ndarray(shape=(2,3), dtype=int,buffer=np.array([1,2,3,4,5,6]))\n",
        "x2 = torch.from_numpy(x1)\n",
        "print(x1)\n",
        "print(x2, x2.type())"
      ],
      "metadata": {
        "colab": {
          "base_uri": "https://localhost:8080/"
        },
        "id": "xiEkBloC5YKc",
        "outputId": "0c70cda8-4a62-4cca-c05a-89db1b6f929d"
      },
      "execution_count": 13,
      "outputs": [
        {
          "output_type": "stream",
          "name": "stdout",
          "text": [
            "[[1 2 3]\n",
            " [4 5 6]]\n",
            "tensor([[1, 2, 3],\n",
            "        [4, 5, 6]]) torch.LongTensor\n"
          ]
        }
      ]
    },
    {
      "cell_type": "code",
      "source": [
        "# tensor.numpy() : 토치 텐서를 넘파이 배열로 변환\n",
        "x3 = x2.numpy()\n",
        "print(x2)\n",
        "print(x3)"
      ],
      "metadata": {
        "colab": {
          "base_uri": "https://localhost:8080/"
        },
        "id": "-fwjq0Hb6dZv",
        "outputId": "90351b54-e1f8-477e-98c0-c2f517862e9e"
      },
      "execution_count": 14,
      "outputs": [
        {
          "output_type": "stream",
          "name": "stdout",
          "text": [
            "tensor([[1, 2, 3],\n",
            "        [4, 5, 6]])\n",
            "[[1 2 3]\n",
            " [4 5 6]]\n"
          ]
        }
      ]
    },
    {
      "cell_type": "markdown",
      "source": [
        "## 5.Tensor on CPU & GPU"
      ],
      "metadata": {
        "id": "s-PJ_kBg7urX"
      }
    },
    {
      "cell_type": "code",
      "source": [
        "# 배열을 인자로 넣어 토치 텐서를 생성\n",
        "x = torch.FloatTensor([[1,2,3],[4,5,6]])\n",
        "print(x)"
      ],
      "metadata": {
        "colab": {
          "base_uri": "https://localhost:8080/"
        },
        "id": "ndJ9xW0_7BQT",
        "outputId": "6c64e56f-e423-44fd-b554-4a4ad058d3eb"
      },
      "execution_count": 15,
      "outputs": [
        {
          "output_type": "stream",
          "name": "stdout",
          "text": [
            "tensor([[1., 2., 3.],\n",
            "        [4., 5., 6.]])\n"
          ]
        }
      ]
    },
    {
      "cell_type": "code",
      "source": [
        "# device 함수를 사용해, 텐서를 원하는 장치로 이동\n",
        "cpu = torch.device('cpu')\n",
        "gpu = torch.device('cuda')"
      ],
      "metadata": {
        "id": "jK_eq8cM8PUE"
      },
      "execution_count": 16,
      "outputs": []
    },
    {
      "cell_type": "code",
      "source": [
        "# gpu가 사용 가능한지 체크\n",
        "# .to 함수를 이용해, 지정한 장치로 이동\n",
        "if torch.cuda.is_available():\n",
        "  x_gpu = x.to(gpu)\n",
        "  print(x_gpu)\n",
        "  \n",
        "x_cpu = x_gpu.to(cpu)\n",
        "print(x_cpu)"
      ],
      "metadata": {
        "colab": {
          "base_uri": "https://localhost:8080/"
        },
        "id": "ZYmRetBw8oQh",
        "outputId": "9eae634e-ad5e-4fba-cb1b-3f6202753bf7"
      },
      "execution_count": 17,
      "outputs": [
        {
          "output_type": "stream",
          "name": "stdout",
          "text": [
            "tensor([[1., 2., 3.],\n",
            "        [4., 5., 6.]], device='cuda:0')\n",
            "tensor([[1., 2., 3.],\n",
            "        [4., 5., 6.]])\n"
          ]
        }
      ]
    },
    {
      "cell_type": "code",
      "source": [
        "# tensor.size() : 텐서의 형태를 확인\n",
        "\n",
        "# 대괄호 없음 = 사이즈를 지정\n",
        "x = torch.FloatTensor(10,12,3,3)\n",
        "print(x.size(), x.size()[1:2], sep=\"\\n\")\n",
        "# 대괄호 있음 = 값을 지정\n",
        "x = torch.FloatTensor([10,12,3,3])\n",
        "print(x.size(), x.size()[0], sep=\"\\n\")"
      ],
      "metadata": {
        "id": "xw1edLuC9Sxw",
        "colab": {
          "base_uri": "https://localhost:8080/"
        },
        "outputId": "6c22c873-0425-4e5a-9f2c-631baf924765"
      },
      "execution_count": 18,
      "outputs": [
        {
          "output_type": "stream",
          "name": "stdout",
          "text": [
            "torch.Size([10, 12, 3, 3])\n",
            "torch.Size([12])\n",
            "torch.Size([4])\n",
            "4\n"
          ]
        }
      ]
    },
    {
      "cell_type": "markdown",
      "source": [
        "## 6.Indexing, Joining, Slicing & Squeezing"
      ],
      "metadata": {
        "id": "YcCGqW0kqtr7"
      }
    },
    {
      "cell_type": "code",
      "source": [
        "# Indexing\n",
        "x = torch.randn(4,3)\n",
        "print(x)\n",
        "print(x[1:3])"
      ],
      "metadata": {
        "id": "wVlJrSC593cA",
        "colab": {
          "base_uri": "https://localhost:8080/"
        },
        "outputId": "88d7c83b-ebd9-4f39-8c93-99c2b30bd1e8"
      },
      "execution_count": 19,
      "outputs": [
        {
          "output_type": "stream",
          "name": "stdout",
          "text": [
            "tensor([[ 0.7616,  1.2821,  1.3537],\n",
            "        [ 1.3621, -0.1960,  0.1767],\n",
            "        [-0.7791,  0.1326,  1.3418],\n",
            "        [ 1.1299, -1.2716,  0.1481]])\n",
            "tensor([[ 1.3621, -0.1960,  0.1767],\n",
            "        [-0.7791,  0.1326,  1.3418]])\n"
          ]
        }
      ]
    },
    {
      "cell_type": "code",
      "source": [
        "# torch.index_select() : 지정한 차원 기준으로 원하는 값들을 선택할 수 있음\n",
        "selected = torch.index_select(x,dim=1,index=torch.LongTensor([0,2]))\n",
        "print(x)\n",
        "print(selected)"
      ],
      "metadata": {
        "colab": {
          "base_uri": "https://localhost:8080/"
        },
        "id": "u5OodLfRrN8C",
        "outputId": "35ef75d3-c238-437a-93d0-43cac7b8ebf5"
      },
      "execution_count": 20,
      "outputs": [
        {
          "output_type": "stream",
          "name": "stdout",
          "text": [
            "tensor([[ 0.7616,  1.2821,  1.3537],\n",
            "        [ 1.3621, -0.1960,  0.1767],\n",
            "        [-0.7791,  0.1326,  1.3418],\n",
            "        [ 1.1299, -1.2716,  0.1481]])\n",
            "tensor([[ 0.7616,  1.3537],\n",
            "        [ 1.3621,  0.1767],\n",
            "        [-0.7791,  1.3418],\n",
            "        [ 1.1299,  0.1481]])\n"
          ]
        }
      ]
    },
    {
      "cell_type": "code",
      "source": [
        "# torch.masked_select(input, mask) : 뽑고자 하는 값들을 마스킹해서 선택할 수 있음\n",
        "x = torch.randn(2,3)\n",
        "mask = torch.ByteTensor([[0,0,1],[0,1,0]])\n",
        "out = torch.masked_select(x,mask)\n",
        "print(x, mask, out, sep=\"\\n\\n\")"
      ],
      "metadata": {
        "colab": {
          "base_uri": "https://localhost:8080/"
        },
        "id": "ruduxZvzsR-r",
        "outputId": "fee9fde3-7123-4c78-cf76-d5f5600ae8d9"
      },
      "execution_count": 21,
      "outputs": [
        {
          "output_type": "stream",
          "name": "stdout",
          "text": [
            "tensor([[ 1.4241,  1.5851, -0.1880],\n",
            "        [ 0.6320, -0.0287,  0.2919]])\n",
            "\n",
            "tensor([[0, 0, 1],\n",
            "        [0, 1, 0]], dtype=torch.uint8)\n",
            "\n",
            "tensor([-0.1880, -0.0287])\n"
          ]
        },
        {
          "output_type": "stream",
          "name": "stderr",
          "text": [
            "<ipython-input-21-1b7d35e77d78>:4: UserWarning: masked_select received a mask with dtype torch.uint8, this behavior is now deprecated,please use a mask with dtype torch.bool instead. (Triggered internally at ../aten/src/ATen/native/TensorAdvancedIndexing.cpp:1729.)\n",
            "  out = torch.masked_select(x,mask)\n"
          ]
        }
      ]
    },
    {
      "cell_type": "code",
      "source": [
        "# torch.cat(seq, dim=0) : 텐서를 원하는대로 붙일 수 있음\n",
        "x = torch.FloatTensor([[1,2,3],[4,5,6]])       # 2*3\n",
        "y = torch.FloatTensor([[-1,-2,-3],[-4,-5,-6]]) # 2*3\n",
        "z1 = torch.cat([x,y],dim=0)                    # 4*3\n",
        "z2 = torch.cat([x,y],dim=1)                    # 2*6\n",
        "print(x,y,z1,z2,sep=\"\\n\\n\")"
      ],
      "metadata": {
        "colab": {
          "base_uri": "https://localhost:8080/"
        },
        "id": "To0NaiSotcia",
        "outputId": "75711906-baf0-4f28-ba9e-f68b65403838"
      },
      "execution_count": 22,
      "outputs": [
        {
          "output_type": "stream",
          "name": "stdout",
          "text": [
            "tensor([[1., 2., 3.],\n",
            "        [4., 5., 6.]])\n",
            "\n",
            "tensor([[-1., -2., -3.],\n",
            "        [-4., -5., -6.]])\n",
            "\n",
            "tensor([[ 1.,  2.,  3.],\n",
            "        [ 4.,  5.,  6.],\n",
            "        [-1., -2., -3.],\n",
            "        [-4., -5., -6.]])\n",
            "\n",
            "tensor([[ 1.,  2.,  3., -1., -2., -3.],\n",
            "        [ 4.,  5.,  6., -4., -5., -6.]])\n"
          ]
        }
      ]
    },
    {
      "cell_type": "code",
      "source": [
        "# torch.stack(seq, dim=0) : 텐서를 원하는대로 붙일 수 있음(차원 확장)\n",
        "x = torch.FloatTensor([[1,2,3],[4,5,6]]) # 2*3\n",
        "x_stack = torch.stack([x,x,x,x],dim=0)   # 4*2*3\n",
        "print(x_stack,x_stack.size(),sep=\"\\n\\n\")"
      ],
      "metadata": {
        "colab": {
          "base_uri": "https://localhost:8080/"
        },
        "id": "tQbhKwLWu6zS",
        "outputId": "8819e873-a62f-405b-d225-9702f0a07ebe"
      },
      "execution_count": 23,
      "outputs": [
        {
          "output_type": "stream",
          "name": "stdout",
          "text": [
            "tensor([[[1., 2., 3.],\n",
            "         [4., 5., 6.]],\n",
            "\n",
            "        [[1., 2., 3.],\n",
            "         [4., 5., 6.]],\n",
            "\n",
            "        [[1., 2., 3.],\n",
            "         [4., 5., 6.]],\n",
            "\n",
            "        [[1., 2., 3.],\n",
            "         [4., 5., 6.]]])\n",
            "\n",
            "torch.Size([4, 2, 3])\n"
          ]
        }
      ]
    },
    {
      "cell_type": "code",
      "source": [
        "# torch.chunk(tensor, chunks, dim=0) : 텐서를 원하는 chunk 개수만큼 분리할 수 있음\n",
        "x_1, x_2 = torch.chunk(z1,2,dim=0)\n",
        "y_1, y_2, y_3 = torch.chunk(z1,3,dim=1)\n",
        "print(z1,x_1,x_2,z1,y_1,y_2,y_3,sep=\"\\n\\n\")"
      ],
      "metadata": {
        "colab": {
          "base_uri": "https://localhost:8080/"
        },
        "id": "efuLSK7lv9Pv",
        "outputId": "2130ec77-c6c9-4bf5-efd8-227a29a6ec2b"
      },
      "execution_count": 24,
      "outputs": [
        {
          "output_type": "stream",
          "name": "stdout",
          "text": [
            "tensor([[ 1.,  2.,  3.],\n",
            "        [ 4.,  5.,  6.],\n",
            "        [-1., -2., -3.],\n",
            "        [-4., -5., -6.]])\n",
            "\n",
            "tensor([[1., 2., 3.],\n",
            "        [4., 5., 6.]])\n",
            "\n",
            "tensor([[-1., -2., -3.],\n",
            "        [-4., -5., -6.]])\n",
            "\n",
            "tensor([[ 1.,  2.,  3.],\n",
            "        [ 4.,  5.,  6.],\n",
            "        [-1., -2., -3.],\n",
            "        [-4., -5., -6.]])\n",
            "\n",
            "tensor([[ 1.],\n",
            "        [ 4.],\n",
            "        [-1.],\n",
            "        [-4.]])\n",
            "\n",
            "tensor([[ 2.],\n",
            "        [ 5.],\n",
            "        [-2.],\n",
            "        [-5.]])\n",
            "\n",
            "tensor([[ 3.],\n",
            "        [ 6.],\n",
            "        [-3.],\n",
            "        [-6.]])\n"
          ]
        }
      ]
    },
    {
      "cell_type": "code",
      "source": [
        "# torch.split(tensor, split_size, dim=0) : 원하는 사이즈로 텐서를 자를 수 있음\n",
        "x1,x2 = torch.split(z1,2,dim=0)\n",
        "y1 = torch.split(z1,2,dim=1) \n",
        "print(z1,x1,x2,sep=\"\\n\\n\")\n",
        "print(\"This is y1:\")\n",
        "for i in y1:\n",
        "  print(i)"
      ],
      "metadata": {
        "colab": {
          "base_uri": "https://localhost:8080/"
        },
        "id": "uFcNhgCmyC6I",
        "outputId": "09021bb4-ab24-4b7e-a437-d0f16e362d22"
      },
      "execution_count": 25,
      "outputs": [
        {
          "output_type": "stream",
          "name": "stdout",
          "text": [
            "tensor([[ 1.,  2.,  3.],\n",
            "        [ 4.,  5.,  6.],\n",
            "        [-1., -2., -3.],\n",
            "        [-4., -5., -6.]])\n",
            "\n",
            "tensor([[1., 2., 3.],\n",
            "        [4., 5., 6.]])\n",
            "\n",
            "tensor([[-1., -2., -3.],\n",
            "        [-4., -5., -6.]])\n",
            "This is y1:\n",
            "tensor([[ 1.,  2.],\n",
            "        [ 4.,  5.],\n",
            "        [-1., -2.],\n",
            "        [-4., -5.]])\n",
            "tensor([[ 3.],\n",
            "        [ 6.],\n",
            "        [-3.],\n",
            "        [-6.]])\n"
          ]
        }
      ]
    },
    {
      "cell_type": "code",
      "source": [
        "# torch.squeeze(input, dim=None) : 길이가 1인 차원들을 압축시킬 수 있음\n",
        "x1 = torch.FloatTensor(10,1,3,1,4)\n",
        "x2 = torch.squeeze(x1)\n",
        "print(x1.size(),x2.size(),sep=\"\\n\")"
      ],
      "metadata": {
        "colab": {
          "base_uri": "https://localhost:8080/"
        },
        "id": "XhR9jurT0Fr6",
        "outputId": "c57dae7a-dbdb-42c7-c086-b5577370f377"
      },
      "execution_count": 26,
      "outputs": [
        {
          "output_type": "stream",
          "name": "stdout",
          "text": [
            "torch.Size([10, 1, 3, 1, 4])\n",
            "torch.Size([10, 3, 4])\n"
          ]
        }
      ]
    },
    {
      "cell_type": "code",
      "source": [
        "# torch.unsqueeze(input, dim=None) 차원을 늘릴수 있음\n",
        "x1 = torch.FloatTensor(10,3,4)\n",
        "x2 = torch.unsqueeze(x1,dim=0)\n",
        "print(x1.size(),x2.size(),sep=\"\\n\")"
      ],
      "metadata": {
        "colab": {
          "base_uri": "https://localhost:8080/"
        },
        "id": "p7XUveM00b4v",
        "outputId": "e5981bac-66ef-4a2b-d48b-78a743175158"
      },
      "execution_count": 27,
      "outputs": [
        {
          "output_type": "stream",
          "name": "stdout",
          "text": [
            "torch.Size([10, 3, 4])\n",
            "torch.Size([1, 10, 3, 4])\n"
          ]
        }
      ]
    },
    {
      "cell_type": "markdown",
      "source": [
        "## 7.Initialization"
      ],
      "metadata": {
        "id": "BtDuIZFL1yam"
      }
    },
    {
      "cell_type": "code",
      "source": [
        "import torch.nn.init as init"
      ],
      "metadata": {
        "id": "R8qNTPyM0zmc"
      },
      "execution_count": 28,
      "outputs": []
    },
    {
      "cell_type": "code",
      "source": [
        "# uniform 분포를 따라 텐서를 초기화 할 수 있음\n",
        "x1 = init.uniform_(torch.FloatTensor(3,4),a=0,b=9)\n",
        "# 정규 분포를 따라 텐서를 초기화 할 수 있음\n",
        "x2 = init.normal_(torch.FloatTensor(3,4),std=0.2)\n",
        "# 지정한 값으로 텐서를 초기화 할 수 있음\n",
        "x3 = init.constant_(torch.FloatTensor(3,4),3.1415)\n",
        "print(x1,x2,x3,sep=\"\\n\")"
      ],
      "metadata": {
        "colab": {
          "base_uri": "https://localhost:8080/"
        },
        "id": "Ff0l8OHQ18wp",
        "outputId": "2e45ebe0-d43a-4261-83ea-93805dce1641"
      },
      "execution_count": 29,
      "outputs": [
        {
          "output_type": "stream",
          "name": "stdout",
          "text": [
            "tensor([[8.6907, 5.6352, 1.0886, 5.5619],\n",
            "        [1.5300, 1.8654, 0.6595, 1.4503],\n",
            "        [1.6187, 8.5029, 8.1024, 2.8617]])\n",
            "tensor([[ 0.1816,  0.0651,  0.2105,  0.0208],\n",
            "        [ 0.2151,  0.2145,  0.0855, -0.1102],\n",
            "        [-0.3916, -0.4010, -0.2592, -0.1650]])\n",
            "tensor([[3.1415, 3.1415, 3.1415, 3.1415],\n",
            "        [3.1415, 3.1415, 3.1415, 3.1415],\n",
            "        [3.1415, 3.1415, 3.1415, 3.1415]])\n"
          ]
        }
      ]
    },
    {
      "cell_type": "markdown",
      "source": [
        "## 8.Math Operations"
      ],
      "metadata": {
        "id": "_Jc2mXq93DDW"
      }
    },
    {
      "cell_type": "code",
      "source": [
        "# torch.add(): 더하기 연산\n",
        "x1 = torch.FloatTensor([[1,2,3],[4,5,6]])\n",
        "x2 = torch.FloatTensor([[1,2,3],[4,5,6]])\n",
        "add = torch.add(x1,x2)\n",
        "print(x1,x2,add,x1+x2,sep=\"\\n\")"
      ],
      "metadata": {
        "colab": {
          "base_uri": "https://localhost:8080/"
        },
        "id": "tHmlQsJ62Qiw",
        "outputId": "4aace5d6-822b-4856-a120-d77b3f41a6bc"
      },
      "execution_count": 30,
      "outputs": [
        {
          "output_type": "stream",
          "name": "stdout",
          "text": [
            "tensor([[1., 2., 3.],\n",
            "        [4., 5., 6.]])\n",
            "tensor([[1., 2., 3.],\n",
            "        [4., 5., 6.]])\n",
            "tensor([[ 2.,  4.,  6.],\n",
            "        [ 8., 10., 12.]])\n",
            "tensor([[ 2.,  4.,  6.],\n",
            "        [ 8., 10., 12.]])\n"
          ]
        }
      ]
    },
    {
      "cell_type": "code",
      "source": [
        "# torch.add() -> broadcasting\n",
        "x1 = torch.FloatTensor([[1,2,3],[4,5,6]])\n",
        "x2 = torch.add(x1,10)\n",
        "print(x1,x2,x1+10,sep=\"\\n\")"
      ],
      "metadata": {
        "colab": {
          "base_uri": "https://localhost:8080/"
        },
        "id": "-hJym5fd3aux",
        "outputId": "c896ee0a-61cc-4314-bad3-284bba7f69f4"
      },
      "execution_count": 31,
      "outputs": [
        {
          "output_type": "stream",
          "name": "stdout",
          "text": [
            "tensor([[1., 2., 3.],\n",
            "        [4., 5., 6.]])\n",
            "tensor([[11., 12., 13.],\n",
            "        [14., 15., 16.]])\n",
            "tensor([[11., 12., 13.],\n",
            "        [14., 15., 16.]])\n"
          ]
        }
      ]
    },
    {
      "cell_type": "code",
      "source": [
        "# torch.sub(): 빼기 연산\n",
        "x1 = torch.FloatTensor([[1,2,3],[4,5,6]])\n",
        "x2 = torch.FloatTensor([[1,2,3],[4,5,6]])\n",
        "sub = torch.sub(x1,x2)\n",
        "print(x1,x2,sub,x1-x2,sep=\"\\n\")"
      ],
      "metadata": {
        "colab": {
          "base_uri": "https://localhost:8080/"
        },
        "id": "un6pSu_k6SSu",
        "outputId": "0235cb12-195c-4ef9-cd8e-eae25e01a8ae"
      },
      "execution_count": 32,
      "outputs": [
        {
          "output_type": "stream",
          "name": "stdout",
          "text": [
            "tensor([[1., 2., 3.],\n",
            "        [4., 5., 6.]])\n",
            "tensor([[1., 2., 3.],\n",
            "        [4., 5., 6.]])\n",
            "tensor([[0., 0., 0.],\n",
            "        [0., 0., 0.]])\n",
            "tensor([[0., 0., 0.],\n",
            "        [0., 0., 0.]])\n"
          ]
        }
      ]
    },
    {
      "cell_type": "code",
      "source": [
        "# torch.sub() -> broadcasting\n",
        "x1 = torch.FloatTensor([[1,2,3],[4,5,6]])\n",
        "x2 = torch.sub(x1,10)\n",
        "print(x1,x2,x1-10,sep=\"\\n\")"
      ],
      "metadata": {
        "colab": {
          "base_uri": "https://localhost:8080/"
        },
        "id": "w4N3xoWv64pR",
        "outputId": "eab55245-cf54-40c0-c4c1-e02384e50ba3"
      },
      "execution_count": 33,
      "outputs": [
        {
          "output_type": "stream",
          "name": "stdout",
          "text": [
            "tensor([[1., 2., 3.],\n",
            "        [4., 5., 6.]])\n",
            "tensor([[-9., -8., -7.],\n",
            "        [-6., -5., -4.]])\n",
            "tensor([[-9., -8., -7.],\n",
            "        [-6., -5., -4.]])\n"
          ]
        }
      ]
    },
    {
      "cell_type": "code",
      "source": [
        "# torch.mul() : 곱하기 연산(사이즈 일치)\n",
        "x1 = torch.FloatTensor([[1,2,3],[4,5,6]])\n",
        "x2 = torch.FloatTensor([[1,2,3],[4,5,6]])\n",
        "x3 = torch.mul(x1,x2)\n",
        "print(x3)"
      ],
      "metadata": {
        "colab": {
          "base_uri": "https://localhost:8080/"
        },
        "id": "wBYXDXqV3zbs",
        "outputId": "823e6aba-c089-4da8-a81f-8b2557250a04"
      },
      "execution_count": 34,
      "outputs": [
        {
          "output_type": "stream",
          "name": "stdout",
          "text": [
            "tensor([[ 1.,  4.,  9.],\n",
            "        [16., 25., 36.]])\n"
          ]
        }
      ]
    },
    {
      "cell_type": "code",
      "source": [
        "# torch.mul() -> broadcasting\n",
        "x1 = torch.FloatTensor([[1,2,3],[4,5,6]])\n",
        "x2 = torch.mul(x1,10)\n",
        "print(x1,x2,x1*10,sep=\"\\n\")"
      ],
      "metadata": {
        "colab": {
          "base_uri": "https://localhost:8080/"
        },
        "id": "1raFjmUf4l1-",
        "outputId": "c9d205a2-7889-41e4-88ee-1b866aec05f5"
      },
      "execution_count": 35,
      "outputs": [
        {
          "output_type": "stream",
          "name": "stdout",
          "text": [
            "tensor([[1., 2., 3.],\n",
            "        [4., 5., 6.]])\n",
            "tensor([[10., 20., 30.],\n",
            "        [40., 50., 60.]])\n",
            "tensor([[10., 20., 30.],\n",
            "        [40., 50., 60.]])\n"
          ]
        }
      ]
    },
    {
      "cell_type": "code",
      "source": [
        "# torch.div() : 나누기 연산(사이즈 일치)\n",
        "x1 = torch.FloatTensor([[1,2,3],[4,5,6]])\n",
        "x2 = torch.FloatTensor([[1,2,3],[4,5,6]])\n",
        "x3 = torch.div(x1,x2)\n",
        "print(x3)"
      ],
      "metadata": {
        "colab": {
          "base_uri": "https://localhost:8080/"
        },
        "id": "-VExKoiR5h7i",
        "outputId": "44eb4d0c-2edd-4e29-fa06-d07291475249"
      },
      "execution_count": 36,
      "outputs": [
        {
          "output_type": "stream",
          "name": "stdout",
          "text": [
            "tensor([[1., 1., 1.],\n",
            "        [1., 1., 1.]])\n"
          ]
        }
      ]
    },
    {
      "cell_type": "code",
      "source": [
        "# torch.div() -> broadcasting\n",
        "x1 = torch.FloatTensor([[1,2,3],[4,5,6]])\n",
        "x2 = torch.div(x1,10)\n",
        "print(x1,x2,x1/10,sep=\"\\n\")"
      ],
      "metadata": {
        "colab": {
          "base_uri": "https://localhost:8080/"
        },
        "id": "n26CXN7K6DJU",
        "outputId": "8acae127-6c3c-43c6-f8c5-9cdbb3b5d835"
      },
      "execution_count": 37,
      "outputs": [
        {
          "output_type": "stream",
          "name": "stdout",
          "text": [
            "tensor([[1., 2., 3.],\n",
            "        [4., 5., 6.]])\n",
            "tensor([[0.1000, 0.2000, 0.3000],\n",
            "        [0.4000, 0.5000, 0.6000]])\n",
            "tensor([[0.1000, 0.2000, 0.3000],\n",
            "        [0.4000, 0.5000, 0.6000]])\n"
          ]
        }
      ]
    },
    {
      "cell_type": "code",
      "source": [
        "x1 = torch.FloatTensor([[1,2,3],[4,5,6]])\n",
        "# torch.pow(input,exponent) : 파워 연산(x의 n승)\n",
        "x2 = torch.pow(x1,2)\n",
        "# torch.exp(tensor,out=None) : exponential 연산\n",
        "x3 = torch.exp(x1)\n",
        "# torch.log(input,out=None) : 로그 연산\n",
        "x4 = torch.log(x1)\n",
        "print(x1,x2,x3,x4,sep=\"\\n\")"
      ],
      "metadata": {
        "colab": {
          "base_uri": "https://localhost:8080/"
        },
        "id": "1u0emBEK6Jvi",
        "outputId": "8d118f0e-8937-468c-b78c-9572cdb3d91e"
      },
      "execution_count": 38,
      "outputs": [
        {
          "output_type": "stream",
          "name": "stdout",
          "text": [
            "tensor([[1., 2., 3.],\n",
            "        [4., 5., 6.]])\n",
            "tensor([[ 1.,  4.,  9.],\n",
            "        [16., 25., 36.]])\n",
            "tensor([[  2.7183,   7.3891,  20.0855],\n",
            "        [ 54.5981, 148.4132, 403.4288]])\n",
            "tensor([[0.0000, 0.6931, 1.0986],\n",
            "        [1.3863, 1.6094, 1.7918]])\n"
          ]
        }
      ]
    },
    {
      "cell_type": "markdown",
      "source": [
        "## 9.Matrix Operations"
      ],
      "metadata": {
        "id": "zGKQkGJFBupU"
      }
    },
    {
      "cell_type": "code",
      "source": [
        "# torch.mm(mat1,mat2) : 행렬곱 연산\n",
        "x1 = torch.FloatTensor(3,4)\n",
        "x2 = torch.FloatTensor(4,5)\n",
        "torch.mm(x1,x2).size()"
      ],
      "metadata": {
        "colab": {
          "base_uri": "https://localhost:8080/"
        },
        "id": "OXD-Je04A_iO",
        "outputId": "45ade8c9-4e52-40f4-f29d-22adf8cb9b48"
      },
      "execution_count": 39,
      "outputs": [
        {
          "output_type": "execute_result",
          "data": {
            "text/plain": [
              "torch.Size([3, 5])"
            ]
          },
          "metadata": {},
          "execution_count": 39
        }
      ]
    },
    {
      "cell_type": "code",
      "source": [
        "# torch.bmm(batch1,batch2) : 배치 행렬곱 연산\n",
        "x1 = torch.FloatTensor(10,3,4)\n",
        "x2 = torch.FloatTensor(10,4,5)\n",
        "torch.bmm(x1,x2).size()"
      ],
      "metadata": {
        "colab": {
          "base_uri": "https://localhost:8080/"
        },
        "id": "J7zLphwcB4Kd",
        "outputId": "e64916aa-a8bd-4772-dc62-4216a1854813"
      },
      "execution_count": 40,
      "outputs": [
        {
          "output_type": "execute_result",
          "data": {
            "text/plain": [
              "torch.Size([10, 3, 5])"
            ]
          },
          "metadata": {},
          "execution_count": 40
        }
      ]
    },
    {
      "cell_type": "code",
      "source": [
        "# torch.dot(tensor1,tensor2) : 내적 연산\n",
        "x1 = torch.tensor([2, 3])\n",
        "x2 = torch.tensor([2, 1])\n",
        "torch.dot(x1,x2)"
      ],
      "metadata": {
        "colab": {
          "base_uri": "https://localhost:8080/"
        },
        "id": "3gL5FkMpB57_",
        "outputId": "f10fb801-3fbb-4bb1-9526-c34420cbd1c1"
      },
      "execution_count": 41,
      "outputs": [
        {
          "output_type": "execute_result",
          "data": {
            "text/plain": [
              "tensor(7)"
            ]
          },
          "metadata": {},
          "execution_count": 41
        }
      ]
    },
    {
      "cell_type": "code",
      "source": [
        "# torch.t(matrix) : 행렬의 전치\n",
        "x1 = torch.tensor([[1,2],[3,4]])\n",
        "print(x1,x1.t(),sep=\"\\n\")"
      ],
      "metadata": {
        "colab": {
          "base_uri": "https://localhost:8080/"
        },
        "id": "Dvr_OelsB7du",
        "outputId": "5e81aeec-12cd-4434-e609-15781e6e3157"
      },
      "execution_count": 42,
      "outputs": [
        {
          "output_type": "stream",
          "name": "stdout",
          "text": [
            "tensor([[1, 2],\n",
            "        [3, 4]])\n",
            "tensor([[1, 3],\n",
            "        [2, 4]])\n"
          ]
        }
      ]
    },
    {
      "cell_type": "code",
      "source": [
        "# torch.transpose(input,dim0,dim1) : 차원을 지정할 수 있는 행렬의 전치 연산\n",
        "x1 = torch.FloatTensor(10,3,4)\n",
        "print(\"1번 차원과 2번 차원을 전치\")\n",
        "print(x1.size(), torch.transpose(x1,1,2).size(), x1.transpose(1,2).size(),sep=\"\\n\")\n",
        "print(\"\\n0번 차원과 2번 차원을 전치\")\n",
        "print(x1.size(), torch.transpose(x1,0,2).size(), x1.transpose(0,2).size(),sep=\"\\n\")"
      ],
      "metadata": {
        "colab": {
          "base_uri": "https://localhost:8080/"
        },
        "id": "uOGWFXkXB9VW",
        "outputId": "4fa32c52-ab21-4c14-c33a-4d6081c147ee"
      },
      "execution_count": 43,
      "outputs": [
        {
          "output_type": "stream",
          "name": "stdout",
          "text": [
            "1번 차원과 2번 차원을 전치\n",
            "torch.Size([10, 3, 4])\n",
            "torch.Size([10, 4, 3])\n",
            "torch.Size([10, 4, 3])\n",
            "\n",
            "0번 차원과 2번 차원을 전치\n",
            "torch.Size([10, 3, 4])\n",
            "torch.Size([4, 3, 10])\n",
            "torch.Size([4, 3, 10])\n"
          ]
        }
      ]
    },
    {
      "cell_type": "code",
      "source": [],
      "metadata": {
        "id": "WtRhXGXzB_fV"
      },
      "execution_count": 43,
      "outputs": []
    }
  ]
}
