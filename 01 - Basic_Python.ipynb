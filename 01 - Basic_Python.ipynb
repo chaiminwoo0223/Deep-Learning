{
  "nbformat": 4,
  "nbformat_minor": 0,
  "metadata": {
    "colab": {
      "provenance": [],
      "authorship_tag": "ABX9TyMktzy6pCGnZatsHmBktGmv",
      "include_colab_link": true
    },
    "kernelspec": {
      "name": "python3",
      "display_name": "Python 3"
    },
    "language_info": {
      "name": "python"
    },
    "gpuClass": "standard"
  },
  "cells": [
    {
      "cell_type": "markdown",
      "metadata": {
        "id": "view-in-github",
        "colab_type": "text"
      },
      "source": [
        "<a href=\"https://colab.research.google.com/github/chaiminwoo0223/Deep-Learning/blob/main/01%20-%20Basic_Python.ipynb\" target=\"_parent\"><img src=\"https://colab.research.google.com/assets/colab-badge.svg\" alt=\"Open In Colab\"/></a>"
      ]
    },
    {
      "cell_type": "markdown",
      "source": [
        "## 1.Print"
      ],
      "metadata": {
        "id": "jFa5VHkktTtO"
      }
    },
    {
      "cell_type": "code",
      "execution_count": 1,
      "metadata": {
        "id": "eu33TFaNfesZ",
        "colab": {
          "base_uri": "https://localhost:8080/"
        },
        "outputId": "61ddab4d-dbf3-4250-f3b9-af73ae6dda1e"
      },
      "outputs": [
        {
          "output_type": "stream",
          "name": "stdout",
          "text": [
            "Hello World\n",
            "Hello\tHi\n",
            "Helloabc"
          ]
        }
      ],
      "source": [
        "# print 함수에는 기본적으로 줄바꿈(new line)이 들어가 있다.\n",
        "print(\"Hello World\")\n",
        "\n",
        "# 문자열을 출력하고 이어서 출력할 문자열은 명시적으로 바꿀 수 있다.\n",
        "print(\"Hello\", end = \"\\t\")\n",
        "print(\"Hi\")\n",
        "\n",
        "# 문자열을 출력하고 이어서 출력할 문자열은 명시적으로 지정할 수 있다.\n",
        "print(\"Hello\", end = \"abc\")"
      ]
    },
    {
      "cell_type": "code",
      "source": [
        "# format 이라는 함수를 이용해 문자열의 특정 위치에 변수를 출력할수도 있다.\n",
        "string = \"python\"\n",
        "print(\"I love {}\".format(string))"
      ],
      "metadata": {
        "id": "c7iyCd3YgBsV",
        "colab": {
          "base_uri": "https://localhost:8080/"
        },
        "outputId": "6454f6c1-9e37-470c-9f6f-434a5084c877"
      },
      "execution_count": 2,
      "outputs": [
        {
          "output_type": "stream",
          "name": "stdout",
          "text": [
            "I love python\n"
          ]
        }
      ]
    },
    {
      "cell_type": "code",
      "source": [
        "# format 함수는 다양한 설정으로 사용할 수 있다.(예 : 전체 12칸에서 왼쪽 정렬, 오른쪽 정렬, 가운데 정렬 그리고 빈칸을 다른 값으로 채우는 방법)\n",
        "print(\"{:<12}\".format(999))\n",
        "print(\"{:>12}\".format(999))\n",
        "print(\"{:^12}\".format(999))\n",
        "print(\"{:*^12}\".format(999))"
      ],
      "metadata": {
        "id": "RvO3jPi0gWQl",
        "colab": {
          "base_uri": "https://localhost:8080/"
        },
        "outputId": "bf8a5516-c533-4053-d3c1-0d94db955e1c"
      },
      "execution_count": 3,
      "outputs": [
        {
          "output_type": "stream",
          "name": "stdout",
          "text": [
            "999         \n",
            "         999\n",
            "    999     \n",
            "****999*****\n"
          ]
        }
      ]
    },
    {
      "cell_type": "markdown",
      "source": [
        "## 2.변수와 변수의 타입"
      ],
      "metadata": {
        "id": "hF9q5w1utklm"
      }
    },
    {
      "cell_type": "code",
      "source": [
        "# 파이썬은 자동으로 타입을 지정해준다.\n",
        "\n",
        "# 정수(int)\n",
        "a = 2\n",
        "print(a, type(a))\n",
        "\n",
        "# 실수(float)\n",
        "b = 2.0\n",
        "print(b, type(b))\n",
        "\n",
        "# 문자열(string)\n",
        "c = \"Hello\"\n",
        "print(c, type(c))"
      ],
      "metadata": {
        "id": "OiTjtAtKgoz1",
        "colab": {
          "base_uri": "https://localhost:8080/"
        },
        "outputId": "c6a67f64-4d25-4790-9a55-2f99d680bb7c"
      },
      "execution_count": 4,
      "outputs": [
        {
          "output_type": "stream",
          "name": "stdout",
          "text": [
            "2 <class 'int'>\n",
            "2.0 <class 'float'>\n",
            "Hello <class 'str'>\n"
          ]
        }
      ]
    },
    {
      "cell_type": "code",
      "source": [
        "# 만약 정수와 실수를 더하면, 실수로 저장된다.\n",
        "d = a + b\n",
        "print(d, type(d))\n",
        "\n",
        "# 문자열끼리는 더하기 연산을 통해, 이어 붙이기가 가능하다.\n",
        "e = str(a) + \" \" + c + \"/abcdef\"\n",
        "print(e, type(e))"
      ],
      "metadata": {
        "id": "L71sXeO4hGkG",
        "colab": {
          "base_uri": "https://localhost:8080/"
        },
        "outputId": "006c9399-9b06-44bd-ebd8-93f93fe84381"
      },
      "execution_count": 5,
      "outputs": [
        {
          "output_type": "stream",
          "name": "stdout",
          "text": [
            "4.0 <class 'float'>\n",
            "2 Hello/abcdef <class 'str'>\n"
          ]
        }
      ]
    },
    {
      "cell_type": "markdown",
      "source": [
        "## 3.사칙연산"
      ],
      "metadata": {
        "id": "-AlItsWtt2Td"
      }
    },
    {
      "cell_type": "code",
      "source": [
        "# 파이썬에서는 다양한 사칙연산이 정의되어 있다.\n",
        "\n",
        "a = 1\n",
        "b = 2\n",
        "c = 5\n",
        "\n",
        "print(a+b)  # add\n",
        "print(a-b)  # subtract\n",
        "print(b*c)  # multiply\n",
        "print(b/c)  # divide\n",
        "print(c//b) # quotient\n",
        "print(c%b)  # remainder\n",
        "print(b**c) # power"
      ],
      "metadata": {
        "id": "4TmETzrqhkCG",
        "colab": {
          "base_uri": "https://localhost:8080/"
        },
        "outputId": "5cf973e4-67de-47e4-8a56-3b52f7ea4a21"
      },
      "execution_count": 6,
      "outputs": [
        {
          "output_type": "stream",
          "name": "stdout",
          "text": [
            "3\n",
            "-1\n",
            "10\n",
            "0.4\n",
            "2\n",
            "1\n",
            "32\n"
          ]
        }
      ]
    },
    {
      "cell_type": "markdown",
      "source": [
        "## 4.List"
      ],
      "metadata": {
        "id": "322oRVxzt9ms"
      }
    },
    {
      "cell_type": "code",
      "source": [
        "# 리스트의 생성\n",
        "list_1 = [1,2,3]\n",
        "\n",
        "# 리스트의 타입\n",
        "print(type(list_1))\n",
        "\n",
        "# 리스트의 출력\n",
        "print(list_1)\n",
        "\n",
        "# 리스트에 요소 추가\n",
        "list_1.append(4)\n",
        "print(list_1)\n",
        "\n",
        "# 정수로만 이루어진 리스트에 문자열 추가\n",
        "list_1.append(\"abc\")\n",
        "print(list_1)\n",
        "\n",
        "# 리스트에 리스트 추가\n",
        "list_1.append(list_1)\n",
        "print(list_1)"
      ],
      "metadata": {
        "colab": {
          "base_uri": "https://localhost:8080/"
        },
        "id": "rucuc5wC_-lS",
        "outputId": "7ae4b507-c85c-4fc6-9a83-75e7f1c6d4c2"
      },
      "execution_count": 7,
      "outputs": [
        {
          "output_type": "stream",
          "name": "stdout",
          "text": [
            "<class 'list'>\n",
            "[1, 2, 3]\n",
            "[1, 2, 3, 4]\n",
            "[1, 2, 3, 4, 'abc']\n",
            "[1, 2, 3, 4, 'abc', [...]]\n"
          ]
        }
      ]
    },
    {
      "cell_type": "code",
      "source": [
        "# 리스트의 인덱싱\n",
        "print(list_1[2:-1])\n",
        "print(list_1[2:-2])\n",
        "print(list_1[1:3])"
      ],
      "metadata": {
        "colab": {
          "base_uri": "https://localhost:8080/"
        },
        "id": "EVdwUGcMA0Lm",
        "outputId": "00bfb787-35aa-4287-a253-ad097fd93ea5"
      },
      "execution_count": 8,
      "outputs": [
        {
          "output_type": "stream",
          "name": "stdout",
          "text": [
            "[3, 4, 'abc']\n",
            "[3, 4]\n",
            "[2, 3]\n"
          ]
        }
      ]
    },
    {
      "cell_type": "code",
      "source": [
        "# 리스트 요소 지우기(delete)\n",
        "del list_1[-1]\n",
        "print(list_1)\n",
        "\n",
        "# 리스트 마지막 요소 꺼내기(pop)\n",
        "list_1.pop()\n",
        "print(list_1)"
      ],
      "metadata": {
        "id": "VblbqKQKi_ZV",
        "colab": {
          "base_uri": "https://localhost:8080/"
        },
        "outputId": "24a6778c-bf14-4478-b2f8-80153f01c965"
      },
      "execution_count": 9,
      "outputs": [
        {
          "output_type": "stream",
          "name": "stdout",
          "text": [
            "[1, 2, 3, 4, 'abc']\n",
            "[1, 2, 3, 4]\n"
          ]
        }
      ]
    },
    {
      "cell_type": "markdown",
      "source": [
        "## 5.Dictionary"
      ],
      "metadata": {
        "id": "Ks6lvgUnuEN0"
      }
    },
    {
      "cell_type": "code",
      "source": [
        "# 딕셔너리의 생성(\"key\" = value)\n",
        "dict_1 = {\n",
        "    \"이름\" : \"최민우\", \"학번\" : \"202114058\", \n",
        "    \"강의\" : [\"인공지능 3\", \"소프트워어공학 3\"]\n",
        "}\n",
        "\n",
        "# 키의 종류를 확인\n",
        "print(dict_1.keys())\n",
        "\n",
        "# 키를 이용해 그 키에 해당하는 값을 불러오는 방법\n",
        "print(dict_1[\"이름\"])"
      ],
      "metadata": {
        "colab": {
          "base_uri": "https://localhost:8080/"
        },
        "id": "9HMtC8DBB-XY",
        "outputId": "83b4acd6-0b43-4678-c2cc-206c18d0f5c0"
      },
      "execution_count": 10,
      "outputs": [
        {
          "output_type": "stream",
          "name": "stdout",
          "text": [
            "dict_keys(['이름', '학번', '강의'])\n",
            "최민우\n"
          ]
        }
      ]
    },
    {
      "cell_type": "code",
      "source": [
        "# 딕셔너리의 타입\n",
        "print(type(dict_1))\n",
        "\n",
        "# 딕셔너리의 출력\n",
        "print(dict_1)\n",
        "\n",
        "# 딕셔너리에 요소를 추가\n",
        "dict_1[\"사는곳\"] = \"서울특별시 은평구\"\n",
        "print(dict_1)\n",
        "\n",
        "# 키를 이용해 삭제하는 방법\n",
        "del dict_1[\"사는곳\"]\n",
        "print(dict_1)"
      ],
      "metadata": {
        "colab": {
          "base_uri": "https://localhost:8080/"
        },
        "id": "PcgT-Mm7EqvD",
        "outputId": "b5ff5e71-6d2a-4bee-81e2-cb347dd77553"
      },
      "execution_count": 11,
      "outputs": [
        {
          "output_type": "stream",
          "name": "stdout",
          "text": [
            "<class 'dict'>\n",
            "{'이름': '최민우', '학번': '202114058', '강의': ['인공지능 3', '소프트워어공학 3']}\n",
            "{'이름': '최민우', '학번': '202114058', '강의': ['인공지능 3', '소프트워어공학 3'], '사는곳': '서울특별시 은평구'}\n",
            "{'이름': '최민우', '학번': '202114058', '강의': ['인공지능 3', '소프트워어공학 3']}\n"
          ]
        }
      ]
    },
    {
      "cell_type": "markdown",
      "source": [
        "## 6.반복문"
      ],
      "metadata": {
        "id": "i4y200Q0uKZW"
      }
    },
    {
      "cell_type": "code",
      "source": [
        "# for 반복문\n",
        "for i in range(5):\n",
        "    print(i)\n",
        "print(\"\\n\")\n",
        "\n",
        "# range() : 시작점, 끝점, 한번에 이동하는 크기를 지정.\n",
        "for i in range(0,-5,-1):\n",
        "    print(i)\n",
        "print(\"\\n\")\n",
        "\n",
        "# for 반복문의 활용\n",
        "for i in range(5,99,10):\n",
        "    print(i)"
      ],
      "metadata": {
        "colab": {
          "base_uri": "https://localhost:8080/"
        },
        "id": "GM7fPaMWro6D",
        "outputId": "06fb4a43-2880-4e09-8e38-c6863374f209"
      },
      "execution_count": 12,
      "outputs": [
        {
          "output_type": "stream",
          "name": "stdout",
          "text": [
            "0\n",
            "1\n",
            "2\n",
            "3\n",
            "4\n",
            "\n",
            "\n",
            "0\n",
            "-1\n",
            "-2\n",
            "-3\n",
            "-4\n",
            "\n",
            "\n",
            "5\n",
            "15\n",
            "25\n",
            "35\n",
            "45\n",
            "55\n",
            "65\n",
            "75\n",
            "85\n",
            "95\n"
          ]
        }
      ]
    },
    {
      "cell_type": "code",
      "source": [
        "# for 반복문을 이용한 리스트의 출력\n",
        "print(list_1)\n",
        "for i in list_1:\n",
        "    print(i)\n",
        "print(\"\\n\")\n",
        "\n",
        "# for 반복문을 이용한 딕셔너리의 출력(\"key\" = value)\n",
        "print(dict_1)\n",
        "for key in dict_1:\n",
        "    print(key,\"\\t\",dict_1[key])\n",
        "print(\"\\n\")\n",
        "\n",
        "# enumerate() : 현재 몇번째 출력인지를 확인\n",
        "for idx,i in enumerate(dict_1.keys()):\n",
        "    print(idx,i)"
      ],
      "metadata": {
        "colab": {
          "base_uri": "https://localhost:8080/"
        },
        "id": "j2kOK9-OulSH",
        "outputId": "422e6ee4-d55a-4f28-bb91-8fd874b9f848"
      },
      "execution_count": 13,
      "outputs": [
        {
          "output_type": "stream",
          "name": "stdout",
          "text": [
            "[1, 2, 3, 4]\n",
            "1\n",
            "2\n",
            "3\n",
            "4\n",
            "\n",
            "\n",
            "{'이름': '최민우', '학번': '202114058', '강의': ['인공지능 3', '소프트워어공학 3']}\n",
            "이름 \t 최민우\n",
            "학번 \t 202114058\n",
            "강의 \t ['인공지능 3', '소프트워어공학 3']\n",
            "\n",
            "\n",
            "0 이름\n",
            "1 학번\n",
            "2 강의\n"
          ]
        }
      ]
    },
    {
      "cell_type": "code",
      "source": [
        "# while 반복문\n",
        "a = 0\n",
        "while(a<10):\n",
        "    print(a)\n",
        "    a += 1   # a = a + 1"
      ],
      "metadata": {
        "id": "WJhuD-NMm4Am",
        "colab": {
          "base_uri": "https://localhost:8080/"
        },
        "outputId": "49d8bfcd-4e2a-48b6-eb84-510e67588ab5"
      },
      "execution_count": 14,
      "outputs": [
        {
          "output_type": "stream",
          "name": "stdout",
          "text": [
            "0\n",
            "1\n",
            "2\n",
            "3\n",
            "4\n",
            "5\n",
            "6\n",
            "7\n",
            "8\n",
            "9\n"
          ]
        }
      ]
    },
    {
      "cell_type": "markdown",
      "source": [
        "## 7.조건문"
      ],
      "metadata": {
        "id": "dczokrpXyFVb"
      }
    },
    {
      "cell_type": "code",
      "source": [
        "# 일치 여부 출력\n",
        "print(2==2)\n",
        "print(2==3)\n",
        "\n",
        "# 불일치 여부 출력\n",
        "print(2!=2)\n",
        "print(2!=3)\n",
        "\n",
        "# 일치 여부 출력(문자열)\n",
        "print(\"AB\"==\"A\")\n",
        "print(\"AB\"==\"AB\")"
      ],
      "metadata": {
        "id": "TPXWOmhOnEsT",
        "colab": {
          "base_uri": "https://localhost:8080/"
        },
        "outputId": "630acc2b-9ff6-447f-d75a-0696942a523e"
      },
      "execution_count": 15,
      "outputs": [
        {
          "output_type": "stream",
          "name": "stdout",
          "text": [
            "True\n",
            "False\n",
            "False\n",
            "True\n",
            "False\n",
            "True\n"
          ]
        }
      ]
    },
    {
      "cell_type": "code",
      "source": [
        "print(dict_1)\n",
        "\n",
        "# 딕셔너리에서 \"이름\" 키에 해당하는 value 뽑아내기\n",
        "for key in dict_1:\n",
        "    if key == \"이름\":      # key 값이 일치하면, 해당 키에 대한 value를 출력\n",
        "        print(dict_1[key])\n",
        "    else:                  # key 값이 일치하지 않는다면, 딕셔너리의 다음 key로 pass(그냥 넘어간다!)\n",
        "        pass"
      ],
      "metadata": {
        "id": "mZavdEuxnfNX",
        "colab": {
          "base_uri": "https://localhost:8080/"
        },
        "outputId": "46dcb3ca-eab4-439b-8666-99a136638a36"
      },
      "execution_count": 16,
      "outputs": [
        {
          "output_type": "stream",
          "name": "stdout",
          "text": [
            "{'이름': '최민우', '학번': '202114058', '강의': ['인공지능 3', '소프트워어공학 3']}\n",
            "최민우\n"
          ]
        }
      ]
    },
    {
      "cell_type": "code",
      "source": [
        "# 위의 방식을 한줄로 표현 가능(list comprehension)\n",
        "[dict_1[key] for key in dict_1 if key == \"이름\"]"
      ],
      "metadata": {
        "id": "yfOwPYpan38W",
        "colab": {
          "base_uri": "https://localhost:8080/"
        },
        "outputId": "39765338-23e3-4113-95fd-b44c92d4f80f"
      },
      "execution_count": 17,
      "outputs": [
        {
          "output_type": "execute_result",
          "data": {
            "text/plain": [
              "['최민우']"
            ]
          },
          "metadata": {},
          "execution_count": 17
        }
      ]
    },
    {
      "cell_type": "markdown",
      "source": [
        "## 8.함수"
      ],
      "metadata": {
        "id": "-nAUP05H1wQg"
      }
    },
    {
      "cell_type": "code",
      "source": [
        "# 팩토리얼 함수 정의\n",
        "def factorial(num):\n",
        "    result = 1\n",
        "    for i in range(1,num+1):\n",
        "        result = result*i\n",
        "    return result\n",
        "\n",
        "print(factorial(5))"
      ],
      "metadata": {
        "id": "DBFtATJponxG",
        "colab": {
          "base_uri": "https://localhost:8080/"
        },
        "outputId": "86014496-ea5c-4c7b-f6ab-901431bf6c4a"
      },
      "execution_count": 18,
      "outputs": [
        {
          "output_type": "stream",
          "name": "stdout",
          "text": [
            "120\n"
          ]
        }
      ]
    },
    {
      "cell_type": "markdown",
      "source": [
        "## 9. 클래스와 인스턴스"
      ],
      "metadata": {
        "id": "KxoTCS662P4V"
      }
    },
    {
      "cell_type": "code",
      "source": [
        "# 클래스의 생성(First)\n",
        "class Jedi(object):\n",
        "    def __init__(self,name,droid):\n",
        "        self.name = name\n",
        "        self.droid = droid\n",
        "        self.exp = 0\n",
        "    def train(self):\n",
        "        self.exp += 10\n",
        "\n",
        "# instance\n",
        "anakin = Jedi(\"Anakin Skywalker\",\"R2D2\")\n",
        "anakin.train()\n",
        "\n",
        "print(anakin.name)\n",
        "print(anakin.droid)\n",
        "print(anakin.exp)"
      ],
      "metadata": {
        "id": "BlaX-19UpFqm",
        "colab": {
          "base_uri": "https://localhost:8080/"
        },
        "outputId": "706f44ca-4de2-4f2f-8f8a-66fb395d7882"
      },
      "execution_count": 19,
      "outputs": [
        {
          "output_type": "stream",
          "name": "stdout",
          "text": [
            "Anakin Skywalker\n",
            "R2D2\n",
            "10\n"
          ]
        }
      ]
    },
    {
      "cell_type": "code",
      "source": [
        "# 클래스의 생성(Second)\n",
        "class Bus(object):\n",
        "    def __init__(self,number,fee):\n",
        "        self.number = number\n",
        "        self.fee = fee\n",
        "        self.people = []\n",
        "\n",
        "class Person(object):\n",
        "    def __init__(self,name,money):\n",
        "        self.name = name\n",
        "        self.money = money\n",
        "    def ride(self,bus):\n",
        "        self.money -= bus.fee\n",
        "        bus.people.append(self)\n",
        "\n",
        "# instance \n",
        "bus588 = Bus(588, 1200)\n",
        "cmw = Person(\"최민우\",5000)\n",
        "\n",
        "cmw.ride(bus588)\n",
        "print(cmw.money)\n",
        "print(bus588.people[0].name)"
      ],
      "metadata": {
        "id": "s9XHTB6RqHrG",
        "colab": {
          "base_uri": "https://localhost:8080/"
        },
        "outputId": "9fee8120-25ac-4893-ad59-a7f917a0c88b"
      },
      "execution_count": 20,
      "outputs": [
        {
          "output_type": "stream",
          "name": "stdout",
          "text": [
            "3800\n",
            "최민우\n"
          ]
        }
      ]
    },
    {
      "cell_type": "code",
      "source": [],
      "metadata": {
        "id": "fceCt87atHDY"
      },
      "execution_count": 20,
      "outputs": []
    }
  ]
}