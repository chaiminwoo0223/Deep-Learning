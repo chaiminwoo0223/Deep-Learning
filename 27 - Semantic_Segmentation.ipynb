{
  "nbformat": 4,
  "nbformat_minor": 0,
  "metadata": {
    "colab": {
      "provenance": [],
      "gpuType": "T4",
      "authorship_tag": "ABX9TyN4YA9xVhVnvVTa8jpbrgTk",
      "include_colab_link": true
    },
    "kernelspec": {
      "name": "python3",
      "display_name": "Python 3"
    },
    "language_info": {
      "name": "python"
    },
    "accelerator": "GPU"
  },
  "cells": [
    {
      "cell_type": "markdown",
      "metadata": {
        "id": "view-in-github",
        "colab_type": "text"
      },
      "source": [
        "<a href=\"https://colab.research.google.com/github/chaiminwoo0223/Deep-Learning/blob/main/27%20-%20Semantic_Segmentation.ipynb\" target=\"_parent\"><img src=\"https://colab.research.google.com/assets/colab-badge.svg\" alt=\"Open In Colab\"/></a>"
      ]
    },
    {
      "cell_type": "markdown",
      "source": [
        "# U-Net Architecture\n",
        "\n",
        "![대체 텍스트](https://lmb.informatik.uni-freiburg.de/people/ronneber/u-net/u-net-architecture.png)"
      ],
      "metadata": {
        "id": "TPE1CL8Bya7y"
      }
    },
    {
      "cell_type": "code",
      "source": [
        "import torch.nn as nn\n",
        "import torch\n",
        "import torch.utils as utils\n",
        "import torch.nn.init as init\n",
        "import torch.utils.data as data\n",
        "import torchvision.utils as v_utils\n",
        "import torchvision.datasets as dset\n",
        "import torchvision.transforms as transforms"
      ],
      "metadata": {
        "id": "XLvn74tsyjuE"
      },
      "execution_count": 1,
      "outputs": []
    },
    {
      "cell_type": "code",
      "source": [
        "batch_size = 16\n",
        "img_size = 256\n",
        "in_dim = 1\n",
        "out_dim = 3\n",
        "num_filters = 16"
      ],
      "metadata": {
        "id": "yHrkXH3ZzHu0"
      },
      "execution_count": 2,
      "outputs": []
    },
    {
      "cell_type": "code",
      "source": [
        "# 자주 쓰는 연산들과 항상 세트로 쓰는 연산들은 편의를 위해 함수로 정의해 놓는다.\n",
        "def conv_block(in_dim, out_dim, act_fn):\n",
        "    model = nn.Sequential(\n",
        "        nn.Conv2d(in_dim, out_dim, kernel_size=3, stride=1, padding=1),\n",
        "        nn.BatchNorm2d(out_dim),\n",
        "        act_fn\n",
        "    )\n",
        "    return model\n",
        "\n",
        "def conv_trans_block(in_dim, out_dim, act_fn):\n",
        "    model = nn.Sequential(\n",
        "        nn.ConvTranspose2d(in_dim, out_dim, kernel_size=3, stride=2, padding=1, output_padding=1),\n",
        "        nn.BatchNorm2d(out_dim),\n",
        "        act_fn        \n",
        "    )\n",
        "    return model\n",
        "    \n",
        "def maxpool():\n",
        "    pool = nn.MaxPool2d(kernel_size=2, stride=2, padding=0)\n",
        "    return pool\n",
        "\n",
        "def conv_block_2(in_dim, out_dim, act_fn):\n",
        "    model = nn.Sequential(\n",
        "        conv_block(in_dim, out_dim, act_fn),\n",
        "        nn.Conv2d(out_dim, out_dim, kernel_size=3, stride=1, padding=1),\n",
        "        nn.BatchNorm2d(out_dim)\n",
        "    )\n",
        "    return model"
      ],
      "metadata": {
        "id": "gmy58wRMzHwz"
      },
      "execution_count": 3,
      "outputs": []
    },
    {
      "cell_type": "code",
      "source": [
        "class UnetGenerator(nn.Module):\n",
        "    def __init__(self, in_dim, out_dim, num_filter):\n",
        "        super(UnetGenerator, self).__init__()\n",
        "        self.in_dim = in_dim\n",
        "        self.out_dim = out_dim\n",
        "        self.num_filter = num_filter\n",
        "        act_fn = nn.LeakyReLU(0.2, inplace=True)\n",
        "\n",
        "        print(\"\\n------Initiating U-Net------\\n\")\n",
        "\n",
        "        self.down_1 = conv_block_2(self.in_dim, self.num_filter, act_fn)\n",
        "        self.pool_1 = maxpool()\n",
        "        self.down_2 = conv_block_2(self.num_filter, self.num_filter*2, act_fn)\n",
        "        self.pool_2 = maxpool()\n",
        "        self.down_3 = conv_block_2(self.num_filter*2, self.num_filter*4, act_fn)\n",
        "        self.pool_3 = maxpool()\n",
        "        self.down_4 = conv_block_2(self.num_filter*4, self.num_filter*8, act_fn)\n",
        "        self.pool_4 = maxpool()\n",
        "        self.bridge = conv_block_2(self.num_filter*8, self.num_filter*16, act_fn)\n",
        "        self.trans_1 = conv_trans_block(self.num_filter*16, self.num_filter*8, act_fn)\n",
        "        self.up_1 = conv_block_2(self.num_filter*16, self.num_filter*8, act_fn)\n",
        "        self.trans_2 = conv_trans_block(self.num_filter*8, self.num_filter*4, act_fn)\n",
        "        self.up_2 = conv_block_2(self.num_filter*8, self.num_filter*4, act_fn)\n",
        "        self.trans_3 = conv_trans_block(self.num_filter*4, self.num_filter*2, act_fn)\n",
        "        self.up_3 = conv_block_2(self.num_filter*4, self.num_filter*2, act_fn)\n",
        "        self.trans_4 = conv_trans_block(self.num_filter*2, self.num_filter, act_fn)\n",
        "        self.up_4 = conv_block_2(self.num_filter*2, self.num_filter, act_fn)\n",
        "        self.out = nn.Sequential(\n",
        "            nn.Conv2d(self.num_filter, self.out_dim, 3, 1, 1),\n",
        "            nn.Tanh() # 필수는 아님\n",
        "        )\n",
        "\n",
        "    def forward(self, input):\n",
        "        down_1 = self.down_1(input)\n",
        "        pool_1 = self.pool_1(down_1)\n",
        "        down_2 = self.down_2(pool_1)\n",
        "        pool_2 = self.pool_2(down_2)\n",
        "        down_3 = self.down_3(pool_2)\n",
        "        pool_3 = self.pool_3(down_3)\n",
        "        down_4 = self.down_4(pool_3)\n",
        "        pool_4 = self.pool_4(down_4)\n",
        "        bridge = self.bridge(pool_4)\n",
        "        trans_1 = self.trans_1(bridge)\n",
        "        concat_1 = torch.cat([trans_1, down_4], dim=1)\n",
        "        up_1 = self.up_1(concat_1)\n",
        "        trans_2 = self.trans_2(up_1)\n",
        "        concat_2 = torch.cat([trans_2, down_3], dim=1)\n",
        "        up_2 = self.up_2(concat_2)\n",
        "        trans_3 = self.trans_3(up_2)\n",
        "        concat_3 = torch.cat([trans_3, down_2], dim=1)\n",
        "        up_3 = self.up_3(concat_3)\n",
        "        trans_4 = self.trans_4(up_3)\n",
        "        concat_4 = torch.cat([trans_4, down_1], dim=1)\n",
        "        up_4 = self.up_4(concat_4)\n",
        "        out = self.out(up_4)\n",
        "\n",
        "        print(input.size())\n",
        "        print(down_1.size())\n",
        "        print(pool_1.size())\n",
        "        print(down_2.size())\n",
        "        print(pool_2.size())\n",
        "        print(down_3.size())\n",
        "        print(pool_3.size())\n",
        "        print(down_4.size())\n",
        "        print(pool_4.size())\n",
        "        print(bridge.size())\n",
        "        print(trans_1.size())\n",
        "        print(concat_1.size())\n",
        "        print(up_1.size())\n",
        "        print(trans_2.size())\n",
        "        print(concat_2.size())\n",
        "        print(up_2.size())\n",
        "        print(trans_3.size())\n",
        "        print(concat_3.size())\n",
        "        print(up_3.size())\n",
        "        print(trans_4.size())\n",
        "        print(concat_4.size())\n",
        "        print(up_4.size())\n",
        "        print(out.size())\n",
        "        return out"
      ],
      "metadata": {
        "id": "3Mtaw8aFzHy9"
      },
      "execution_count": 4,
      "outputs": []
    },
    {
      "cell_type": "code",
      "source": [
        "sample_input = torch.ones(size=(batch_size, 1, img_size, img_size))"
      ],
      "metadata": {
        "id": "Y7TYL0ylzH1K"
      },
      "execution_count": 5,
      "outputs": []
    },
    {
      "cell_type": "code",
      "source": [
        "model = UnetGenerator(in_dim=in_dim, out_dim=out_dim, num_filter=num_filters)\n",
        "output = model(sample_input)\n",
        "print(\"output :\", output.size())"
      ],
      "metadata": {
        "colab": {
          "base_uri": "https://localhost:8080/"
        },
        "id": "dlLYVaj-zH32",
        "outputId": "7c7b2087-f99d-41bb-9972-1eb00906538f"
      },
      "execution_count": 6,
      "outputs": [
        {
          "output_type": "stream",
          "name": "stdout",
          "text": [
            "\n",
            "------Initiating U-Net------\n",
            "\n",
            "torch.Size([16, 1, 256, 256])\n",
            "torch.Size([16, 16, 256, 256])\n",
            "torch.Size([16, 16, 128, 128])\n",
            "torch.Size([16, 32, 128, 128])\n",
            "torch.Size([16, 32, 64, 64])\n",
            "torch.Size([16, 64, 64, 64])\n",
            "torch.Size([16, 64, 32, 32])\n",
            "torch.Size([16, 128, 32, 32])\n",
            "torch.Size([16, 128, 16, 16])\n",
            "torch.Size([16, 256, 16, 16])\n",
            "torch.Size([16, 128, 32, 32])\n",
            "torch.Size([16, 256, 32, 32])\n",
            "torch.Size([16, 128, 32, 32])\n",
            "torch.Size([16, 64, 64, 64])\n",
            "torch.Size([16, 128, 64, 64])\n",
            "torch.Size([16, 64, 64, 64])\n",
            "torch.Size([16, 32, 128, 128])\n",
            "torch.Size([16, 64, 128, 128])\n",
            "torch.Size([16, 32, 128, 128])\n",
            "torch.Size([16, 16, 256, 256])\n",
            "torch.Size([16, 32, 256, 256])\n",
            "torch.Size([16, 16, 256, 256])\n",
            "torch.Size([16, 3, 256, 256])\n",
            "output : torch.Size([16, 3, 256, 256])\n"
          ]
        }
      ]
    },
    {
      "cell_type": "code",
      "source": [],
      "metadata": {
        "id": "dgjyHAMizH6Z"
      },
      "execution_count": 6,
      "outputs": []
    }
  ]
}