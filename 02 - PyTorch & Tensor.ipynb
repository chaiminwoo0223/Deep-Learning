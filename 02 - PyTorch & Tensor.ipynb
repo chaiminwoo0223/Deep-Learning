{
  "nbformat": 4,
  "nbformat_minor": 0,
  "metadata": {
    "colab": {
      "provenance": [],
      "authorship_tag": "ABX9TyM/23bJIlA3tISczmr3og54",
      "include_colab_link": true
    },
    "kernelspec": {
      "name": "python3",
      "display_name": "Python 3"
    },
    "language_info": {
      "name": "python"
    },
    "accelerator": "GPU",
    "gpuClass": "standard"
  },
  "cells": [
    {
      "cell_type": "markdown",
      "metadata": {
        "id": "view-in-github",
        "colab_type": "text"
      },
      "source": [
        "<a href=\"https://colab.research.google.com/github/chaiminwoo0223/Deep-Learning/blob/main/02%20-%20PyTorch%20%26%20Tensor.ipynb\" target=\"_parent\"><img src=\"https://colab.research.google.com/assets/colab-badge.svg\" alt=\"Open In Colab\"/></a>"
      ]
    },
    {
      "cell_type": "markdown",
      "source": [
        "## 1.Tensor"
      ],
      "metadata": {
        "id": "4gq80lrmx-qX"
      }
    },
    {
      "cell_type": "code",
      "execution_count": 1,
      "metadata": {
        "colab": {
          "base_uri": "https://localhost:8080/"
        },
        "id": "G-ewQUh2xyI1",
        "outputId": "04fba575-cd2d-4172-9c29-4e1fbf89020d"
      },
      "outputs": [
        {
          "output_type": "stream",
          "name": "stdout",
          "text": [
            "Looking in indexes: https://pypi.org/simple, https://us-python.pkg.dev/colab-wheels/public/simple/\n",
            "Requirement already satisfied: torch in /usr/local/lib/python3.9/dist-packages (1.13.1+cu116)\n",
            "Requirement already satisfied: torchvision in /usr/local/lib/python3.9/dist-packages (0.14.1+cu116)\n",
            "Requirement already satisfied: typing-extensions in /usr/local/lib/python3.9/dist-packages (from torch) (4.5.0)\n",
            "Requirement already satisfied: requests in /usr/local/lib/python3.9/dist-packages (from torchvision) (2.25.1)\n",
            "Requirement already satisfied: numpy in /usr/local/lib/python3.9/dist-packages (from torchvision) (1.22.4)\n",
            "Requirement already satisfied: pillow!=8.3.*,>=5.3.0 in /usr/local/lib/python3.9/dist-packages (from torchvision) (8.4.0)\n",
            "Requirement already satisfied: chardet<5,>=3.0.2 in /usr/local/lib/python3.9/dist-packages (from requests->torchvision) (4.0.0)\n",
            "Requirement already satisfied: idna<3,>=2.5 in /usr/local/lib/python3.9/dist-packages (from requests->torchvision) (2.10)\n",
            "Requirement already satisfied: certifi>=2017.4.17 in /usr/local/lib/python3.9/dist-packages (from requests->torchvision) (2022.12.7)\n",
            "Requirement already satisfied: urllib3<1.27,>=1.21.1 in /usr/local/lib/python3.9/dist-packages (from requests->torchvision) (1.26.15)\n"
          ]
        }
      ],
      "source": [
        "!pip3 install torch torchvision\n",
        "import torch"
      ]
    },
    {
      "cell_type": "code",
      "source": [
        "# torch.rand() : [0,1)\n",
        "x = torch.rand(2,3)\n",
        "print(x)"
      ],
      "metadata": {
        "colab": {
          "base_uri": "https://localhost:8080/"
        },
        "id": "i-iV5wNcyNNL",
        "outputId": "0e6fbb53-5041-4ede-f81f-c0f44048525b"
      },
      "execution_count": 2,
      "outputs": [
        {
          "output_type": "stream",
          "name": "stdout",
          "text": [
            "tensor([[0.5734, 0.6667, 0.3785],\n",
            "        [0.0369, 0.5168, 0.6021]])\n"
          ]
        }
      ]
    },
    {
      "cell_type": "code",
      "source": [
        "# torch.randn() : 가우시안 정규분포에서 샘플링한 값\n",
        "# Random Normal\n",
        "x = torch.randn(2,3)\n",
        "print(x)"
      ],
      "metadata": {
        "colab": {
          "base_uri": "https://localhost:8080/"
        },
        "id": "V0-Hksbyyh_2",
        "outputId": "c42ccd48-7a07-40b9-d8ef-bf6637a1d9a3"
      },
      "execution_count": 3,
      "outputs": [
        {
          "output_type": "stream",
          "name": "stdout",
          "text": [
            "tensor([[ 0.4640,  1.2670, -1.2484],\n",
            "        [ 0.6203, -0.1729,  0.7410]])\n"
          ]
        }
      ]
    },
    {
      "cell_type": "code",
      "source": [
        "# torch.randint() : 시작과 끝 사이의 랜덤한 자연수\n",
        "# Random Integer\n",
        "x = torch.randint(2,5,size=(2,3))\n",
        "print(x)"
      ],
      "metadata": {
        "colab": {
          "base_uri": "https://localhost:8080/"
        },
        "id": "LJlssAtDzTpp",
        "outputId": "e727d3a1-c60a-4755-9974-61a887ad3ac0"
      },
      "execution_count": 4,
      "outputs": [
        {
          "output_type": "stream",
          "name": "stdout",
          "text": [
            "tensor([[4, 2, 4],\n",
            "        [3, 3, 4]])\n"
          ]
        }
      ]
    },
    {
      "cell_type": "markdown",
      "source": [
        "## 2.Zeros & Ones"
      ],
      "metadata": {
        "id": "eWcQdUYq0g19"
      }
    },
    {
      "cell_type": "code",
      "source": [
        "# torch.zeros() : 0으로 채워진 텐서\n",
        "x = torch.zeros(2,3)\n",
        "print(x)"
      ],
      "metadata": {
        "colab": {
          "base_uri": "https://localhost:8080/"
        },
        "id": "6xrNsO07z8Un",
        "outputId": "d1aaacdd-1a01-4d78-985b-32ded86b9a36"
      },
      "execution_count": 5,
      "outputs": [
        {
          "output_type": "stream",
          "name": "stdout",
          "text": [
            "tensor([[0., 0., 0.],\n",
            "        [0., 0., 0.]])\n"
          ]
        }
      ]
    },
    {
      "cell_type": "code",
      "source": [
        "# 인자로 들어오는 텐서와 형태가 같은 0으로 채워진 텐서\n",
        "ref = torch.rand(4,5)\n",
        "x = torch.zeros_like(ref)\n",
        "print(ref)\n",
        "print(x)"
      ],
      "metadata": {
        "colab": {
          "base_uri": "https://localhost:8080/"
        },
        "id": "WVmi7qE91B3x",
        "outputId": "50f4a523-3e01-400a-fb41-785ba3f9ba31"
      },
      "execution_count": 6,
      "outputs": [
        {
          "output_type": "stream",
          "name": "stdout",
          "text": [
            "tensor([[0.1864, 0.4498, 0.1842, 0.9409, 0.5239],\n",
            "        [0.7997, 0.8266, 0.6212, 0.8872, 0.8851],\n",
            "        [0.7287, 0.8270, 0.1575, 0.2484, 0.4542],\n",
            "        [0.1553, 0.1463, 0.8379, 0.7609, 0.9550]])\n",
            "tensor([[0., 0., 0., 0., 0.],\n",
            "        [0., 0., 0., 0., 0.],\n",
            "        [0., 0., 0., 0., 0.],\n",
            "        [0., 0., 0., 0., 0.]])\n"
          ]
        }
      ]
    },
    {
      "cell_type": "code",
      "source": [
        "# torch.ones() : 1로 채워진 텐서\n",
        "x = torch.ones(2,3)\n",
        "print(x)"
      ],
      "metadata": {
        "colab": {
          "base_uri": "https://localhost:8080/"
        },
        "id": "CArX63av1RLU",
        "outputId": "a839e331-505d-4394-c028-33b085be2cb1"
      },
      "execution_count": 7,
      "outputs": [
        {
          "output_type": "stream",
          "name": "stdout",
          "text": [
            "tensor([[1., 1., 1.],\n",
            "        [1., 1., 1.]])\n"
          ]
        }
      ]
    },
    {
      "cell_type": "code",
      "source": [
        "# 인자로 들어오는 텐서와 형태가 같은 1로 채워진 텐서\n",
        "ref = torch.rand(4,5)\n",
        "x = torch.ones_like(ref)\n",
        "print(ref)\n",
        "print(x)"
      ],
      "metadata": {
        "colab": {
          "base_uri": "https://localhost:8080/"
        },
        "id": "FldgvzSm1ycZ",
        "outputId": "97b46b6d-7f0f-4e51-c567-d984e2cf47eb"
      },
      "execution_count": 8,
      "outputs": [
        {
          "output_type": "stream",
          "name": "stdout",
          "text": [
            "tensor([[0.1619, 0.2909, 0.6687, 0.2126, 0.3478],\n",
            "        [0.7490, 0.9610, 0.2251, 0.1861, 0.8952],\n",
            "        [0.8536, 0.8176, 0.1365, 0.4747, 0.5115],\n",
            "        [0.2689, 0.7524, 0.3317, 0.3122, 0.7557]])\n",
            "tensor([[1., 1., 1., 1., 1.],\n",
            "        [1., 1., 1., 1., 1.],\n",
            "        [1., 1., 1., 1., 1.],\n",
            "        [1., 1., 1., 1., 1.]])\n"
          ]
        }
      ]
    },
    {
      "cell_type": "markdown",
      "source": [
        "## 3.Tensor Data Type"
      ],
      "metadata": {
        "id": "4OnIspAh1_R4"
      }
    },
    {
      "cell_type": "code",
      "source": [
        "# tensor.type() : 텐서의 데이터 타입을 리턴\n",
        "x = torch.rand(2,3)\n",
        "print(x.type())    # 파이토치에 정의된 메소드\n",
        "print(type(x))     # 파이썬에 정의된 함수"
      ],
      "metadata": {
        "colab": {
          "base_uri": "https://localhost:8080/"
        },
        "id": "5PVrqS-710sk",
        "outputId": "095d7235-38e6-45fd-90a8-f94d85fd2ec5"
      },
      "execution_count": 9,
      "outputs": [
        {
          "output_type": "stream",
          "name": "stdout",
          "text": [
            "torch.FloatTensor\n",
            "<class 'torch.Tensor'>\n"
          ]
        }
      ]
    },
    {
      "cell_type": "code",
      "source": [
        "# tensor.type()을 dtype과 함께 사용하면, 텐서의 데이터 타입을 dtype에 넣어준 데이터 타입으로 변환\n",
        "double_x = x.type(dtype=torch.DoubleTensor)\n",
        "print(double_x.type())"
      ],
      "metadata": {
        "colab": {
          "base_uri": "https://localhost:8080/"
        },
        "id": "il2vKF3o2qK9",
        "outputId": "25589834-52f2-42d4-a1b6-2d5b174d5e4d"
      },
      "execution_count": 10,
      "outputs": [
        {
          "output_type": "stream",
          "name": "stdout",
          "text": [
            "torch.DoubleTensor\n"
          ]
        }
      ]
    },
    {
      "cell_type": "code",
      "source": [
        "# tensor.type_as() : 텐서의 데이터 타입을 변환\n",
        "int_x = x.type_as(torch.IntTensor())\n",
        "print(int_x.type())"
      ],
      "metadata": {
        "colab": {
          "base_uri": "https://localhost:8080/"
        },
        "id": "-n6YIQ1R3xMk",
        "outputId": "39887b68-9a3f-42b4-ad55-081292610929"
      },
      "execution_count": 11,
      "outputs": [
        {
          "output_type": "stream",
          "name": "stdout",
          "text": [
            "torch.IntTensor\n"
          ]
        }
      ]
    },
    {
      "cell_type": "markdown",
      "source": [
        "## 4.Numpy to Tensor & Tensor to Numpy"
      ],
      "metadata": {
        "id": "YzVRJX0c5MDx"
      }
    },
    {
      "cell_type": "code",
      "source": [
        "import numpy as np"
      ],
      "metadata": {
        "id": "_e9ZFSpM4tJU"
      },
      "execution_count": 12,
      "outputs": []
    },
    {
      "cell_type": "code",
      "source": [
        "# torch.from_numpy(ndarray) : 넘파이 배열을 토치 텐서로 변환\n",
        "x1 = np.ndarray(shape=(2,3), dtype=int,buffer=np.array([1,2,3,4,5,6]))\n",
        "x2 = torch.from_numpy(x1)\n",
        "print(x1)\n",
        "print(x2, x2.type())"
      ],
      "metadata": {
        "colab": {
          "base_uri": "https://localhost:8080/"
        },
        "id": "xiEkBloC5YKc",
        "outputId": "a5d5e8d3-81f8-4094-f54e-0e21fe15a190"
      },
      "execution_count": 13,
      "outputs": [
        {
          "output_type": "stream",
          "name": "stdout",
          "text": [
            "[[1 2 3]\n",
            " [4 5 6]]\n",
            "tensor([[1, 2, 3],\n",
            "        [4, 5, 6]]) torch.LongTensor\n"
          ]
        }
      ]
    },
    {
      "cell_type": "code",
      "source": [
        "# tensor.numpy() : 토치 텐서를 넘파이 배열로 변환\n",
        "x3 = x2.numpy()\n",
        "print(x2)\n",
        "print(x3)"
      ],
      "metadata": {
        "colab": {
          "base_uri": "https://localhost:8080/"
        },
        "id": "-fwjq0Hb6dZv",
        "outputId": "7b97c5e6-63b0-49a9-8677-b77db51a14cb"
      },
      "execution_count": 14,
      "outputs": [
        {
          "output_type": "stream",
          "name": "stdout",
          "text": [
            "tensor([[1, 2, 3],\n",
            "        [4, 5, 6]])\n",
            "[[1 2 3]\n",
            " [4 5 6]]\n"
          ]
        }
      ]
    },
    {
      "cell_type": "markdown",
      "source": [
        "## 5.Tensor on CPU & GPU"
      ],
      "metadata": {
        "id": "s-PJ_kBg7urX"
      }
    },
    {
      "cell_type": "code",
      "source": [
        "# 배열을 인자로 넣어 토치 텐서를 생성\n",
        "x = torch.FloatTensor([[1,2,3],[4,5,6]])\n",
        "print(x)"
      ],
      "metadata": {
        "colab": {
          "base_uri": "https://localhost:8080/"
        },
        "id": "ndJ9xW0_7BQT",
        "outputId": "b59e9cd2-9a16-458a-f648-7464841584d3"
      },
      "execution_count": 15,
      "outputs": [
        {
          "output_type": "stream",
          "name": "stdout",
          "text": [
            "tensor([[1., 2., 3.],\n",
            "        [4., 5., 6.]])\n"
          ]
        }
      ]
    },
    {
      "cell_type": "code",
      "source": [
        "# device 함수수를 사용해, 텐서를 원하는 장치로 이동\n",
        "cpu = torch.device('cpu')\n",
        "gpu = torch.device('cuda')"
      ],
      "metadata": {
        "id": "jK_eq8cM8PUE"
      },
      "execution_count": 16,
      "outputs": []
    },
    {
      "cell_type": "code",
      "source": [
        "# gpu가 사용 가능한지 체크\n",
        "# .to 함수를 이용해, 지정한 장치로 이동\n",
        "if torch.cuda.is_available():\n",
        "  x_gpu = x.to(gpu)\n",
        "  print(x_gpu)\n",
        "  \n",
        "x_cpu = x_gpu.to(cpu)\n",
        "print(x_cpu)"
      ],
      "metadata": {
        "colab": {
          "base_uri": "https://localhost:8080/"
        },
        "id": "ZYmRetBw8oQh",
        "outputId": "5fc01098-a86d-40ae-f362-0388364c5c92"
      },
      "execution_count": 17,
      "outputs": [
        {
          "output_type": "stream",
          "name": "stdout",
          "text": [
            "tensor([[1., 2., 3.],\n",
            "        [4., 5., 6.]], device='cuda:0')\n",
            "tensor([[1., 2., 3.],\n",
            "        [4., 5., 6.]])\n"
          ]
        }
      ]
    },
    {
      "cell_type": "code",
      "source": [
        "# tensor.size() : 텐서의 형태를 확인\n",
        "\n",
        "# 대괄호 없음 = 사이즈를 지정\n",
        "x = torch.FloatTensor(10,12,3,3)\n",
        "print(x.size(), x.size()[1:2], sep=\"\\n\")\n",
        "# 대괄호 있음 = 값을 지정\n",
        "x = torch.FloatTensor([10,12,3,3])\n",
        "print(x.size(), x.size()[0], sep=\"\\n\")"
      ],
      "metadata": {
        "id": "xw1edLuC9Sxw",
        "colab": {
          "base_uri": "https://localhost:8080/"
        },
        "outputId": "f0ae1811-6fe4-4329-8612-4697f2224979"
      },
      "execution_count": 18,
      "outputs": [
        {
          "output_type": "stream",
          "name": "stdout",
          "text": [
            "torch.Size([10, 12, 3, 3])\n",
            "torch.Size([12])\n",
            "torch.Size([4])\n",
            "4\n"
          ]
        }
      ]
    },
    {
      "cell_type": "markdown",
      "source": [
        "## 6.Indexing, Joining, Slicing & Squeezing"
      ],
      "metadata": {
        "id": "YcCGqW0kqtr7"
      }
    },
    {
      "cell_type": "code",
      "source": [
        "# Indexing\n",
        "x = torch.randn(4,3)\n",
        "print(x)\n",
        "print(x[1:3])"
      ],
      "metadata": {
        "id": "wVlJrSC593cA",
        "colab": {
          "base_uri": "https://localhost:8080/"
        },
        "outputId": "0931aaf3-48a0-4b1d-cc6e-65494487b0d2"
      },
      "execution_count": 19,
      "outputs": [
        {
          "output_type": "stream",
          "name": "stdout",
          "text": [
            "tensor([[-0.6661, -1.9308,  0.5884],\n",
            "        [ 0.1426, -0.1762, -1.2249],\n",
            "        [ 0.0081,  0.7197, -1.0248],\n",
            "        [-0.8411, -0.3124, -0.9962]])\n",
            "tensor([[ 0.1426, -0.1762, -1.2249],\n",
            "        [ 0.0081,  0.7197, -1.0248]])\n"
          ]
        }
      ]
    },
    {
      "cell_type": "code",
      "source": [
        "# torch.index_select() : 지정한 차원 기준으로 원하는 값들을 선택할 수 있음\n",
        "selected = torch.index_select(x,dim=1,index=torch.LongTensor([0,2]))\n",
        "print(x)\n",
        "print(selected)"
      ],
      "metadata": {
        "colab": {
          "base_uri": "https://localhost:8080/"
        },
        "id": "u5OodLfRrN8C",
        "outputId": "45c76896-10d6-41c6-de56-b249681f0d41"
      },
      "execution_count": 20,
      "outputs": [
        {
          "output_type": "stream",
          "name": "stdout",
          "text": [
            "tensor([[-0.6661, -1.9308,  0.5884],\n",
            "        [ 0.1426, -0.1762, -1.2249],\n",
            "        [ 0.0081,  0.7197, -1.0248],\n",
            "        [-0.8411, -0.3124, -0.9962]])\n",
            "tensor([[-0.6661,  0.5884],\n",
            "        [ 0.1426, -1.2249],\n",
            "        [ 0.0081, -1.0248],\n",
            "        [-0.8411, -0.9962]])\n"
          ]
        }
      ]
    },
    {
      "cell_type": "code",
      "source": [
        "# torch.masked_select(input, mask) : 뽑고자 하는 값들을 마스킹해서 선택할 수 있음\n",
        "x = torch.randn(2,3)\n",
        "mask = torch.ByteTensor([[0,0,1],[0,1,0]])\n",
        "out = torch.masked_select(x,mask)\n",
        "print(x, mask, out, sep=\"\\n\\n\")"
      ],
      "metadata": {
        "colab": {
          "base_uri": "https://localhost:8080/"
        },
        "id": "ruduxZvzsR-r",
        "outputId": "c0abcfa6-a002-4706-c116-f53a2136fcee"
      },
      "execution_count": 21,
      "outputs": [
        {
          "output_type": "stream",
          "name": "stdout",
          "text": [
            "tensor([[ 0.1588, -0.4041, -1.8600],\n",
            "        [-1.5436,  0.9013, -0.2134]])\n",
            "\n",
            "tensor([[0, 0, 1],\n",
            "        [0, 1, 0]], dtype=torch.uint8)\n",
            "\n",
            "tensor([-1.8600,  0.9013])\n"
          ]
        },
        {
          "output_type": "stream",
          "name": "stderr",
          "text": [
            "<ipython-input-21-1b7d35e77d78>:4: UserWarning: masked_select received a mask with dtype torch.uint8, this behavior is now deprecated,please use a mask with dtype torch.bool instead. (Triggered internally at ../aten/src/ATen/native/TensorAdvancedIndexing.cpp:1729.)\n",
            "  out = torch.masked_select(x,mask)\n"
          ]
        }
      ]
    },
    {
      "cell_type": "code",
      "source": [
        "# torch.cat(seq, dim=0) : 텐서를 원하는대로 붙일 수 있음\n",
        "x = torch.FloatTensor([[1,2,3],[4,5,6]])       # 2*3\n",
        "y = torch.FloatTensor([[-1,-2,-3],[-4,-5,-6]]) # 2*3\n",
        "z1 = torch.cat([x,y],dim=0)                    # 4*3\n",
        "z2 = torch.cat([x,y],dim=1)                    # 2*6\n",
        "print(x,y,z1,z2,sep=\"\\n\\n\")"
      ],
      "metadata": {
        "colab": {
          "base_uri": "https://localhost:8080/"
        },
        "id": "To0NaiSotcia",
        "outputId": "2bf4558a-ae6e-4032-9c18-5fc5ee1fd58c"
      },
      "execution_count": 22,
      "outputs": [
        {
          "output_type": "stream",
          "name": "stdout",
          "text": [
            "tensor([[1., 2., 3.],\n",
            "        [4., 5., 6.]])\n",
            "\n",
            "tensor([[-1., -2., -3.],\n",
            "        [-4., -5., -6.]])\n",
            "\n",
            "tensor([[ 1.,  2.,  3.],\n",
            "        [ 4.,  5.,  6.],\n",
            "        [-1., -2., -3.],\n",
            "        [-4., -5., -6.]])\n",
            "\n",
            "tensor([[ 1.,  2.,  3., -1., -2., -3.],\n",
            "        [ 4.,  5.,  6., -4., -5., -6.]])\n"
          ]
        }
      ]
    },
    {
      "cell_type": "code",
      "source": [
        "# torch.stack(seq, dim=0) : 텐서를 원하는대로 붙일 수 있음(차원 확장)\n",
        "x = torch.FloatTensor([[1,2,3],[4,5,6]]) # 2*3\n",
        "x_stack = torch.stack([x,x,x,x],dim=0)   # 4*2*3\n",
        "print(x_stack,x_stack.size(),sep=\"\\n\\n\")"
      ],
      "metadata": {
        "colab": {
          "base_uri": "https://localhost:8080/"
        },
        "id": "tQbhKwLWu6zS",
        "outputId": "e81082b2-8bdc-4b67-c03e-a1b8b5e5553b"
      },
      "execution_count": 23,
      "outputs": [
        {
          "output_type": "stream",
          "name": "stdout",
          "text": [
            "tensor([[[1., 2., 3.],\n",
            "         [4., 5., 6.]],\n",
            "\n",
            "        [[1., 2., 3.],\n",
            "         [4., 5., 6.]],\n",
            "\n",
            "        [[1., 2., 3.],\n",
            "         [4., 5., 6.]],\n",
            "\n",
            "        [[1., 2., 3.],\n",
            "         [4., 5., 6.]]])\n",
            "\n",
            "torch.Size([4, 2, 3])\n"
          ]
        }
      ]
    },
    {
      "cell_type": "code",
      "source": [
        "# torch.chunk(tensor, chunks, dim=0) : 텐서를 원하는 chunk 개수만큼 분리할 수 있음\n",
        "x_1, x_2 = torch.chunk(z1,2,dim=0)\n",
        "y_1, y_2, y_3 = torch.chunk(z1,3,dim=1)\n",
        "print(z1,x_1,x_2,z1,y_1,y_2,y_3,sep=\"\\n\\n\")"
      ],
      "metadata": {
        "colab": {
          "base_uri": "https://localhost:8080/"
        },
        "id": "efuLSK7lv9Pv",
        "outputId": "6fd36a58-5a2a-451b-d89b-838e891af46f"
      },
      "execution_count": 24,
      "outputs": [
        {
          "output_type": "stream",
          "name": "stdout",
          "text": [
            "tensor([[ 1.,  2.,  3.],\n",
            "        [ 4.,  5.,  6.],\n",
            "        [-1., -2., -3.],\n",
            "        [-4., -5., -6.]])\n",
            "\n",
            "tensor([[1., 2., 3.],\n",
            "        [4., 5., 6.]])\n",
            "\n",
            "tensor([[-1., -2., -3.],\n",
            "        [-4., -5., -6.]])\n",
            "\n",
            "tensor([[ 1.,  2.,  3.],\n",
            "        [ 4.,  5.,  6.],\n",
            "        [-1., -2., -3.],\n",
            "        [-4., -5., -6.]])\n",
            "\n",
            "tensor([[ 1.],\n",
            "        [ 4.],\n",
            "        [-1.],\n",
            "        [-4.]])\n",
            "\n",
            "tensor([[ 2.],\n",
            "        [ 5.],\n",
            "        [-2.],\n",
            "        [-5.]])\n",
            "\n",
            "tensor([[ 3.],\n",
            "        [ 6.],\n",
            "        [-3.],\n",
            "        [-6.]])\n"
          ]
        }
      ]
    },
    {
      "cell_type": "code",
      "source": [
        "# torch.split(tensor, split_size, dim=0) : 원하는 사이즈로 텐서를 자를 수 있음\n",
        "x1,x2 = torch.split(z1,2,dim=0)\n",
        "y1 = torch.split(z1,2,dim=1) \n",
        "print(z1,x1,x2,sep=\"\\n\\n\")\n",
        "print(\"This is y1:\")\n",
        "for i in y1:\n",
        "  print(i)"
      ],
      "metadata": {
        "colab": {
          "base_uri": "https://localhost:8080/"
        },
        "id": "uFcNhgCmyC6I",
        "outputId": "a9f5b9f2-b0e8-40f5-8936-1fcadd581084"
      },
      "execution_count": 25,
      "outputs": [
        {
          "output_type": "stream",
          "name": "stdout",
          "text": [
            "tensor([[ 1.,  2.,  3.],\n",
            "        [ 4.,  5.,  6.],\n",
            "        [-1., -2., -3.],\n",
            "        [-4., -5., -6.]])\n",
            "\n",
            "tensor([[1., 2., 3.],\n",
            "        [4., 5., 6.]])\n",
            "\n",
            "tensor([[-1., -2., -3.],\n",
            "        [-4., -5., -6.]])\n",
            "This is y1:\n",
            "tensor([[ 1.,  2.],\n",
            "        [ 4.,  5.],\n",
            "        [-1., -2.],\n",
            "        [-4., -5.]])\n",
            "tensor([[ 3.],\n",
            "        [ 6.],\n",
            "        [-3.],\n",
            "        [-6.]])\n"
          ]
        }
      ]
    },
    {
      "cell_type": "code",
      "source": [
        "# torch.squeeze(input, dim=None) : 길이가 1인 차원들을 압축시킬 수 있음\n",
        "x1 = torch.FloatTensor(10,1,3,1,4)\n",
        "x2 = torch.squeeze(x1)\n",
        "print(x1.size(),x2.size(),sep=\"\\n\")"
      ],
      "metadata": {
        "colab": {
          "base_uri": "https://localhost:8080/"
        },
        "id": "XhR9jurT0Fr6",
        "outputId": "3cc50c0a-040c-480d-a068-71ec4192dcd8"
      },
      "execution_count": 26,
      "outputs": [
        {
          "output_type": "stream",
          "name": "stdout",
          "text": [
            "torch.Size([10, 1, 3, 1, 4])\n",
            "torch.Size([10, 3, 4])\n"
          ]
        }
      ]
    },
    {
      "cell_type": "code",
      "source": [
        "# torch.unsqueeze(input, dim=None) 차원을 늘릴수 있음\n",
        "x1 = torch.FloatTensor(10,3,4)\n",
        "x2 = torch.unsqueeze(x1,dim=0)\n",
        "print(x1.size(),x2.size(),sep=\"\\n\")"
      ],
      "metadata": {
        "colab": {
          "base_uri": "https://localhost:8080/"
        },
        "id": "p7XUveM00b4v",
        "outputId": "14557145-ca93-429f-8b63-70dfc682062e"
      },
      "execution_count": 27,
      "outputs": [
        {
          "output_type": "stream",
          "name": "stdout",
          "text": [
            "torch.Size([10, 3, 4])\n",
            "torch.Size([1, 10, 3, 4])\n"
          ]
        }
      ]
    },
    {
      "cell_type": "markdown",
      "source": [
        "## 7.Initialization"
      ],
      "metadata": {
        "id": "BtDuIZFL1yam"
      }
    },
    {
      "cell_type": "code",
      "source": [
        "import torch.nn.init as init"
      ],
      "metadata": {
        "id": "R8qNTPyM0zmc"
      },
      "execution_count": 28,
      "outputs": []
    },
    {
      "cell_type": "code",
      "source": [
        "# uniform 분포를 따라 텐서를 초기화 할 수 있음\n",
        "x1 = init.uniform_(torch.FloatTensor(3,4),a=0,b=9)\n",
        "# 정규 분포를 따라 텐서를 초기화 할 수 있음\n",
        "x2 = init.normal_(torch.FloatTensor(3,4),std=0.2)\n",
        "# 지정한 값으로 텐서를 초기화 할 수 있음\n",
        "x3 = init.constant_(torch.FloatTensor(3,4),3.1415)\n",
        "print(x1,x2,x3,sep=\"\\n\")"
      ],
      "metadata": {
        "colab": {
          "base_uri": "https://localhost:8080/"
        },
        "id": "Ff0l8OHQ18wp",
        "outputId": "dc057464-e1eb-4fc6-fe09-2a2f4bbc044c"
      },
      "execution_count": 29,
      "outputs": [
        {
          "output_type": "stream",
          "name": "stdout",
          "text": [
            "tensor([[1.3262, 8.0613, 7.3631, 6.6241],\n",
            "        [3.3222, 4.8330, 5.4565, 0.0332],\n",
            "        [8.8129, 1.6029, 7.0603, 5.5984]])\n",
            "tensor([[ 0.2049, -0.0645, -0.3259,  0.3182],\n",
            "        [ 0.1349, -0.0080,  0.1176,  0.1824],\n",
            "        [-0.1725,  0.2145,  0.0450,  0.2804]])\n",
            "tensor([[3.1415, 3.1415, 3.1415, 3.1415],\n",
            "        [3.1415, 3.1415, 3.1415, 3.1415],\n",
            "        [3.1415, 3.1415, 3.1415, 3.1415]])\n"
          ]
        }
      ]
    },
    {
      "cell_type": "markdown",
      "source": [
        "## 8.Math Operations"
      ],
      "metadata": {
        "id": "_Jc2mXq93DDW"
      }
    },
    {
      "cell_type": "code",
      "source": [
        "# torch.add(): 더하기 연산\n",
        "x1 = torch.FloatTensor([[1,2,3],[4,5,6]])\n",
        "x2 = torch.FloatTensor([[1,2,3],[4,5,6]])\n",
        "add = torch.add(x1,x2)\n",
        "print(x1,x2,add,x1+x2,sep=\"\\n\")"
      ],
      "metadata": {
        "colab": {
          "base_uri": "https://localhost:8080/"
        },
        "id": "tHmlQsJ62Qiw",
        "outputId": "1f8199bf-0062-4794-9bb2-af7510b8b8a2"
      },
      "execution_count": 30,
      "outputs": [
        {
          "output_type": "stream",
          "name": "stdout",
          "text": [
            "tensor([[1., 2., 3.],\n",
            "        [4., 5., 6.]])\n",
            "tensor([[1., 2., 3.],\n",
            "        [4., 5., 6.]])\n",
            "tensor([[ 2.,  4.,  6.],\n",
            "        [ 8., 10., 12.]])\n",
            "tensor([[ 2.,  4.,  6.],\n",
            "        [ 8., 10., 12.]])\n"
          ]
        }
      ]
    },
    {
      "cell_type": "code",
      "source": [
        "# torch.add() -> broadcasting\n",
        "x1 = torch.FloatTensor([[1,2,3],[4,5,6]])\n",
        "x2 = torch.add(x1,10)\n",
        "print(x1,x2,x1+10,sep=\"\\n\")"
      ],
      "metadata": {
        "colab": {
          "base_uri": "https://localhost:8080/"
        },
        "id": "-hJym5fd3aux",
        "outputId": "744c5e8b-55e0-404c-83ef-19e6155b61b4"
      },
      "execution_count": 31,
      "outputs": [
        {
          "output_type": "stream",
          "name": "stdout",
          "text": [
            "tensor([[1., 2., 3.],\n",
            "        [4., 5., 6.]])\n",
            "tensor([[11., 12., 13.],\n",
            "        [14., 15., 16.]])\n",
            "tensor([[11., 12., 13.],\n",
            "        [14., 15., 16.]])\n"
          ]
        }
      ]
    },
    {
      "cell_type": "code",
      "source": [
        "# torch.sub(): 빼기 연산\n",
        "x1 = torch.FloatTensor([[1,2,3],[4,5,6]])\n",
        "x2 = torch.FloatTensor([[1,2,3],[4,5,6]])\n",
        "sub = torch.sub(x1,x2)\n",
        "print(x1,x2,sub,x1-x2,sep=\"\\n\")"
      ],
      "metadata": {
        "colab": {
          "base_uri": "https://localhost:8080/"
        },
        "id": "un6pSu_k6SSu",
        "outputId": "384bcd50-83ef-4348-a99a-e265761b61a2"
      },
      "execution_count": 32,
      "outputs": [
        {
          "output_type": "stream",
          "name": "stdout",
          "text": [
            "tensor([[1., 2., 3.],\n",
            "        [4., 5., 6.]])\n",
            "tensor([[1., 2., 3.],\n",
            "        [4., 5., 6.]])\n",
            "tensor([[0., 0., 0.],\n",
            "        [0., 0., 0.]])\n",
            "tensor([[0., 0., 0.],\n",
            "        [0., 0., 0.]])\n"
          ]
        }
      ]
    },
    {
      "cell_type": "code",
      "source": [
        "# torch.sub() -> broadcasting\n",
        "x1 = torch.FloatTensor([[1,2,3],[4,5,6]])\n",
        "x2 = torch.sub(x1,10)\n",
        "print(x1,x2,x1-10,sep=\"\\n\")"
      ],
      "metadata": {
        "colab": {
          "base_uri": "https://localhost:8080/"
        },
        "id": "w4N3xoWv64pR",
        "outputId": "e901ec0d-4ea5-4e00-b9a6-6fc51953a104"
      },
      "execution_count": 33,
      "outputs": [
        {
          "output_type": "stream",
          "name": "stdout",
          "text": [
            "tensor([[1., 2., 3.],\n",
            "        [4., 5., 6.]])\n",
            "tensor([[-9., -8., -7.],\n",
            "        [-6., -5., -4.]])\n",
            "tensor([[-9., -8., -7.],\n",
            "        [-6., -5., -4.]])\n"
          ]
        }
      ]
    },
    {
      "cell_type": "code",
      "source": [
        "# torch.mul() : 곱하기 연산(사이즈 일치)\n",
        "x1 = torch.FloatTensor([[1,2,3],[4,5,6]])\n",
        "x2 = torch.FloatTensor([[1,2,3],[4,5,6]])\n",
        "x3 = torch.mul(x1,x2)\n",
        "print(x3)"
      ],
      "metadata": {
        "colab": {
          "base_uri": "https://localhost:8080/"
        },
        "id": "wBYXDXqV3zbs",
        "outputId": "1f05eabc-5237-40fe-fa6a-1c335e4e38a1"
      },
      "execution_count": 34,
      "outputs": [
        {
          "output_type": "stream",
          "name": "stdout",
          "text": [
            "tensor([[ 1.,  4.,  9.],\n",
            "        [16., 25., 36.]])\n"
          ]
        }
      ]
    },
    {
      "cell_type": "code",
      "source": [
        "# torch.mul() -> broadcasting\n",
        "x1 = torch.FloatTensor([[1,2,3],[4,5,6]])\n",
        "x2 = torch.mul(x1,10)\n",
        "print(x1,x2,x1*10,sep=\"\\n\")"
      ],
      "metadata": {
        "colab": {
          "base_uri": "https://localhost:8080/"
        },
        "id": "1raFjmUf4l1-",
        "outputId": "0a365279-8900-4de1-a5c8-376d33628002"
      },
      "execution_count": 35,
      "outputs": [
        {
          "output_type": "stream",
          "name": "stdout",
          "text": [
            "tensor([[1., 2., 3.],\n",
            "        [4., 5., 6.]])\n",
            "tensor([[10., 20., 30.],\n",
            "        [40., 50., 60.]])\n",
            "tensor([[10., 20., 30.],\n",
            "        [40., 50., 60.]])\n"
          ]
        }
      ]
    },
    {
      "cell_type": "code",
      "source": [
        "# torch.div() : 나누기 연산(사이즈 일치)\n",
        "x1 = torch.FloatTensor([[1,2,3],[4,5,6]])\n",
        "x2 = torch.FloatTensor([[1,2,3],[4,5,6]])\n",
        "x3 = torch.div(x1,x2)\n",
        "print(x3)"
      ],
      "metadata": {
        "colab": {
          "base_uri": "https://localhost:8080/"
        },
        "id": "-VExKoiR5h7i",
        "outputId": "760dd58a-0fd7-4aff-a59a-61d3839a6cdb"
      },
      "execution_count": 36,
      "outputs": [
        {
          "output_type": "stream",
          "name": "stdout",
          "text": [
            "tensor([[1., 1., 1.],\n",
            "        [1., 1., 1.]])\n"
          ]
        }
      ]
    },
    {
      "cell_type": "code",
      "source": [
        "# torch.div() -> broadcasting\n",
        "x1 = torch.FloatTensor([[1,2,3],[4,5,6]])\n",
        "x2 = torch.div(x1,10)\n",
        "print(x1,x2,x1/10,sep=\"\\n\")"
      ],
      "metadata": {
        "colab": {
          "base_uri": "https://localhost:8080/"
        },
        "id": "n26CXN7K6DJU",
        "outputId": "50e99aa2-de36-4eb1-e908-7f58c20ffd31"
      },
      "execution_count": 37,
      "outputs": [
        {
          "output_type": "stream",
          "name": "stdout",
          "text": [
            "tensor([[1., 2., 3.],\n",
            "        [4., 5., 6.]])\n",
            "tensor([[0.1000, 0.2000, 0.3000],\n",
            "        [0.4000, 0.5000, 0.6000]])\n",
            "tensor([[0.1000, 0.2000, 0.3000],\n",
            "        [0.4000, 0.5000, 0.6000]])\n"
          ]
        }
      ]
    },
    {
      "cell_type": "code",
      "source": [
        "x1 = torch.FloatTensor([[1,2,3],[4,5,6]])\n",
        "# torch.pow(input,exponent) : 파워 연산(x의 n승)\n",
        "x2 = torch.pow(x1,2)\n",
        "# torch.exp(tensor,out=None) : exponential 연산\n",
        "x3 = torch.exp(x1)\n",
        "# torch.log(input,out=None) : 로그 연산\n",
        "x4 = torch.log(x1)\n",
        "print(x1,x2,x3,x4,sep=\"\\n\")"
      ],
      "metadata": {
        "colab": {
          "base_uri": "https://localhost:8080/"
        },
        "id": "1u0emBEK6Jvi",
        "outputId": "34a79297-9908-4666-e256-8c6299cb3bf4"
      },
      "execution_count": 38,
      "outputs": [
        {
          "output_type": "stream",
          "name": "stdout",
          "text": [
            "tensor([[1., 2., 3.],\n",
            "        [4., 5., 6.]])\n",
            "tensor([[ 1.,  4.,  9.],\n",
            "        [16., 25., 36.]])\n",
            "tensor([[  2.7183,   7.3891,  20.0855],\n",
            "        [ 54.5981, 148.4132, 403.4288]])\n",
            "tensor([[0.0000, 0.6931, 1.0986],\n",
            "        [1.3863, 1.6094, 1.7918]])\n"
          ]
        }
      ]
    },
    {
      "cell_type": "markdown",
      "source": [
        "## 9.Matrix Operations"
      ],
      "metadata": {
        "id": "zGKQkGJFBupU"
      }
    },
    {
      "cell_type": "code",
      "source": [
        "# torch.mm(mat1,mat2) : 행렬곱 연산\n",
        "x1 = torch.FloatTensor(3,4)\n",
        "x2 = torch.FloatTensor(4,5)\n",
        "torch.mm(x1,x2).size()"
      ],
      "metadata": {
        "colab": {
          "base_uri": "https://localhost:8080/"
        },
        "id": "OXD-Je04A_iO",
        "outputId": "5892d56b-718b-4b33-9e5b-982b047e7328"
      },
      "execution_count": 39,
      "outputs": [
        {
          "output_type": "execute_result",
          "data": {
            "text/plain": [
              "torch.Size([3, 5])"
            ]
          },
          "metadata": {},
          "execution_count": 39
        }
      ]
    },
    {
      "cell_type": "code",
      "source": [
        "# torch.bmm(batch1,batch2) : 배치 행렬곱 연산\n",
        "x1 = torch.FloatTensor(10,3,4)\n",
        "x2 = torch.FloatTensor(10,4,5)\n",
        "torch.bmm(x1,x2).size()"
      ],
      "metadata": {
        "colab": {
          "base_uri": "https://localhost:8080/"
        },
        "id": "J7zLphwcB4Kd",
        "outputId": "e7bacc3a-788a-4d83-a867-683b7bced756"
      },
      "execution_count": 40,
      "outputs": [
        {
          "output_type": "execute_result",
          "data": {
            "text/plain": [
              "torch.Size([10, 3, 5])"
            ]
          },
          "metadata": {},
          "execution_count": 40
        }
      ]
    },
    {
      "cell_type": "code",
      "source": [
        "# torch.dot(tensor1,tensor2) : 내적 연산\n",
        "x1 = torch.tensor([2, 3])\n",
        "x2 = torch.tensor([2, 1])\n",
        "torch.dot(x1,x2)"
      ],
      "metadata": {
        "colab": {
          "base_uri": "https://localhost:8080/"
        },
        "id": "3gL5FkMpB57_",
        "outputId": "c2455dae-405c-4ad9-e71a-4b40c28cc9b8"
      },
      "execution_count": 41,
      "outputs": [
        {
          "output_type": "execute_result",
          "data": {
            "text/plain": [
              "tensor(7)"
            ]
          },
          "metadata": {},
          "execution_count": 41
        }
      ]
    },
    {
      "cell_type": "code",
      "source": [
        "# torch.t(matrix) : 행렬의 전치\n",
        "x1 = torch.tensor([[1,2],[3,4]])\n",
        "print(x1,x1.t(),sep=\"\\n\")"
      ],
      "metadata": {
        "colab": {
          "base_uri": "https://localhost:8080/"
        },
        "id": "Dvr_OelsB7du",
        "outputId": "1fe6536a-de93-4883-ed1f-a11e2d802c10"
      },
      "execution_count": 42,
      "outputs": [
        {
          "output_type": "stream",
          "name": "stdout",
          "text": [
            "tensor([[1, 2],\n",
            "        [3, 4]])\n",
            "tensor([[1, 3],\n",
            "        [2, 4]])\n"
          ]
        }
      ]
    },
    {
      "cell_type": "code",
      "source": [
        "# torch.transpose(input,dim0,dim1) : 차원을 지정할 수 있는 행렬의 전치 연산\n",
        "x1 = torch.FloatTensor(10,3,4)\n",
        "print(\"1번 차원과 2번 차원을 전치\")\n",
        "print(x1.size(), torch.transpose(x1,1,2).size(), x1.transpose(1,2).size(),sep=\"\\n\")\n",
        "print(\"\\n0번 차원과 2번 차원을 전치\")\n",
        "print(x1.size(), torch.transpose(x1,0,2).size(), x1.transpose(0,2).size(),sep=\"\\n\")"
      ],
      "metadata": {
        "colab": {
          "base_uri": "https://localhost:8080/"
        },
        "id": "uOGWFXkXB9VW",
        "outputId": "bf1d524d-1db4-4d7a-a948-d6d61adb895f"
      },
      "execution_count": 43,
      "outputs": [
        {
          "output_type": "stream",
          "name": "stdout",
          "text": [
            "1번 차원과 2번 차원을 전치\n",
            "torch.Size([10, 3, 4])\n",
            "torch.Size([10, 4, 3])\n",
            "torch.Size([10, 4, 3])\n",
            "\n",
            "0번 차원과 2번 차원을 전치\n",
            "torch.Size([10, 3, 4])\n",
            "torch.Size([4, 3, 10])\n",
            "torch.Size([4, 3, 10])\n"
          ]
        }
      ]
    },
    {
      "cell_type": "code",
      "source": [],
      "metadata": {
        "id": "WtRhXGXzB_fV"
      },
      "execution_count": 43,
      "outputs": []
    }
  ]
}