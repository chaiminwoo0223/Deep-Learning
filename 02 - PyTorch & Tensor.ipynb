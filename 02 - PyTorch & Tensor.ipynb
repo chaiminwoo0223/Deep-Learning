{
  "nbformat": 4,
  "nbformat_minor": 0,
  "metadata": {
    "colab": {
      "provenance": [],
      "authorship_tag": "ABX9TyOf3fiFkVy0ZmlwNSvgHqHY",
      "include_colab_link": true
    },
    "kernelspec": {
      "name": "python3",
      "display_name": "Python 3"
    },
    "language_info": {
      "name": "python"
    },
    "accelerator": "GPU",
    "gpuClass": "standard"
  },
  "cells": [
    {
      "cell_type": "markdown",
      "metadata": {
        "id": "view-in-github",
        "colab_type": "text"
      },
      "source": [
        "<a href=\"https://colab.research.google.com/github/chaiminwoo0223/Deep-Learning/blob/main/02%20-%20PyTorch%20%26%20Tensor.ipynb\" target=\"_parent\"><img src=\"https://colab.research.google.com/assets/colab-badge.svg\" alt=\"Open In Colab\"/></a>"
      ]
    },
    {
      "cell_type": "markdown",
      "source": [
        "## 1.Tensor"
      ],
      "metadata": {
        "id": "4gq80lrmx-qX"
      }
    },
    {
      "cell_type": "code",
      "execution_count": 1,
      "metadata": {
        "colab": {
          "base_uri": "https://localhost:8080/"
        },
        "id": "G-ewQUh2xyI1",
        "outputId": "ca728908-3bb7-4df1-95cc-8724095ed2a5"
      },
      "outputs": [
        {
          "output_type": "stream",
          "name": "stdout",
          "text": [
            "Looking in indexes: https://pypi.org/simple, https://us-python.pkg.dev/colab-wheels/public/simple/\n",
            "Requirement already satisfied: torch in /usr/local/lib/python3.9/dist-packages (1.13.1+cu116)\n",
            "Requirement already satisfied: torchvision in /usr/local/lib/python3.9/dist-packages (0.14.1+cu116)\n",
            "Requirement already satisfied: typing-extensions in /usr/local/lib/python3.9/dist-packages (from torch) (4.5.0)\n",
            "Requirement already satisfied: requests in /usr/local/lib/python3.9/dist-packages (from torchvision) (2.25.1)\n",
            "Requirement already satisfied: pillow!=8.3.*,>=5.3.0 in /usr/local/lib/python3.9/dist-packages (from torchvision) (8.4.0)\n",
            "Requirement already satisfied: numpy in /usr/local/lib/python3.9/dist-packages (from torchvision) (1.22.4)\n",
            "Requirement already satisfied: chardet<5,>=3.0.2 in /usr/local/lib/python3.9/dist-packages (from requests->torchvision) (4.0.0)\n",
            "Requirement already satisfied: urllib3<1.27,>=1.21.1 in /usr/local/lib/python3.9/dist-packages (from requests->torchvision) (1.26.15)\n",
            "Requirement already satisfied: idna<3,>=2.5 in /usr/local/lib/python3.9/dist-packages (from requests->torchvision) (2.10)\n",
            "Requirement already satisfied: certifi>=2017.4.17 in /usr/local/lib/python3.9/dist-packages (from requests->torchvision) (2022.12.7)\n"
          ]
        }
      ],
      "source": [
        "!pip3 install torch torchvision\n",
        "import torch"
      ]
    },
    {
      "cell_type": "code",
      "source": [
        "# torch.rand() : [0,1)\n",
        "x = torch.rand(2,3)\n",
        "print(x)"
      ],
      "metadata": {
        "colab": {
          "base_uri": "https://localhost:8080/"
        },
        "id": "i-iV5wNcyNNL",
        "outputId": "0073baf3-f7af-4121-a963-ceb975180ae5"
      },
      "execution_count": 2,
      "outputs": [
        {
          "output_type": "stream",
          "name": "stdout",
          "text": [
            "tensor([[0.8772, 0.0704, 0.8141],\n",
            "        [0.7371, 0.6139, 0.8543]])\n"
          ]
        }
      ]
    },
    {
      "cell_type": "code",
      "source": [
        "# torch.randn() : 가우시안 정규분포에서 샘플링한 값\n",
        "# Random Normal\n",
        "x = torch.randn(2,3)\n",
        "print(x)"
      ],
      "metadata": {
        "colab": {
          "base_uri": "https://localhost:8080/"
        },
        "id": "V0-Hksbyyh_2",
        "outputId": "d484af59-e224-4800-8109-d142e4e41748"
      },
      "execution_count": 3,
      "outputs": [
        {
          "output_type": "stream",
          "name": "stdout",
          "text": [
            "tensor([[ 0.9136, -0.1716,  2.3309],\n",
            "        [-0.0245,  1.0274,  1.4108]])\n"
          ]
        }
      ]
    },
    {
      "cell_type": "code",
      "source": [
        "# torch.randint() : 시작과 끝 사이의 랜덤한 자연수\n",
        "# Random Integer\n",
        "x = torch.randint(2,5,size=(2,3))\n",
        "print(x)"
      ],
      "metadata": {
        "colab": {
          "base_uri": "https://localhost:8080/"
        },
        "id": "LJlssAtDzTpp",
        "outputId": "c89b39a6-501f-48a6-ebd8-8a7df07367bc"
      },
      "execution_count": 4,
      "outputs": [
        {
          "output_type": "stream",
          "name": "stdout",
          "text": [
            "tensor([[2, 3, 4],\n",
            "        [2, 4, 4]])\n"
          ]
        }
      ]
    },
    {
      "cell_type": "markdown",
      "source": [
        "## 2.Zeros & Ones"
      ],
      "metadata": {
        "id": "eWcQdUYq0g19"
      }
    },
    {
      "cell_type": "code",
      "source": [
        "# torch.zeros() : 0으로 채워진 텐서\n",
        "x = torch.zeros(2,3)\n",
        "print(x)"
      ],
      "metadata": {
        "colab": {
          "base_uri": "https://localhost:8080/"
        },
        "id": "6xrNsO07z8Un",
        "outputId": "f496d341-d3ce-47f4-869a-96fbbce3f615"
      },
      "execution_count": 5,
      "outputs": [
        {
          "output_type": "stream",
          "name": "stdout",
          "text": [
            "tensor([[0., 0., 0.],\n",
            "        [0., 0., 0.]])\n"
          ]
        }
      ]
    },
    {
      "cell_type": "code",
      "source": [
        "# 인자로 들어오는 텐서와 형태가 같은 0으로 채워진 텐서\n",
        "ref = torch.rand(4,5)\n",
        "x = torch.zeros_like(ref)\n",
        "print(ref)\n",
        "print(x)"
      ],
      "metadata": {
        "colab": {
          "base_uri": "https://localhost:8080/"
        },
        "id": "WVmi7qE91B3x",
        "outputId": "09095d8c-c08a-4912-f841-e386b15b5c57"
      },
      "execution_count": 6,
      "outputs": [
        {
          "output_type": "stream",
          "name": "stdout",
          "text": [
            "tensor([[0.1317, 0.4385, 0.5935, 0.3210, 0.9281],\n",
            "        [0.0373, 0.2935, 0.4295, 0.3403, 0.0665],\n",
            "        [0.9668, 0.6958, 0.5435, 0.4388, 0.0056],\n",
            "        [0.7098, 0.7814, 0.3542, 0.5929, 0.0185]])\n",
            "tensor([[0., 0., 0., 0., 0.],\n",
            "        [0., 0., 0., 0., 0.],\n",
            "        [0., 0., 0., 0., 0.],\n",
            "        [0., 0., 0., 0., 0.]])\n"
          ]
        }
      ]
    },
    {
      "cell_type": "code",
      "source": [
        "# torch.ones() : 1로 채워진 텐서\n",
        "x = torch.ones(2,3)\n",
        "print(x)"
      ],
      "metadata": {
        "colab": {
          "base_uri": "https://localhost:8080/"
        },
        "id": "CArX63av1RLU",
        "outputId": "3434b2c3-c48e-4762-a2fa-2879b2e11576"
      },
      "execution_count": 7,
      "outputs": [
        {
          "output_type": "stream",
          "name": "stdout",
          "text": [
            "tensor([[1., 1., 1.],\n",
            "        [1., 1., 1.]])\n"
          ]
        }
      ]
    },
    {
      "cell_type": "code",
      "source": [
        "# 인자로 들어오는 텐서와 형태가 같은 1로 채워진 텐서\n",
        "ref = torch.rand(4,5)\n",
        "x = torch.ones_like(ref)\n",
        "print(ref)\n",
        "print(x)"
      ],
      "metadata": {
        "colab": {
          "base_uri": "https://localhost:8080/"
        },
        "id": "FldgvzSm1ycZ",
        "outputId": "d1cd77b9-7611-40bd-f28b-7304f0270bdf"
      },
      "execution_count": 8,
      "outputs": [
        {
          "output_type": "stream",
          "name": "stdout",
          "text": [
            "tensor([[0.2866, 0.1946, 0.4894, 0.6048, 0.7831],\n",
            "        [0.8903, 0.6492, 0.6037, 0.5959, 0.1513],\n",
            "        [0.2834, 0.9764, 0.8426, 0.9720, 0.1462],\n",
            "        [0.9878, 0.4509, 0.5387, 0.8407, 0.2249]])\n",
            "tensor([[1., 1., 1., 1., 1.],\n",
            "        [1., 1., 1., 1., 1.],\n",
            "        [1., 1., 1., 1., 1.],\n",
            "        [1., 1., 1., 1., 1.]])\n"
          ]
        }
      ]
    },
    {
      "cell_type": "markdown",
      "source": [
        "## 3.Tensor Data Type"
      ],
      "metadata": {
        "id": "4OnIspAh1_R4"
      }
    },
    {
      "cell_type": "code",
      "source": [
        "# tensor.type() : 텐서의 데이터 타입을 리턴\n",
        "x = torch.rand(2,3)\n",
        "print(x.type())    # 파이토치에 정의된 메소드\n",
        "print(type(x))     # 파이썬에 정의된 함수"
      ],
      "metadata": {
        "colab": {
          "base_uri": "https://localhost:8080/"
        },
        "id": "5PVrqS-710sk",
        "outputId": "d4e8912e-8ea9-4ac9-bff0-4295713d781d"
      },
      "execution_count": 9,
      "outputs": [
        {
          "output_type": "stream",
          "name": "stdout",
          "text": [
            "torch.FloatTensor\n",
            "<class 'torch.Tensor'>\n"
          ]
        }
      ]
    },
    {
      "cell_type": "code",
      "source": [
        "# tensor.type()을 dtype과 함께 사용하면, 텐서의 데이터 타입을 dtype에 넣어준 데이터 타입으로 변환\n",
        "double_x = x.type(dtype=torch.DoubleTensor)\n",
        "print(double_x.type())"
      ],
      "metadata": {
        "colab": {
          "base_uri": "https://localhost:8080/"
        },
        "id": "il2vKF3o2qK9",
        "outputId": "4de28563-93fd-4d8a-dc1d-6b705ee2b914"
      },
      "execution_count": 10,
      "outputs": [
        {
          "output_type": "stream",
          "name": "stdout",
          "text": [
            "torch.DoubleTensor\n"
          ]
        }
      ]
    },
    {
      "cell_type": "code",
      "source": [
        "# tensor.type_as() : 텐서의 데이터 타입을 변환\n",
        "int_x = x.type_as(torch.IntTensor())\n",
        "print(int_x.type())"
      ],
      "metadata": {
        "colab": {
          "base_uri": "https://localhost:8080/"
        },
        "id": "-n6YIQ1R3xMk",
        "outputId": "37144dd8-135b-45e3-be72-fb24891c0bb3"
      },
      "execution_count": 11,
      "outputs": [
        {
          "output_type": "stream",
          "name": "stdout",
          "text": [
            "torch.IntTensor\n"
          ]
        }
      ]
    },
    {
      "cell_type": "markdown",
      "source": [
        "## 4.Numpy to Tensor & Tensor to Numpy"
      ],
      "metadata": {
        "id": "YzVRJX0c5MDx"
      }
    },
    {
      "cell_type": "code",
      "source": [
        "import numpy as np"
      ],
      "metadata": {
        "id": "_e9ZFSpM4tJU"
      },
      "execution_count": 12,
      "outputs": []
    },
    {
      "cell_type": "code",
      "source": [
        "# torch.from_numpy(ndarray) : 넘파이 배열을 토치 텐서로 변환\n",
        "x1 = np.ndarray(shape=(2,3), dtype=int,buffer=np.array([1,2,3,4,5,6]))\n",
        "x2 = torch.from_numpy(x1)\n",
        "print(x1)\n",
        "print(x2, x2.type())"
      ],
      "metadata": {
        "colab": {
          "base_uri": "https://localhost:8080/"
        },
        "id": "xiEkBloC5YKc",
        "outputId": "d27e1936-7932-45f1-9f44-dddcc738f9a4"
      },
      "execution_count": 13,
      "outputs": [
        {
          "output_type": "stream",
          "name": "stdout",
          "text": [
            "[[1 2 3]\n",
            " [4 5 6]]\n",
            "tensor([[1, 2, 3],\n",
            "        [4, 5, 6]]) torch.LongTensor\n"
          ]
        }
      ]
    },
    {
      "cell_type": "code",
      "source": [
        "# tensor.numpy() : 토치 텐서를 넘파이 배열로 변환\n",
        "x3 = x2.numpy()\n",
        "print(x2)\n",
        "print(x3)"
      ],
      "metadata": {
        "colab": {
          "base_uri": "https://localhost:8080/"
        },
        "id": "-fwjq0Hb6dZv",
        "outputId": "59d5d515-a0f7-46c6-e5ab-4c0f70f8d1bc"
      },
      "execution_count": 14,
      "outputs": [
        {
          "output_type": "stream",
          "name": "stdout",
          "text": [
            "tensor([[1, 2, 3],\n",
            "        [4, 5, 6]])\n",
            "[[1 2 3]\n",
            " [4 5 6]]\n"
          ]
        }
      ]
    },
    {
      "cell_type": "markdown",
      "source": [
        "## 5.Tensor on CPU & GPU"
      ],
      "metadata": {
        "id": "s-PJ_kBg7urX"
      }
    },
    {
      "cell_type": "code",
      "source": [
        "# 배열을 인자로 넣어 토치 텐서를 생성\n",
        "x = torch.FloatTensor([[1,2,3],[4,5,6]])\n",
        "print(x)"
      ],
      "metadata": {
        "colab": {
          "base_uri": "https://localhost:8080/"
        },
        "id": "ndJ9xW0_7BQT",
        "outputId": "e628eca1-bc76-42b6-91b0-c09991fbff64"
      },
      "execution_count": 15,
      "outputs": [
        {
          "output_type": "stream",
          "name": "stdout",
          "text": [
            "tensor([[1., 2., 3.],\n",
            "        [4., 5., 6.]])\n"
          ]
        }
      ]
    },
    {
      "cell_type": "code",
      "source": [
        "# device 함수를 사용해, 텐서를 원하는 장치로 이동\n",
        "cpu = torch.device('cpu')\n",
        "gpu = torch.device('cuda')"
      ],
      "metadata": {
        "id": "jK_eq8cM8PUE"
      },
      "execution_count": 16,
      "outputs": []
    },
    {
      "cell_type": "code",
      "source": [
        "# gpu가 사용 가능한지 체크\n",
        "# .to 함수를 이용해, 지정한 장치로 이동\n",
        "if torch.cuda.is_available():\n",
        "  x_gpu = x.to(gpu)\n",
        "  print(x_gpu)\n",
        "  \n",
        "x_cpu = x_gpu.to(cpu)\n",
        "print(x_cpu)"
      ],
      "metadata": {
        "colab": {
          "base_uri": "https://localhost:8080/"
        },
        "id": "ZYmRetBw8oQh",
        "outputId": "cdb075f1-de81-43a0-ba12-73970c05bc4f"
      },
      "execution_count": 17,
      "outputs": [
        {
          "output_type": "stream",
          "name": "stdout",
          "text": [
            "tensor([[1., 2., 3.],\n",
            "        [4., 5., 6.]], device='cuda:0')\n",
            "tensor([[1., 2., 3.],\n",
            "        [4., 5., 6.]])\n"
          ]
        }
      ]
    },
    {
      "cell_type": "code",
      "source": [
        "# tensor.size() : 텐서의 형태를 확인\n",
        "\n",
        "# 대괄호 없음 = 사이즈를 지정\n",
        "x = torch.FloatTensor(10,12,3,3)\n",
        "print(x.size(), x.size()[1:2], sep=\"\\n\")\n",
        "# 대괄호 있음 = 값을 지정\n",
        "x = torch.FloatTensor([10,12,3,3])\n",
        "print(x.size(), x.size()[0], sep=\"\\n\")"
      ],
      "metadata": {
        "id": "xw1edLuC9Sxw",
        "colab": {
          "base_uri": "https://localhost:8080/"
        },
        "outputId": "c560d331-87f0-4d2f-ae05-4a938fae7131"
      },
      "execution_count": 18,
      "outputs": [
        {
          "output_type": "stream",
          "name": "stdout",
          "text": [
            "torch.Size([10, 12, 3, 3])\n",
            "torch.Size([12])\n",
            "torch.Size([4])\n",
            "4\n"
          ]
        }
      ]
    },
    {
      "cell_type": "markdown",
      "source": [
        "## 6.Indexing, Joining, Slicing & Squeezing"
      ],
      "metadata": {
        "id": "YcCGqW0kqtr7"
      }
    },
    {
      "cell_type": "code",
      "source": [
        "# Indexing\n",
        "x = torch.randn(4,3)\n",
        "print(x)\n",
        "print(x[1:3])"
      ],
      "metadata": {
        "id": "wVlJrSC593cA",
        "colab": {
          "base_uri": "https://localhost:8080/"
        },
        "outputId": "3adb00fa-767b-4d93-ab11-27a3a61e16c4"
      },
      "execution_count": 19,
      "outputs": [
        {
          "output_type": "stream",
          "name": "stdout",
          "text": [
            "tensor([[ 1.4208,  0.0349, -0.6480],\n",
            "        [ 1.4197,  1.7451,  0.1562],\n",
            "        [ 0.4025,  1.4205,  0.6988],\n",
            "        [ 0.2139, -0.4264, -0.8219]])\n",
            "tensor([[1.4197, 1.7451, 0.1562],\n",
            "        [0.4025, 1.4205, 0.6988]])\n"
          ]
        }
      ]
    },
    {
      "cell_type": "code",
      "source": [
        "# torch.index_select() : 지정한 차원 기준으로 원하는 값들을 선택할 수 있음\n",
        "selected = torch.index_select(x,dim=1,index=torch.LongTensor([0,2]))\n",
        "print(x)\n",
        "print(selected)"
      ],
      "metadata": {
        "colab": {
          "base_uri": "https://localhost:8080/"
        },
        "id": "u5OodLfRrN8C",
        "outputId": "eee27c23-e446-4c32-8fd8-cde745da3851"
      },
      "execution_count": 20,
      "outputs": [
        {
          "output_type": "stream",
          "name": "stdout",
          "text": [
            "tensor([[ 1.4208,  0.0349, -0.6480],\n",
            "        [ 1.4197,  1.7451,  0.1562],\n",
            "        [ 0.4025,  1.4205,  0.6988],\n",
            "        [ 0.2139, -0.4264, -0.8219]])\n",
            "tensor([[ 1.4208, -0.6480],\n",
            "        [ 1.4197,  0.1562],\n",
            "        [ 0.4025,  0.6988],\n",
            "        [ 0.2139, -0.8219]])\n"
          ]
        }
      ]
    },
    {
      "cell_type": "code",
      "source": [
        "# torch.masked_select(input, mask) : 뽑고자 하는 값들을 마스킹해서 선택할 수 있음\n",
        "x = torch.randn(2,3)\n",
        "mask = torch.ByteTensor([[0,0,1],[0,1,0]])\n",
        "out = torch.masked_select(x,mask)\n",
        "print(x, mask, out, sep=\"\\n\\n\")"
      ],
      "metadata": {
        "colab": {
          "base_uri": "https://localhost:8080/"
        },
        "id": "ruduxZvzsR-r",
        "outputId": "f620b9dd-15d2-4f4f-d29a-92e284893ac6"
      },
      "execution_count": 21,
      "outputs": [
        {
          "output_type": "stream",
          "name": "stdout",
          "text": [
            "tensor([[-0.4093,  0.1279, -0.8201],\n",
            "        [-0.2035,  0.9671,  0.9210]])\n",
            "\n",
            "tensor([[0, 0, 1],\n",
            "        [0, 1, 0]], dtype=torch.uint8)\n",
            "\n",
            "tensor([-0.8201,  0.9671])\n"
          ]
        },
        {
          "output_type": "stream",
          "name": "stderr",
          "text": [
            "<ipython-input-21-1b7d35e77d78>:4: UserWarning: masked_select received a mask with dtype torch.uint8, this behavior is now deprecated,please use a mask with dtype torch.bool instead. (Triggered internally at ../aten/src/ATen/native/TensorAdvancedIndexing.cpp:1729.)\n",
            "  out = torch.masked_select(x,mask)\n"
          ]
        }
      ]
    },
    {
      "cell_type": "code",
      "source": [
        "# torch.cat(seq, dim=0) : 텐서를 원하는대로 붙일 수 있음\n",
        "x = torch.FloatTensor([[1,2,3],[4,5,6]])       # 2*3\n",
        "y = torch.FloatTensor([[-1,-2,-3],[-4,-5,-6]]) # 2*3\n",
        "z1 = torch.cat([x,y],dim=0)                    # 4*3\n",
        "z2 = torch.cat([x,y],dim=1)                    # 2*6\n",
        "print(x,y,z1,z2,sep=\"\\n\\n\")"
      ],
      "metadata": {
        "colab": {
          "base_uri": "https://localhost:8080/"
        },
        "id": "To0NaiSotcia",
        "outputId": "d786d245-cfc4-4e59-ba29-22ab4db3c1bb"
      },
      "execution_count": 22,
      "outputs": [
        {
          "output_type": "stream",
          "name": "stdout",
          "text": [
            "tensor([[1., 2., 3.],\n",
            "        [4., 5., 6.]])\n",
            "\n",
            "tensor([[-1., -2., -3.],\n",
            "        [-4., -5., -6.]])\n",
            "\n",
            "tensor([[ 1.,  2.,  3.],\n",
            "        [ 4.,  5.,  6.],\n",
            "        [-1., -2., -3.],\n",
            "        [-4., -5., -6.]])\n",
            "\n",
            "tensor([[ 1.,  2.,  3., -1., -2., -3.],\n",
            "        [ 4.,  5.,  6., -4., -5., -6.]])\n"
          ]
        }
      ]
    },
    {
      "cell_type": "code",
      "source": [
        "# torch.stack(seq, dim=0) : 텐서를 원하는대로 붙일 수 있음(차원 확장)\n",
        "x = torch.FloatTensor([[1,2,3],[4,5,6]]) # 2*3\n",
        "x_stack = torch.stack([x,x,x,x],dim=0)   # 4*2*3\n",
        "print(x_stack,x_stack.size(),sep=\"\\n\\n\")"
      ],
      "metadata": {
        "colab": {
          "base_uri": "https://localhost:8080/"
        },
        "id": "tQbhKwLWu6zS",
        "outputId": "531b28bc-09af-4aa2-e852-d4e72a60e0b4"
      },
      "execution_count": 23,
      "outputs": [
        {
          "output_type": "stream",
          "name": "stdout",
          "text": [
            "tensor([[[1., 2., 3.],\n",
            "         [4., 5., 6.]],\n",
            "\n",
            "        [[1., 2., 3.],\n",
            "         [4., 5., 6.]],\n",
            "\n",
            "        [[1., 2., 3.],\n",
            "         [4., 5., 6.]],\n",
            "\n",
            "        [[1., 2., 3.],\n",
            "         [4., 5., 6.]]])\n",
            "\n",
            "torch.Size([4, 2, 3])\n"
          ]
        }
      ]
    },
    {
      "cell_type": "code",
      "source": [
        "# torch.chunk(tensor, chunks, dim=0) : 텐서를 원하는 chunk 개수만큼 분리할 수 있음\n",
        "x_1, x_2 = torch.chunk(z1,2,dim=0)\n",
        "y_1, y_2, y_3 = torch.chunk(z1,3,dim=1)\n",
        "print(z1,x_1,x_2,z1,y_1,y_2,y_3,sep=\"\\n\\n\")"
      ],
      "metadata": {
        "colab": {
          "base_uri": "https://localhost:8080/"
        },
        "id": "efuLSK7lv9Pv",
        "outputId": "9b3b5761-e4a9-4026-b827-b12ab526b584"
      },
      "execution_count": 24,
      "outputs": [
        {
          "output_type": "stream",
          "name": "stdout",
          "text": [
            "tensor([[ 1.,  2.,  3.],\n",
            "        [ 4.,  5.,  6.],\n",
            "        [-1., -2., -3.],\n",
            "        [-4., -5., -6.]])\n",
            "\n",
            "tensor([[1., 2., 3.],\n",
            "        [4., 5., 6.]])\n",
            "\n",
            "tensor([[-1., -2., -3.],\n",
            "        [-4., -5., -6.]])\n",
            "\n",
            "tensor([[ 1.,  2.,  3.],\n",
            "        [ 4.,  5.,  6.],\n",
            "        [-1., -2., -3.],\n",
            "        [-4., -5., -6.]])\n",
            "\n",
            "tensor([[ 1.],\n",
            "        [ 4.],\n",
            "        [-1.],\n",
            "        [-4.]])\n",
            "\n",
            "tensor([[ 2.],\n",
            "        [ 5.],\n",
            "        [-2.],\n",
            "        [-5.]])\n",
            "\n",
            "tensor([[ 3.],\n",
            "        [ 6.],\n",
            "        [-3.],\n",
            "        [-6.]])\n"
          ]
        }
      ]
    },
    {
      "cell_type": "code",
      "source": [
        "# torch.split(tensor, split_size, dim=0) : 원하는 사이즈로 텐서를 자를 수 있음\n",
        "x1,x2 = torch.split(z1,2,dim=0)\n",
        "y1 = torch.split(z1,2,dim=1) \n",
        "print(z1,x1,x2,sep=\"\\n\\n\")\n",
        "print(\"This is y1:\")\n",
        "for i in y1:\n",
        "  print(i)"
      ],
      "metadata": {
        "colab": {
          "base_uri": "https://localhost:8080/"
        },
        "id": "uFcNhgCmyC6I",
        "outputId": "7e60ad74-aaa8-4e57-fd60-100facd0fea8"
      },
      "execution_count": 25,
      "outputs": [
        {
          "output_type": "stream",
          "name": "stdout",
          "text": [
            "tensor([[ 1.,  2.,  3.],\n",
            "        [ 4.,  5.,  6.],\n",
            "        [-1., -2., -3.],\n",
            "        [-4., -5., -6.]])\n",
            "\n",
            "tensor([[1., 2., 3.],\n",
            "        [4., 5., 6.]])\n",
            "\n",
            "tensor([[-1., -2., -3.],\n",
            "        [-4., -5., -6.]])\n",
            "This is y1:\n",
            "tensor([[ 1.,  2.],\n",
            "        [ 4.,  5.],\n",
            "        [-1., -2.],\n",
            "        [-4., -5.]])\n",
            "tensor([[ 3.],\n",
            "        [ 6.],\n",
            "        [-3.],\n",
            "        [-6.]])\n"
          ]
        }
      ]
    },
    {
      "cell_type": "code",
      "source": [
        "# torch.squeeze(input, dim=None) : 길이가 1인 차원들을 압축시킬 수 있음\n",
        "x1 = torch.FloatTensor(10,1,3,1,4)\n",
        "x2 = torch.squeeze(x1)\n",
        "print(x1.size(),x2.size(),sep=\"\\n\")"
      ],
      "metadata": {
        "colab": {
          "base_uri": "https://localhost:8080/"
        },
        "id": "XhR9jurT0Fr6",
        "outputId": "4b5b4731-112e-4620-a2c1-92e10d0f724a"
      },
      "execution_count": 26,
      "outputs": [
        {
          "output_type": "stream",
          "name": "stdout",
          "text": [
            "torch.Size([10, 1, 3, 1, 4])\n",
            "torch.Size([10, 3, 4])\n"
          ]
        }
      ]
    },
    {
      "cell_type": "code",
      "source": [
        "# torch.unsqueeze(input, dim=None) 차원을 늘릴수 있음\n",
        "x1 = torch.FloatTensor(10,3,4)\n",
        "x2 = torch.unsqueeze(x1,dim=0)\n",
        "print(x1.size(),x2.size(),sep=\"\\n\")"
      ],
      "metadata": {
        "colab": {
          "base_uri": "https://localhost:8080/"
        },
        "id": "p7XUveM00b4v",
        "outputId": "812f93bf-1870-4a51-8745-f4d0d3aa1721"
      },
      "execution_count": 27,
      "outputs": [
        {
          "output_type": "stream",
          "name": "stdout",
          "text": [
            "torch.Size([10, 3, 4])\n",
            "torch.Size([1, 10, 3, 4])\n"
          ]
        }
      ]
    },
    {
      "cell_type": "markdown",
      "source": [
        "## 7.Initialization"
      ],
      "metadata": {
        "id": "BtDuIZFL1yam"
      }
    },
    {
      "cell_type": "code",
      "source": [
        "import torch.nn.init as init"
      ],
      "metadata": {
        "id": "R8qNTPyM0zmc"
      },
      "execution_count": 28,
      "outputs": []
    },
    {
      "cell_type": "code",
      "source": [
        "# uniform 분포를 따라 텐서를 초기화 할 수 있음\n",
        "x1 = init.uniform_(torch.FloatTensor(3,4),a=0,b=9)\n",
        "# 정규 분포를 따라 텐서를 초기화 할 수 있음\n",
        "x2 = init.normal_(torch.FloatTensor(3,4),std=0.2)\n",
        "# 지정한 값으로 텐서를 초기화 할 수 있음\n",
        "x3 = init.constant_(torch.FloatTensor(3,4),3.1415)\n",
        "print(x1,x2,x3,sep=\"\\n\")"
      ],
      "metadata": {
        "colab": {
          "base_uri": "https://localhost:8080/"
        },
        "id": "Ff0l8OHQ18wp",
        "outputId": "8919fed5-2387-4b99-a275-61a0576622cc"
      },
      "execution_count": 29,
      "outputs": [
        {
          "output_type": "stream",
          "name": "stdout",
          "text": [
            "tensor([[3.9503, 6.5511, 2.7675, 3.4845],\n",
            "        [4.9483, 6.6483, 1.9532, 3.7335],\n",
            "        [1.9059, 4.5754, 2.0802, 0.9299]])\n",
            "tensor([[-0.0133,  0.0558, -0.1386,  0.1330],\n",
            "        [ 0.1830,  0.1559,  0.3344, -0.0734],\n",
            "        [-0.4524, -0.3174,  0.0463, -0.0721]])\n",
            "tensor([[3.1415, 3.1415, 3.1415, 3.1415],\n",
            "        [3.1415, 3.1415, 3.1415, 3.1415],\n",
            "        [3.1415, 3.1415, 3.1415, 3.1415]])\n"
          ]
        }
      ]
    },
    {
      "cell_type": "markdown",
      "source": [
        "## 8.Math Operations"
      ],
      "metadata": {
        "id": "_Jc2mXq93DDW"
      }
    },
    {
      "cell_type": "code",
      "source": [
        "# torch.add(): 더하기 연산\n",
        "x1 = torch.FloatTensor([[1,2,3],[4,5,6]])\n",
        "x2 = torch.FloatTensor([[1,2,3],[4,5,6]])\n",
        "add = torch.add(x1,x2)\n",
        "print(x1,x2,add,x1+x2,sep=\"\\n\")"
      ],
      "metadata": {
        "colab": {
          "base_uri": "https://localhost:8080/"
        },
        "id": "tHmlQsJ62Qiw",
        "outputId": "6b09f203-bb14-4f9e-e7d5-020884ab0a65"
      },
      "execution_count": 30,
      "outputs": [
        {
          "output_type": "stream",
          "name": "stdout",
          "text": [
            "tensor([[1., 2., 3.],\n",
            "        [4., 5., 6.]])\n",
            "tensor([[1., 2., 3.],\n",
            "        [4., 5., 6.]])\n",
            "tensor([[ 2.,  4.,  6.],\n",
            "        [ 8., 10., 12.]])\n",
            "tensor([[ 2.,  4.,  6.],\n",
            "        [ 8., 10., 12.]])\n"
          ]
        }
      ]
    },
    {
      "cell_type": "code",
      "source": [
        "# torch.add() -> broadcasting\n",
        "x1 = torch.FloatTensor([[1,2,3],[4,5,6]])\n",
        "x2 = torch.add(x1,10)\n",
        "print(x1,x2,x1+10,sep=\"\\n\")"
      ],
      "metadata": {
        "colab": {
          "base_uri": "https://localhost:8080/"
        },
        "id": "-hJym5fd3aux",
        "outputId": "5552d54b-f1c0-4594-acb7-cc807bc3103d"
      },
      "execution_count": 31,
      "outputs": [
        {
          "output_type": "stream",
          "name": "stdout",
          "text": [
            "tensor([[1., 2., 3.],\n",
            "        [4., 5., 6.]])\n",
            "tensor([[11., 12., 13.],\n",
            "        [14., 15., 16.]])\n",
            "tensor([[11., 12., 13.],\n",
            "        [14., 15., 16.]])\n"
          ]
        }
      ]
    },
    {
      "cell_type": "code",
      "source": [
        "# torch.sub(): 빼기 연산\n",
        "x1 = torch.FloatTensor([[1,2,3],[4,5,6]])\n",
        "x2 = torch.FloatTensor([[1,2,3],[4,5,6]])\n",
        "sub = torch.sub(x1,x2)\n",
        "print(x1,x2,sub,x1-x2,sep=\"\\n\")"
      ],
      "metadata": {
        "colab": {
          "base_uri": "https://localhost:8080/"
        },
        "id": "un6pSu_k6SSu",
        "outputId": "86169354-f80f-4c47-c72e-4640ae2e1c0b"
      },
      "execution_count": 32,
      "outputs": [
        {
          "output_type": "stream",
          "name": "stdout",
          "text": [
            "tensor([[1., 2., 3.],\n",
            "        [4., 5., 6.]])\n",
            "tensor([[1., 2., 3.],\n",
            "        [4., 5., 6.]])\n",
            "tensor([[0., 0., 0.],\n",
            "        [0., 0., 0.]])\n",
            "tensor([[0., 0., 0.],\n",
            "        [0., 0., 0.]])\n"
          ]
        }
      ]
    },
    {
      "cell_type": "code",
      "source": [
        "# torch.sub() -> broadcasting\n",
        "x1 = torch.FloatTensor([[1,2,3],[4,5,6]])\n",
        "x2 = torch.sub(x1,10)\n",
        "print(x1,x2,x1-10,sep=\"\\n\")"
      ],
      "metadata": {
        "colab": {
          "base_uri": "https://localhost:8080/"
        },
        "id": "w4N3xoWv64pR",
        "outputId": "a98d2472-4759-49ef-990f-ffa845bce82f"
      },
      "execution_count": 33,
      "outputs": [
        {
          "output_type": "stream",
          "name": "stdout",
          "text": [
            "tensor([[1., 2., 3.],\n",
            "        [4., 5., 6.]])\n",
            "tensor([[-9., -8., -7.],\n",
            "        [-6., -5., -4.]])\n",
            "tensor([[-9., -8., -7.],\n",
            "        [-6., -5., -4.]])\n"
          ]
        }
      ]
    },
    {
      "cell_type": "code",
      "source": [
        "# torch.mul() : 곱하기 연산(사이즈 일치)\n",
        "x1 = torch.FloatTensor([[1,2,3],[4,5,6]])\n",
        "x2 = torch.FloatTensor([[1,2,3],[4,5,6]])\n",
        "x3 = torch.mul(x1,x2)\n",
        "print(x3)"
      ],
      "metadata": {
        "colab": {
          "base_uri": "https://localhost:8080/"
        },
        "id": "wBYXDXqV3zbs",
        "outputId": "a9227943-939f-40a8-a5ce-6a49be0b6868"
      },
      "execution_count": 34,
      "outputs": [
        {
          "output_type": "stream",
          "name": "stdout",
          "text": [
            "tensor([[ 1.,  4.,  9.],\n",
            "        [16., 25., 36.]])\n"
          ]
        }
      ]
    },
    {
      "cell_type": "code",
      "source": [
        "# torch.mul() -> broadcasting\n",
        "x1 = torch.FloatTensor([[1,2,3],[4,5,6]])\n",
        "x2 = torch.mul(x1,10)\n",
        "print(x1,x2,x1*10,sep=\"\\n\")"
      ],
      "metadata": {
        "colab": {
          "base_uri": "https://localhost:8080/"
        },
        "id": "1raFjmUf4l1-",
        "outputId": "08f2957f-006b-41d9-9f62-3f0163c82f2d"
      },
      "execution_count": 35,
      "outputs": [
        {
          "output_type": "stream",
          "name": "stdout",
          "text": [
            "tensor([[1., 2., 3.],\n",
            "        [4., 5., 6.]])\n",
            "tensor([[10., 20., 30.],\n",
            "        [40., 50., 60.]])\n",
            "tensor([[10., 20., 30.],\n",
            "        [40., 50., 60.]])\n"
          ]
        }
      ]
    },
    {
      "cell_type": "code",
      "source": [
        "# torch.div() : 나누기 연산(사이즈 일치)\n",
        "x1 = torch.FloatTensor([[1,2,3],[4,5,6]])\n",
        "x2 = torch.FloatTensor([[1,2,3],[4,5,6]])\n",
        "x3 = torch.div(x1,x2)\n",
        "print(x3)"
      ],
      "metadata": {
        "colab": {
          "base_uri": "https://localhost:8080/"
        },
        "id": "-VExKoiR5h7i",
        "outputId": "1f6a0dd3-3882-4638-fdd0-c1aad78bf69c"
      },
      "execution_count": 36,
      "outputs": [
        {
          "output_type": "stream",
          "name": "stdout",
          "text": [
            "tensor([[1., 1., 1.],\n",
            "        [1., 1., 1.]])\n"
          ]
        }
      ]
    },
    {
      "cell_type": "code",
      "source": [
        "# torch.div() -> broadcasting\n",
        "x1 = torch.FloatTensor([[1,2,3],[4,5,6]])\n",
        "x2 = torch.div(x1,10)\n",
        "print(x1,x2,x1/10,sep=\"\\n\")"
      ],
      "metadata": {
        "colab": {
          "base_uri": "https://localhost:8080/"
        },
        "id": "n26CXN7K6DJU",
        "outputId": "8705d6b7-dc40-4ad7-a24e-852e783e992c"
      },
      "execution_count": 37,
      "outputs": [
        {
          "output_type": "stream",
          "name": "stdout",
          "text": [
            "tensor([[1., 2., 3.],\n",
            "        [4., 5., 6.]])\n",
            "tensor([[0.1000, 0.2000, 0.3000],\n",
            "        [0.4000, 0.5000, 0.6000]])\n",
            "tensor([[0.1000, 0.2000, 0.3000],\n",
            "        [0.4000, 0.5000, 0.6000]])\n"
          ]
        }
      ]
    },
    {
      "cell_type": "code",
      "source": [
        "x1 = torch.FloatTensor([[1,2,3],[4,5,6]])\n",
        "# torch.pow(input,exponent) : 파워 연산(x의 n승)\n",
        "x2 = torch.pow(x1,2)\n",
        "# torch.exp(tensor,out=None) : exponential 연산\n",
        "x3 = torch.exp(x1)\n",
        "# torch.log(input,out=None) : 로그 연산\n",
        "x4 = torch.log(x1)\n",
        "print(x1,x2,x3,x4,sep=\"\\n\")"
      ],
      "metadata": {
        "colab": {
          "base_uri": "https://localhost:8080/"
        },
        "id": "1u0emBEK6Jvi",
        "outputId": "f3a573a5-851c-419a-a190-82f513f967db"
      },
      "execution_count": 38,
      "outputs": [
        {
          "output_type": "stream",
          "name": "stdout",
          "text": [
            "tensor([[1., 2., 3.],\n",
            "        [4., 5., 6.]])\n",
            "tensor([[ 1.,  4.,  9.],\n",
            "        [16., 25., 36.]])\n",
            "tensor([[  2.7183,   7.3891,  20.0855],\n",
            "        [ 54.5981, 148.4132, 403.4288]])\n",
            "tensor([[0.0000, 0.6931, 1.0986],\n",
            "        [1.3863, 1.6094, 1.7918]])\n"
          ]
        }
      ]
    },
    {
      "cell_type": "markdown",
      "source": [
        "## 9.Matrix Operations"
      ],
      "metadata": {
        "id": "zGKQkGJFBupU"
      }
    },
    {
      "cell_type": "code",
      "source": [
        "# torch.mm(mat1,mat2) : 행렬곱 연산\n",
        "x1 = torch.FloatTensor(3,4)\n",
        "x2 = torch.FloatTensor(4,5)\n",
        "torch.mm(x1,x2).size()"
      ],
      "metadata": {
        "colab": {
          "base_uri": "https://localhost:8080/"
        },
        "id": "OXD-Je04A_iO",
        "outputId": "7677c131-2245-4540-c859-4f055780bb75"
      },
      "execution_count": 39,
      "outputs": [
        {
          "output_type": "execute_result",
          "data": {
            "text/plain": [
              "torch.Size([3, 5])"
            ]
          },
          "metadata": {},
          "execution_count": 39
        }
      ]
    },
    {
      "cell_type": "code",
      "source": [
        "# torch.bmm(batch1,batch2) : 배치 행렬곱 연산\n",
        "x1 = torch.FloatTensor(10,3,4)\n",
        "x2 = torch.FloatTensor(10,4,5)\n",
        "torch.bmm(x1,x2).size()"
      ],
      "metadata": {
        "colab": {
          "base_uri": "https://localhost:8080/"
        },
        "id": "J7zLphwcB4Kd",
        "outputId": "7124cdd8-cb96-477d-8e3f-12b75886fb55"
      },
      "execution_count": 40,
      "outputs": [
        {
          "output_type": "execute_result",
          "data": {
            "text/plain": [
              "torch.Size([10, 3, 5])"
            ]
          },
          "metadata": {},
          "execution_count": 40
        }
      ]
    },
    {
      "cell_type": "code",
      "source": [
        "# torch.dot(tensor1,tensor2) : 내적 연산\n",
        "x1 = torch.tensor([2, 3])\n",
        "x2 = torch.tensor([2, 1])\n",
        "torch.dot(x1,x2)"
      ],
      "metadata": {
        "colab": {
          "base_uri": "https://localhost:8080/"
        },
        "id": "3gL5FkMpB57_",
        "outputId": "7393d428-58ae-4d56-9121-00fe4fe97580"
      },
      "execution_count": 41,
      "outputs": [
        {
          "output_type": "execute_result",
          "data": {
            "text/plain": [
              "tensor(7)"
            ]
          },
          "metadata": {},
          "execution_count": 41
        }
      ]
    },
    {
      "cell_type": "code",
      "source": [
        "# torch.t(matrix) : 행렬의 전치\n",
        "x1 = torch.tensor([[1,2],[3,4]])\n",
        "print(x1,x1.t(),sep=\"\\n\")"
      ],
      "metadata": {
        "colab": {
          "base_uri": "https://localhost:8080/"
        },
        "id": "Dvr_OelsB7du",
        "outputId": "6e3a5607-b06c-4fb5-cca6-e97fd36ee92d"
      },
      "execution_count": 42,
      "outputs": [
        {
          "output_type": "stream",
          "name": "stdout",
          "text": [
            "tensor([[1, 2],\n",
            "        [3, 4]])\n",
            "tensor([[1, 3],\n",
            "        [2, 4]])\n"
          ]
        }
      ]
    },
    {
      "cell_type": "code",
      "source": [
        "# torch.transpose(input,dim0,dim1) : 차원을 지정할 수 있는 행렬의 전치 연산\n",
        "x1 = torch.FloatTensor(10,3,4)\n",
        "print(\"1번 차원과 2번 차원을 전치\")\n",
        "print(x1.size(), torch.transpose(x1,1,2).size(), x1.transpose(1,2).size(),sep=\"\\n\")\n",
        "print(\"\\n0번 차원과 2번 차원을 전치\")\n",
        "print(x1.size(), torch.transpose(x1,0,2).size(), x1.transpose(0,2).size(),sep=\"\\n\")"
      ],
      "metadata": {
        "colab": {
          "base_uri": "https://localhost:8080/"
        },
        "id": "uOGWFXkXB9VW",
        "outputId": "72a6277c-4531-4f0a-8048-ac574adaba16"
      },
      "execution_count": 43,
      "outputs": [
        {
          "output_type": "stream",
          "name": "stdout",
          "text": [
            "1번 차원과 2번 차원을 전치\n",
            "torch.Size([10, 3, 4])\n",
            "torch.Size([10, 4, 3])\n",
            "torch.Size([10, 4, 3])\n",
            "\n",
            "0번 차원과 2번 차원을 전치\n",
            "torch.Size([10, 3, 4])\n",
            "torch.Size([4, 3, 10])\n",
            "torch.Size([4, 3, 10])\n"
          ]
        }
      ]
    },
    {
      "cell_type": "code",
      "source": [],
      "metadata": {
        "id": "WtRhXGXzB_fV"
      },
      "execution_count": 43,
      "outputs": []
    }
  ]
}